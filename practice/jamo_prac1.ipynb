{
 "cells": [
  {
   "cell_type": "code",
   "execution_count": 1,
   "id": "1df92f65",
   "metadata": {},
   "outputs": [],
   "source": [
    "from hangul_utils import split_syllables, join_jamos\n",
    "\n",
    "sample_text = '''[리포트]\n",
    "\n",
    "어제만 해도 차갑던 저녁 공기가 한층 온화해졌어. 때맞춰 이곳 삼청동 길에도 사람들이 \n",
    "붐비고 있는데, 문제는 미세먼지야.\n",
    "\n",
    "대기정체로 먼지가 빠져나가지 못하면서, 내일까지는 곳곳에서 평소 두 세배 수준의 짙은 먼지가 \n",
    "나타나겠다. 연무가 남으면서 낮에도 시야가 뿌연 곳이 많겠다.'''"
   ]
  },
  {
   "cell_type": "code",
   "execution_count": 2,
   "id": "b09d3a81",
   "metadata": {},
   "outputs": [
    {
     "name": "stdout",
     "output_type": "stream",
     "text": [
      "[ㄹㅣㅍㅗㅌㅡ]\n",
      "\n",
      "ㅇㅓㅈㅔㅁㅏㄴ ㅎㅐㄷㅗ ㅊㅏㄱㅏㅂㄷㅓㄴ ㅈㅓㄴㅕㄱ ㄱㅗㅇㄱㅣㄱㅏ ㅎㅏㄴㅊㅡㅇ ㅇㅗㄴㅎㅘㅎㅐㅈㅕㅆㅇㅓ. ㄸㅐㅁㅏㅈㅊㅝ ㅇㅣㄱㅗㅅ ㅅㅏㅁㅊㅓㅇㄷㅗㅇ ㄱㅣㄹㅇㅔㄷㅗ ㅅㅏㄹㅏㅁㄷㅡㄹㅇㅣ \n",
      "ㅂㅜㅁㅂㅣㄱㅗ ㅇㅣㅆㄴㅡㄴㄷㅔ, ㅁㅜㄴㅈㅔㄴㅡㄴ ㅁㅣㅅㅔㅁㅓㄴㅈㅣㅇㅑ.\n",
      "\n",
      "ㄷㅐㄱㅣㅈㅓㅇㅊㅔㄹㅗ ㅁㅓㄴㅈㅣㄱㅏ ㅃㅏㅈㅕㄴㅏㄱㅏㅈㅣ ㅁㅗㅅㅎㅏㅁㅕㄴㅅㅓ, ㄴㅐㅇㅣㄹㄲㅏㅈㅣㄴㅡㄴ ㄱㅗㅅㄱㅗㅅㅇㅔㅅㅓ ㅍㅕㅇㅅㅗ ㄷㅜ ㅅㅔㅂㅐ ㅅㅜㅈㅜㄴㅇㅢ ㅈㅣㅌㅇㅡㄴ ㅁㅓㄴㅈㅣㄱㅏ \n",
      "ㄴㅏㅌㅏㄴㅏㄱㅔㅆㄷㅏ. ㅇㅕㄴㅁㅜㄱㅏ ㄴㅏㅁㅇㅡㅁㅕㄴㅅㅓ ㄴㅏㅈㅇㅔㄷㅗ ㅅㅣㅇㅑㄱㅏ ㅃㅜㅇㅕㄴ ㄱㅗㅅㅇㅣ ㅁㅏㄶㄱㅔㅆㄷㅏ.\n"
     ]
    }
   ],
   "source": [
    "jamo = split_syllables(sample_text)\n",
    "print(jamo)"
   ]
  },
  {
   "cell_type": "code",
   "execution_count": 3,
   "id": "4566351c",
   "metadata": {},
   "outputs": [
    {
     "name": "stdout",
     "output_type": "stream",
     "text": [
      "{'ㅎ': 0, 'ㅕ': 1, 'ㅏ': 2, 'ㅌ': 3, 'ㅐ': 4, 'ㅈ': 5, ' ': 6, ',': 7, 'ㅘ': 8, 'ㅓ': 9, 'ㅑ': 10, 'ㅗ': 11, 'ㅆ': 12, '.': 13, 'ㅅ': 14, 'ㅝ': 15, ']': 16, 'ㄹ': 17, '[': 18, 'ㄸ': 19, 'ㅂ': 20, 'ㅜ': 21, 'ㄲ': 22, 'ㄱ': 23, 'ㅢ': 24, 'ㅔ': 25, 'ㅊ': 26, 'ㄴ': 27, 'ㅁ': 28, 'ㅍ': 29, 'ㄶ': 30, 'ㅇ': 31, 'ㄷ': 32, 'ㅣ': 33, '\\n': 34, 'ㅡ': 35, 'ㅃ': 36}\n"
     ]
    }
   ],
   "source": [
    "# jamo에 존재하는 자모들을 chars에 저장\n",
    "chars = list(set(jamo))\n",
    "char_to_ix = { ch:i for i,ch in enumerate(chars) }\n",
    "ix_to_char = { i:ch for i,ch in enumerate(chars) }\n",
    "print(char_to_ix)"
   ]
  },
  {
   "cell_type": "code",
   "execution_count": 4,
   "id": "1551d82f",
   "metadata": {},
   "outputs": [
    {
     "name": "stdout",
     "output_type": "stream",
     "text": [
      "[18, 17, 33, 29, 11, 3, 35, 16, 34, 34, 31, 9, 5, 25, 28, 2, 27, 6, 0, 4, 32, 11, 6, 26, 2, 23, 2, 20, 32, 9, 27, 6, 5, 9, 27, 1, 23, 6, 23, 11, 31, 23, 33, 23, 2, 6, 0, 2, 27, 26, 35, 31, 6, 31, 11, 27, 0, 8, 0, 4, 5, 1, 12, 31, 9, 13, 6, 19, 4, 28, 2, 5, 26, 15, 6, 31, 33, 23, 11, 14, 6, 14, 2, 28, 26, 9, 31, 32, 11, 31, 6, 23, 33, 17, 31, 25, 32, 11, 6, 14, 2, 17, 2, 28, 32, 35, 17, 31, 33, 6, 34, 20, 21, 28, 20, 33, 23, 11, 6, 31, 33, 12, 27, 35, 27, 32, 25, 7, 6, 28, 21, 27, 5, 25, 27, 35, 27, 6, 28, 33, 14, 25, 28, 9, 27, 5, 33, 31, 10, 13, 34, 34, 32, 4, 23, 33, 5, 9, 31, 26, 25, 17, 11, 6, 28, 9, 27, 5, 33, 23, 2, 6, 36, 2, 5, 1, 27, 2, 23, 2, 5, 33, 6, 28, 11, 14, 0, 2, 28, 1, 27, 14, 9, 7, 6, 27, 4, 31, 33, 17, 22, 2, 5, 33, 27, 35, 27, 6, 23, 11, 14, 23, 11, 14, 31, 25, 14, 9, 6, 29, 1, 31, 14, 11, 6, 32, 21, 6, 14, 25, 20, 4, 6, 14, 21, 5, 21, 27, 31, 24, 6, 5, 33, 3, 31, 35, 27, 6, 28, 9, 27, 5, 33, 23, 2, 6, 34, 27, 2, 3, 2, 27, 2, 23, 25, 12, 32, 2, 13, 6, 31, 1, 27, 28, 21, 23, 2, 6, 27, 2, 28, 31, 35, 28, 1, 27, 14, 9, 6, 27, 2, 5, 31, 25, 32, 11, 6, 14, 33, 31, 10, 23, 2, 6, 36, 21, 31, 1, 27, 6, 23, 11, 14, 31, 33, 6, 28, 2, 30, 23, 25, 12, 32, 2, 13]\n"
     ]
    }
   ],
   "source": [
    "jamo_numbers = [char_to_ix[x] for x in jamo]\n",
    "print(jamo_numbers)"
   ]
  },
  {
   "cell_type": "code",
   "execution_count": 5,
   "id": "817693eb",
   "metadata": {},
   "outputs": [
    {
     "name": "stdout",
     "output_type": "stream",
     "text": [
      "[리포트]\n",
      "\n",
      "어제만 해도 차갑던 저녁 공기가 한층 온화해졌어. 때맞춰 이곳 삼청동 길에도 사람들이 \n",
      "붐비고 있는데, 문제는 미세먼지야.\n",
      "\n",
      "대기정체로 먼지가 빠져나가지 못하면서, 내일까지는 곳곳에서 평소 두 세배 수준의 짙은 먼지가 \n",
      "나타나겠다. 연무가 남으면서 낮에도 시야가 뿌연 곳이 많겠다.\n"
     ]
    }
   ],
   "source": [
    "restored_jamo = ''.join([ix_to_char[x] for x in jamo_numbers])\n",
    "restored_text = join_jamos(restored_jamo)\n",
    "print(restored_text)"
   ]
  },
  {
   "cell_type": "code",
   "execution_count": null,
   "id": "98a92a76",
   "metadata": {},
   "outputs": [],
   "source": []
  }
 ],
 "metadata": {
  "kernelspec": {
   "display_name": "Python 3",
   "language": "python",
   "name": "python3"
  },
  "language_info": {
   "codemirror_mode": {
    "name": "ipython",
    "version": 3
   },
   "file_extension": ".py",
   "mimetype": "text/x-python",
   "name": "python",
   "nbconvert_exporter": "python",
   "pygments_lexer": "ipython3",
   "version": "3.9.2"
  }
 },
 "nbformat": 4,
 "nbformat_minor": 5
}
