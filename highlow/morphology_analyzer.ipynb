{
 "cells": [
  {
   "cell_type": "code",
   "execution_count": 1,
   "id": "87ff065b",
   "metadata": {},
   "outputs": [],
   "source": [
    "from konlpy.tag import Kkma, Komoran, Okt, Mecab\n",
    "from konlpy.utils import pprint"
   ]
  },
  {
   "cell_type": "code",
   "execution_count": 2,
   "id": "dabb519e",
   "metadata": {},
   "outputs": [],
   "source": [
    "mec = Mecab()\n",
    "okt = Okt()\n",
    "kkm = Kkma()\n",
    "kom = Komoran()"
   ]
  },
  {
   "cell_type": "code",
   "execution_count": 3,
   "id": "95bb8eb6",
   "metadata": {},
   "outputs": [
    {
     "data": {
      "text/plain": [
       "['안녕하다/Adjective',\n",
       " '오늘/Noun',\n",
       " '의/Josa',\n",
       " '날씨/Noun',\n",
       " '는/Josa',\n",
       " '차다/Verb',\n",
       " '습하다/Adjective',\n",
       " '덥다/Adjective',\n",
       " './Punctuation']"
      ]
     },
     "execution_count": 3,
     "metadata": {},
     "output_type": "execute_result"
    }
   ],
   "source": [
    "txt = '안녕하세요 오늘의 날씨는 참 습하고 덥네요.'\n",
    "mec.pos(txt, flatten=False, join=True) #mecab"
   ]
  },
  {
   "cell_type": "code",
   "execution_count": 4,
   "id": "b54bfe51",
   "metadata": {},
   "outputs": [
    {
     "data": {
      "text/plain": [
       "['안녕하다/Adjective',\n",
       " '오늘/Noun',\n",
       " '의/Josa',\n",
       " '날씨/Noun',\n",
       " '는/Josa',\n",
       " '차다/Verb',\n",
       " '습하다/Adjective',\n",
       " '덥다/Adjective',\n",
       " './Punctuation']"
      ]
     },
     "execution_count": 4,
     "metadata": {},
     "output_type": "execute_result"
    }
   ],
   "source": [
    "kom.pos(txt,flatten=False, join=True) #komoran"
   ]
  },
  {
   "cell_type": "code",
   "execution_count": 5,
   "id": "b49c79d5",
   "metadata": {},
   "outputs": [
    {
     "data": {
      "text/plain": [
       "[['안녕/NNG'],\n",
       " ['하세/NNG', '요/JX'],\n",
       " ['오늘/NNG', '의/JKG'],\n",
       " ['날씨/NNG', '는/JX'],\n",
       " ['참/MAG'],\n",
       " ['습/NNG', '하/XSV', '고/ECE'],\n",
       " ['덥/VA', '네요/EFN', './SF']]"
      ]
     },
     "execution_count": 5,
     "metadata": {},
     "output_type": "execute_result"
    }
   ],
   "source": [
    "kkm.pos(txt,flatten=False, join=True) #kkma"
   ]
  },
  {
   "cell_type": "code",
   "execution_count": 6,
   "id": "5df792d4",
   "metadata": {},
   "outputs": [
    {
     "data": {
      "text/plain": [
       "['안녕하다/Adjective',\n",
       " '오늘/Noun',\n",
       " '의/Josa',\n",
       " '날씨/Noun',\n",
       " '는/Josa',\n",
       " '차다/Verb',\n",
       " '습하다/Adjective',\n",
       " '덥다/Adjective',\n",
       " './Punctuation']"
      ]
     },
     "execution_count": 6,
     "metadata": {},
     "output_type": "execute_result"
    }
   ],
   "source": [
    "okt.pos(txt,norm=True, stem=True, join=True) #okt"
   ]
  },
  {
   "cell_type": "code",
   "execution_count": null,
   "id": "60f882a3",
   "metadata": {},
   "outputs": [],
   "source": []
  }
 ],
 "metadata": {
  "kernelspec": {
   "display_name": "Python 3",
   "language": "python",
   "name": "python3"
  },
  "language_info": {
   "codemirror_mode": {
    "name": "ipython",
    "version": 3
   },
   "file_extension": ".py",
   "mimetype": "text/x-python",
   "name": "python",
   "nbconvert_exporter": "python",
   "pygments_lexer": "ipython3",
   "version": "3.9.2"
  }
 },
 "nbformat": 4,
 "nbformat_minor": 5
}
