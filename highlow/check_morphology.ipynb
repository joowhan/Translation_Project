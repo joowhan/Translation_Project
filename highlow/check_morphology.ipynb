{
 "cells": [
  {
   "cell_type": "code",
   "execution_count": 9,
   "id": "a30ee282",
   "metadata": {},
   "outputs": [
    {
     "name": "stderr",
     "output_type": "stream",
     "text": [
      "/Users/kimjoowhan/opt/anaconda3/envs/jh/lib/python3.9/site-packages/konlpy/tag/_okt.py:16: UserWarning: \"Twitter\" has changed to \"Okt\" since KoNLPy v0.4.5.\n",
      "  warn('\"Twitter\" has changed to \"Okt\" since KoNLPy v0.4.5.')\n"
     ]
    }
   ],
   "source": [
    "from konlpy.tag import Hannanum, Kkma, Komoran, Okt, Mecab, Twitter\n",
    "hannanum = Hannanum() \n",
    "twitter = Twitter() \n",
    "hannanum.analyze  #구(Phrase) 분석\n",
    "hannanum.morphs   #형태소 분석\n",
    "hannanum.nouns    #명사 분석\n",
    "hannanum.pos      #형태소 분석 태깅\n",
    "\n",
    "path = 'data/hgu_clean.kr'"
   ]
  },
  {
   "cell_type": "code",
   "execution_count": 10,
   "id": "535d89e9",
   "metadata": {},
   "outputs": [
    {
     "name": "stdout",
     "output_type": "stream",
     "text": [
      "[('오늘', 'N'), ('집', 'N'), ('에', 'J'), ('가', 'P'), ('면', 'E'), ('내', 'N'), ('이', 'J'), ('ㄹ', 'E'), ('여행갈', 'N'), ('준비', 'N'), ('를', 'J'), ('하', 'P'), ('어야', 'E'), ('하', 'P'), ('ㅂ니다', 'E'), ('.', 'S'), ('바쁘', 'P'), ('고', 'E'), ('힘들', 'P'), ('겠지만', 'E'), ('즐겁', 'P'), ('은', 'E'), ('마음', 'N'), ('으로', 'J'), ('준비', 'N'), ('하', 'X'), ('ㅂ시다', 'E'), ('.', 'S')]\n"
     ]
    }
   ],
   "source": [
    "print(hannanum.pos(u'오늘 집에 가면 내일 여행갈 준비를 해야 합니다. 바쁘고 힘들겠지만 즐거운 마음으로 준비합시다.'))"
   ]
  },
  {
   "cell_type": "code",
   "execution_count": 11,
   "id": "99284411",
   "metadata": {},
   "outputs": [],
   "source": [
    "mec = Mecab()\n",
    "okt = Okt()\n",
    "kkm = Kkma()\n",
    "kom = Komoran()"
   ]
  },
  {
   "cell_type": "code",
   "execution_count": 16,
   "id": "bb1107e8",
   "metadata": {},
   "outputs": [
    {
     "name": "stdout",
     "output_type": "stream",
     "text": [
      "['은비/NNG', '는/JX', '오늘/MAG', '집/NNG', '에/JKB', '가/VV', '면/EC', '내일/MAG', '여행/NNG', '갈/VV+ETM', '준비/NNG', '를/JKO', '해야/VV+EC', '합니다/VX+EF', './SF', '바쁘/VA', '고/EC', '힘들/VA', '겠/EP', '지만/EC', '즐거운/VA+ETM', '마음/NNG', '으로/JKB', '돌아왔/VV+EP', '습니다/EF', './SF', '26/SN', '일/NNBC', '이요/JX', '?/SF']\n"
     ]
    }
   ],
   "source": [
    "txt = '은비는 오늘 집에 가면 내일 여행갈 준비를 해야 합니다. 바쁘고 힘들겠지만 즐거운 마음으로 돌아왔습니다. 26일이요?'\n",
    "x = mec.pos(txt, flatten=True, join=True) \n",
    "print(x)"
   ]
  },
  {
   "cell_type": "code",
   "execution_count": 15,
   "id": "487ddd7c",
   "metadata": {},
   "outputs": [
    {
     "data": {
      "text/plain": [
       "['은비/Noun',\n",
       " '는/Josa',\n",
       " '오늘/Noun',\n",
       " '집/Noun',\n",
       " '에/Josa',\n",
       " '가면/Noun',\n",
       " '내일/Noun',\n",
       " '여행/Noun',\n",
       " '갈다/Verb',\n",
       " '준비/Noun',\n",
       " '를/Josa',\n",
       " '하다/Verb',\n",
       " '하다/Verb',\n",
       " './Punctuation',\n",
       " '바쁘다/Adjective',\n",
       " '힘들다/Adjective',\n",
       " '즐겁다/Adjective',\n",
       " '마음/Noun',\n",
       " '으로/Josa',\n",
       " '돌아오다/Verb',\n",
       " './Punctuation']"
      ]
     },
     "execution_count": 15,
     "metadata": {},
     "output_type": "execute_result"
    }
   ],
   "source": [
    "okt.pos(txt,norm=True, stem=True, join=True)"
   ]
  },
  {
   "cell_type": "code",
   "execution_count": 44,
   "id": "6c1dc76a",
   "metadata": {},
   "outputs": [],
   "source": [
    "def toMorphology(corpus):\n",
    "    sent_list =[]\n",
    "    for i in corpus:\n",
    "        sent_list.append(kom.pos(i, flatten=True, join=True))\n",
    "    return sent_list"
   ]
  },
  {
   "cell_type": "code",
   "execution_count": 45,
   "id": "aa08a80f",
   "metadata": {},
   "outputs": [],
   "source": [
    "import pandas as pd"
   ]
  },
  {
   "cell_type": "code",
   "execution_count": 71,
   "id": "a8c4cae0",
   "metadata": {},
   "outputs": [],
   "source": [
    "corpus = pd.read_table('./data/hgu_clean.kr', sep ='\\n')"
   ]
  },
  {
   "cell_type": "code",
   "execution_count": 72,
   "id": "9fbf17b5",
   "metadata": {},
   "outputs": [
    {
     "data": {
      "text/html": [
       "<div>\n",
       "<style scoped>\n",
       "    .dataframe tbody tr th:only-of-type {\n",
       "        vertical-align: middle;\n",
       "    }\n",
       "\n",
       "    .dataframe tbody tr th {\n",
       "        vertical-align: top;\n",
       "    }\n",
       "\n",
       "    .dataframe thead th {\n",
       "        text-align: right;\n",
       "    }\n",
       "</style>\n",
       "<table border=\"1\" class=\"dataframe\">\n",
       "  <thead>\n",
       "    <tr style=\"text-align: right;\">\n",
       "      <th></th>\n",
       "      <th>26일이요?</th>\n",
       "    </tr>\n",
       "  </thead>\n",
       "  <tbody>\n",
       "    <tr>\n",
       "      <th>0</th>\n",
       "      <td>27일은 괜찮나요?</td>\n",
       "    </tr>\n",
       "    <tr>\n",
       "      <th>1</th>\n",
       "      <td>중단시켜서 죄송해요.</td>\n",
       "    </tr>\n",
       "    <tr>\n",
       "      <th>2</th>\n",
       "      <td>중단시켜서 죄송해요.</td>\n",
       "    </tr>\n",
       "    <tr>\n",
       "      <th>3</th>\n",
       "      <td>아, 이런! 도저히 생각이 안 나는걸.</td>\n",
       "    </tr>\n",
       "    <tr>\n",
       "      <th>4</th>\n",
       "      <td>Joe's Café 라는 레스토랑에 가고 싶은데, 알고 계세요?</td>\n",
       "    </tr>\n",
       "  </tbody>\n",
       "</table>\n",
       "</div>"
      ],
      "text/plain": [
       "                                26일이요?\n",
       "0                           27일은 괜찮나요?\n",
       "1                          중단시켜서 죄송해요.\n",
       "2                          중단시켜서 죄송해요.\n",
       "3                아, 이런! 도저히 생각이 안 나는걸.\n",
       "4  Joe's Café 라는 레스토랑에 가고 싶은데, 알고 계세요?"
      ]
     },
     "execution_count": 72,
     "metadata": {},
     "output_type": "execute_result"
    }
   ],
   "source": [
    "corpus.head()"
   ]
  },
  {
   "cell_type": "code",
   "execution_count": 73,
   "id": "0929764b",
   "metadata": {},
   "outputs": [
    {
     "name": "stdout",
     "output_type": "stream",
     "text": [
      "[['26/SN', '일/NNB', '이/VCP', '요/EF', '?/SF']]\n"
     ]
    }
   ],
   "source": [
    "result = []\n",
    "result = toMorphology(corpus)\n",
    "print(result)"
   ]
  },
  {
   "cell_type": "code",
   "execution_count": 74,
   "id": "d5dc392b",
   "metadata": {},
   "outputs": [
    {
     "name": "stdout",
     "output_type": "stream",
     "text": [
      "                                 26일이요?\n",
      "0                            27일은 괜찮나요?\n",
      "1                           중단시켜서 죄송해요.\n",
      "2                           중단시켜서 죄송해요.\n",
      "3                 아, 이런! 도저히 생각이 안 나는걸.\n",
      "4   Joe's Café 라는 레스토랑에 가고 싶은데, 알고 계세요?\n",
      "5           보다 나은 건강과 생활 회사의 글렌 토마스입니다.\n",
      "6                             스타워즈는 어때?\n",
      "7             데이터 코디네이터나 데이터 매니저가 어떨까요?\n",
      "8       화성에서 온 로봇이요! 좋아요! 특수 효과가 대단하대요.\n",
      "9                       팩스를 보내줘서 감사합니다.\n",
      "10           11월30일 날짜로 팩스를 보내줘서 감사합니다.\n",
      "11                 자격을 취득하기 위해 공부 중이에요.\n",
      "12             간호사 자격을 취득하기 위해 공부 중이에요.\n",
      "13                    국가시험을 향해 공부 중이에요.\n",
      "14         공무원에 되기 위한 국가시험을 향해 공부 중이에요.\n",
      "15              잘 됐어요. 그럼 이제 집에 가도 되나요?\n",
      "16       죄송합니다. 그녀는 안에 없네요. 메모 남겨 드릴까요?\n",
      "17                              내려 줄래요.\n",
      "18                              올려 줄래요.\n"
     ]
    }
   ],
   "source": [
    "print(corpus)"
   ]
  },
  {
   "cell_type": "code",
   "execution_count": 75,
   "id": "77395b66",
   "metadata": {},
   "outputs": [],
   "source": [
    "corpus0 = corpus['26일이요?']"
   ]
  },
  {
   "cell_type": "code",
   "execution_count": 70,
   "id": "54e3f271",
   "metadata": {},
   "outputs": [
    {
     "name": "stdout",
     "output_type": "stream",
     "text": [
      "[['27/SN', '일/NNB', '은/JX', '괜찮/VA', '나요/EF', '?/SF'], ['중단/NNG', '시키/XSV', '어서/EC', '죄송/XR', '하/XSA', '어요/EF', './SF'], ['중단/NNG', '시키/XSV', '어서/EC', '죄송/XR', '하/XSA', '어요/EF', './SF'], ['아/IC', ',/SP', '이런/IC', '!/SF', '도저히/MAG', '생각/NNG', '이/JKS', '안/MAG', '나/VV', '는걸/EF', './SF'], ['Joe/SL', \"'/SS\", 's/SL', 'Caf/SL', 'é/SW', '이/VCP', '라는/ETM', '레스토랑/NNP', '에/JKB', '가/VV', '고/EC', '싶/VX', '은데/EC', ',/SP', '알/VV', '고/EC', '계세/NNG', '요/JX', '?/SF'], ['보다/MAG', '나/NP', '은/JX', '건강/NNG', '과/JC', '생활/NNG', '회사/NNG', '의/JKG', '글렌/NNP', '토마스/NNP', '이/VCP', 'ㅂ니다/EF', './SF'], ['스타워즈/NNP', '는/JX', '어떻/VA', '어/EF', '?/SF'], ['데이터/NNG', '코디네이터/NNG', '나/JC', '데이터/NNG', '매니저/NNP', '가/JKS', '어떻/VA', 'ㄹ까요/EF', '?/SF'], ['화성/NNP', '에서/JKB', '오/VV', 'ㄴ/ETM', '로봇/NNP', '이/VCP', '요/EF', '!/SF', '좋/VA', '아요/EF', '!/SF', '특수 효과/NNP', '가/JKS', '대단/XR', '하/XSA', '대요/EF', './SF'], ['팩스/NNG', '를/JKO', '보내/VV', '어/EC', '주/VX', '어서/EC', '감사/NNG', '하/XSV', 'ㅂ니다/EF', './SF'], ['11/SN', '월/NNB', '30/SN', '일/NNB', '날짜/NNP', '로/JKB', '팩스/NNG', '를/JKO', '보내/VV', '어/EC', '주/VX', '어서/EC', '감사/NNG', '하/XSV', 'ㅂ니다/EF', './SF'], ['자격/NNG', '을/JKO', '취득/NNG', '하/XSV', '기/ETN', '위하/VV', '아/EC', '공부/NNG', '중/NNB', '이/VCP', '에요/EF', './SF'], ['간호사/NNP', '자격/NNG', '을/JKO', '취득/NNG', '하/XSV', '기/ETN', '위하/VV', '아/EC', '공부/NNG', '중/NNB', '이/VCP', '에요/EF', './SF'], ['국가시험/NNG', '을/JKO', '향하/VV', '아/EC', '공부/NNG', '중/NNB', '이/VCP', '에요/EF', './SF'], ['공무원/NNG', '에/JKB', '되/VV', '기/ETN', '위하/VV', 'ㄴ/ETM', '국가시험/NNG', '을/JKO', '향하/VV', '아/EC', '공부/NNG', '중/NNB', '이/VCP', '에요/EF', './SF'], ['잘/MAG', '되/VV', '었/EP', '어요/EF', './SF', '그럼/MAJ', '이제/MAG', '집/NNG', '에/JKB', '가도/NNP', '되/VV', '나요/EF', '?/SF'], ['죄송/XR', '하/XSA', 'ㅂ니다/EF', './SF', '그녀/NP', '는/JX', '안/NNG', '에/JKB', '없/VA', '네요/EF', './SF', '메모/NNG', '남기/VV', '어/EC', '드리/VX', 'ㄹ까요/EF', '?/SF'], ['내리/VV', '어/EC', '주/VX', 'ㄹ래요/EF', './SF'], ['올리/VV', '어/EC', '주/VX', 'ㄹ래요/EF', './SF']]\n"
     ]
    }
   ],
   "source": [
    "result = []\n",
    "result = toMorphology(corpus0)\n",
    "print(result)"
   ]
  },
  {
   "cell_type": "code",
   "execution_count": null,
   "id": "71a1a013",
   "metadata": {},
   "outputs": [],
   "source": []
  }
 ],
 "metadata": {
  "kernelspec": {
   "display_name": "Python 3",
   "language": "python",
   "name": "python3"
  },
  "language_info": {
   "codemirror_mode": {
    "name": "ipython",
    "version": 3
   },
   "file_extension": ".py",
   "mimetype": "text/x-python",
   "name": "python",
   "nbconvert_exporter": "python",
   "pygments_lexer": "ipython3",
   "version": "3.9.2"
  }
 },
 "nbformat": 4,
 "nbformat_minor": 5
}
