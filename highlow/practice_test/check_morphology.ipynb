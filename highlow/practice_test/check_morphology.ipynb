{
 "cells": [
  {
   "cell_type": "code",
   "execution_count": 1,
   "id": "a30ee282",
   "metadata": {},
   "outputs": [
    {
     "name": "stderr",
     "output_type": "stream",
     "text": [
      "/Users/kimjoowhan/opt/anaconda3/envs/jh/lib/python3.9/site-packages/konlpy/tag/_okt.py:16: UserWarning: \"Twitter\" has changed to \"Okt\" since KoNLPy v0.4.5.\n",
      "  warn('\"Twitter\" has changed to \"Okt\" since KoNLPy v0.4.5.')\n"
     ]
    }
   ],
   "source": [
    "from konlpy.tag import Hannanum, Kkma, Komoran, Okt, Mecab, Twitter\n",
    "hannanum = Hannanum() \n",
    "twitter = Twitter() \n",
    "hannanum.analyze  #구(Phrase) 분석\n",
    "hannanum.morphs   #형태소 분석\n",
    "hannanum.nouns    #명사 분석\n",
    "hannanum.pos      #형태소 분석 태깅\n",
    "\n",
    "path = 'data/hgu_clean.kr'"
   ]
  },
  {
   "cell_type": "code",
   "execution_count": 2,
   "id": "535d89e9",
   "metadata": {},
   "outputs": [
    {
     "name": "stdout",
     "output_type": "stream",
     "text": [
      "[('오늘', 'N'), ('집', 'N'), ('에', 'J'), ('가', 'P'), ('면', 'E'), ('내', 'N'), ('이', 'J'), ('ㄹ', 'E'), ('여행갈', 'N'), ('준비', 'N'), ('를', 'J'), ('하', 'P'), ('어야', 'E'), ('하', 'P'), ('ㅂ니다', 'E'), ('.', 'S'), ('바쁘', 'P'), ('고', 'E'), ('힘들', 'P'), ('겠지만', 'E'), ('즐겁', 'P'), ('은', 'E'), ('마음', 'N'), ('으로', 'J'), ('준비', 'N'), ('하', 'X'), ('ㅂ시다', 'E'), ('.', 'S')]\n"
     ]
    }
   ],
   "source": [
    "print(hannanum.pos(u'오늘 집에 가면 내일 여행갈 준비를 해야 합니다. 바쁘고 힘들겠지만 즐거운 마음으로 준비합시다.'))"
   ]
  },
  {
   "cell_type": "code",
   "execution_count": 3,
   "id": "99284411",
   "metadata": {},
   "outputs": [],
   "source": [
    "mec = Mecab()\n",
    "okt = Okt()\n",
    "kkm = Kkma()\n",
    "kom = Komoran()"
   ]
  },
  {
   "cell_type": "code",
   "execution_count": 17,
   "id": "bb1107e8",
   "metadata": {},
   "outputs": [
    {
     "name": "stdout",
     "output_type": "stream",
     "text": [
      "['은비/NNG', '는/JX', '오늘/MAG', '집/NNG', '에/JKB', '가/VV', '면/EC', '내일/MAG', '여행/NNG', '갈/VV+ETM', '준비/NNG', '를/JKO', '해야/VV+EC', '합니다/VX+EF', './SF', '바쁘/VA', '고/EC', '힘들/VA', '겠/EP', '지만/EC', '즐거운/VA+ETM', '마음/NNG', '으로/JKB', '돌아왔/VV+EP', '습니다/EF', './SF', '26/SN', '일/NNBC', '이요/JX', '?/SF', '좀/MAG', '있/VA', '다/EC', '전화/NNG', '걸/VV', '어/EC', '주/VX', '세요/EP+EF', './SF', '정말/MAG', '죄송/XR', '해요/XSA+EF', './SF', '같이/MAG', '해요/VV+EF', './SF', '전화/NNG', '걸/VV', '어/EC', '주/VX', '시/EP', '나요/EF', '?/SF', '전화/NNG', '걸/VV', '어/EC', '주/VX', '십시오/EP+EF', './SF', '읽/VV', '으세요/EF', './SF', '어서/MAG', '오/VV', '세요/EP+EF', './SF', '말씀/NNG', '좀/MAG', '여쭤/VV+EC', '볼게요/VX+EF', './SF', '여쭙/VV', '다/EF', './SF', '여쭈/VV', '어/EC', '보/VX', '다/EF', './SF']\n",
      "[['먹/VV', '었/EP', '습니까/EF', '?/SF'], ['안녕/NNG', '하/XSV', '십니까/EP+EF', '?/SF'], ['뭐/IC'], ['하/VV', '십니까/EP+EF', '?/SF'], ['오/VV', '니/EF', '?/SF'], ['바쁘/VA', '십니까/EP+EF', '?/SF'], ['저쪽/NP', '으로/JKB'], ['가/VV', '세요/EP+EF', './SF'], ['저/NP', '에게/JKB'], ['가장/MAG'], ['소중/XR', '한/XSA+ETM'], ['사람/NNG', '입니다/VCP+EF', './SF']]\n"
     ]
    }
   ],
   "source": [
    "txt = '은비는 오늘 집에 가면 내일 여행갈 준비를 해야 합니다. 바쁘고 힘들겠지만 즐거운 마음으로 돌아왔습니다. 26일이요? 좀있다 전화 걸어주세요.\\\n",
    "    정말 죄송해요. 같이 해요. 전화 걸어 주시나요? 전화 걸어 주십시오. 읽으세요. 어서오세요. 말씀 좀 여쭤볼게요. 여쭙다. 여쭈어보다.'\n",
    "x = mec.pos(txt, flatten=True, join=True) \n",
    "print(x)\n",
    "\n",
    "txt2 = '먹었습니까?  안녕하십니까?  뭐 하십니까? 오니? 바쁘십니까? 저쪽으로 가세요. 저에게 가장 소중한 사람입니다.'\n",
    "x2 = mec.pos(txt2, flatten=False, join=True)\n",
    "print(x2)"
   ]
  },
  {
   "cell_type": "code",
   "execution_count": 5,
   "id": "487ddd7c",
   "metadata": {},
   "outputs": [
    {
     "data": {
      "text/plain": [
       "['은비/Noun',\n",
       " '는/Josa',\n",
       " '오늘/Noun',\n",
       " '집/Noun',\n",
       " '에/Josa',\n",
       " '가면/Noun',\n",
       " '내일/Noun',\n",
       " '여행/Noun',\n",
       " '갈다/Verb',\n",
       " '준비/Noun',\n",
       " '를/Josa',\n",
       " '하다/Verb',\n",
       " '하다/Verb',\n",
       " './Punctuation',\n",
       " '바쁘다/Adjective',\n",
       " '힘들다/Adjective',\n",
       " '즐겁다/Adjective',\n",
       " '마음/Noun',\n",
       " '으로/Josa',\n",
       " '돌아오다/Verb',\n",
       " './Punctuation',\n",
       " '26일/Number',\n",
       " '이요/Foreign',\n",
       " '?/Punctuation',\n",
       " '좋다/Adjective',\n",
       " '전화/Noun',\n",
       " '걸다/Verb',\n",
       " './Punctuation',\n",
       " '정말/Noun',\n",
       " '죄송하다/Adjective',\n",
       " './Punctuation',\n",
       " '같이/Adverb',\n",
       " '해/Noun',\n",
       " '요/Josa',\n",
       " './Punctuation',\n",
       " '전화/Noun',\n",
       " '걸다/Verb',\n",
       " '주다/Verb',\n",
       " '?/Punctuation',\n",
       " '전화/Noun',\n",
       " '걸다/Verb',\n",
       " '주/Modifier',\n",
       " '십/Modifier',\n",
       " '시오/Noun',\n",
       " './Punctuation',\n",
       " '읽다/Verb',\n",
       " './Punctuation',\n",
       " '어서/Noun',\n",
       " '오다/Verb',\n",
       " './Punctuation',\n",
       " '말씀/Noun',\n",
       " '좀/Noun',\n",
       " '여쭈다/Verb',\n",
       " '보다/Verb',\n",
       " './Punctuation',\n",
       " '여쭈다/Verb',\n",
       " './Punctuation',\n",
       " '여쭈다/Verb',\n",
       " './Punctuation']"
      ]
     },
     "execution_count": 5,
     "metadata": {},
     "output_type": "execute_result"
    }
   ],
   "source": [
    "okt.pos(txt,norm=True, stem=True, join=True)"
   ]
  },
  {
   "cell_type": "code",
   "execution_count": 18,
   "id": "6c1dc76a",
   "metadata": {},
   "outputs": [],
   "source": [
    "def toMorphology(corpus):\n",
    "    sent_list =[]\n",
    "    for i in corpus:\n",
    "        sent_list.append(kom.pos(i, flatten=True, join=True))\n",
    "    return sent_list"
   ]
  },
  {
   "cell_type": "code",
   "execution_count": 19,
   "id": "aa08a80f",
   "metadata": {},
   "outputs": [],
   "source": [
    "import pandas as pd"
   ]
  },
  {
   "cell_type": "code",
   "execution_count": 21,
   "id": "a8c4cae0",
   "metadata": {},
   "outputs": [],
   "source": [
    "corpus = pd.read_table('../data/hgu_clean.kr', sep ='\\n')"
   ]
  },
  {
   "cell_type": "code",
   "execution_count": 22,
   "id": "9fbf17b5",
   "metadata": {},
   "outputs": [
    {
     "data": {
      "text/html": [
       "<div>\n",
       "<style scoped>\n",
       "    .dataframe tbody tr th:only-of-type {\n",
       "        vertical-align: middle;\n",
       "    }\n",
       "\n",
       "    .dataframe tbody tr th {\n",
       "        vertical-align: top;\n",
       "    }\n",
       "\n",
       "    .dataframe thead th {\n",
       "        text-align: right;\n",
       "    }\n",
       "</style>\n",
       "<table border=\"1\" class=\"dataframe\">\n",
       "  <thead>\n",
       "    <tr style=\"text-align: right;\">\n",
       "      <th></th>\n",
       "      <th>26일이요?</th>\n",
       "    </tr>\n",
       "  </thead>\n",
       "  <tbody>\n",
       "    <tr>\n",
       "      <th>0</th>\n",
       "      <td>27일은 괜찮나요?</td>\n",
       "    </tr>\n",
       "    <tr>\n",
       "      <th>1</th>\n",
       "      <td>중단시켜서 죄송해요.</td>\n",
       "    </tr>\n",
       "    <tr>\n",
       "      <th>2</th>\n",
       "      <td>중단시켜서 죄송해요.</td>\n",
       "    </tr>\n",
       "    <tr>\n",
       "      <th>3</th>\n",
       "      <td>아, 이런! 도저히 생각이 안 나는걸.</td>\n",
       "    </tr>\n",
       "    <tr>\n",
       "      <th>4</th>\n",
       "      <td>Joe's Café 라는 레스토랑에 가고 싶은데, 알고 계세요?</td>\n",
       "    </tr>\n",
       "  </tbody>\n",
       "</table>\n",
       "</div>"
      ],
      "text/plain": [
       "                                26일이요?\n",
       "0                           27일은 괜찮나요?\n",
       "1                          중단시켜서 죄송해요.\n",
       "2                          중단시켜서 죄송해요.\n",
       "3                아, 이런! 도저히 생각이 안 나는걸.\n",
       "4  Joe's Café 라는 레스토랑에 가고 싶은데, 알고 계세요?"
      ]
     },
     "execution_count": 22,
     "metadata": {},
     "output_type": "execute_result"
    }
   ],
   "source": [
    "corpus.head()"
   ]
  },
  {
   "cell_type": "code",
   "execution_count": 23,
   "id": "0929764b",
   "metadata": {},
   "outputs": [
    {
     "name": "stdout",
     "output_type": "stream",
     "text": [
      "[['26/SN', '일/NNB', '이/VCP', '요/EF', '?/SF']]\n"
     ]
    }
   ],
   "source": [
    "result = []\n",
    "result = toMorphology(corpus)\n",
    "print(result)"
   ]
  },
  {
   "cell_type": "code",
   "execution_count": 24,
   "id": "d5dc392b",
   "metadata": {},
   "outputs": [
    {
     "name": "stdout",
     "output_type": "stream",
     "text": [
      "                                  26일이요?\n",
      "0                             27일은 괜찮나요?\n",
      "1                            중단시켜서 죄송해요.\n",
      "2                            중단시켜서 죄송해요.\n",
      "3                  아, 이런! 도저히 생각이 안 나는걸.\n",
      "4    Joe's Café 라는 레스토랑에 가고 싶은데, 알고 계세요?\n",
      "..                                   ...\n",
      "994                          그는 사이즈 M예요.\n",
      "995                        그는 산만한 사람이에요.\n",
      "996                             그는 상냥해요.\n",
      "997                        그는 성급한 사람이에요.\n",
      "998                          그는 수염이 길어요.\n",
      "\n",
      "[999 rows x 1 columns]\n"
     ]
    }
   ],
   "source": [
    "print(corpus)"
   ]
  },
  {
   "cell_type": "code",
   "execution_count": 75,
   "id": "77395b66",
   "metadata": {},
   "outputs": [],
   "source": [
    "corpus0 = corpus['26일이요?']"
   ]
  },
  {
   "cell_type": "code",
   "execution_count": 70,
   "id": "54e3f271",
   "metadata": {},
   "outputs": [
    {
     "name": "stdout",
     "output_type": "stream",
     "text": [
      "[['27/SN', '일/NNB', '은/JX', '괜찮/VA', '나요/EF', '?/SF'], ['중단/NNG', '시키/XSV', '어서/EC', '죄송/XR', '하/XSA', '어요/EF', './SF'], ['중단/NNG', '시키/XSV', '어서/EC', '죄송/XR', '하/XSA', '어요/EF', './SF'], ['아/IC', ',/SP', '이런/IC', '!/SF', '도저히/MAG', '생각/NNG', '이/JKS', '안/MAG', '나/VV', '는걸/EF', './SF'], ['Joe/SL', \"'/SS\", 's/SL', 'Caf/SL', 'é/SW', '이/VCP', '라는/ETM', '레스토랑/NNP', '에/JKB', '가/VV', '고/EC', '싶/VX', '은데/EC', ',/SP', '알/VV', '고/EC', '계세/NNG', '요/JX', '?/SF'], ['보다/MAG', '나/NP', '은/JX', '건강/NNG', '과/JC', '생활/NNG', '회사/NNG', '의/JKG', '글렌/NNP', '토마스/NNP', '이/VCP', 'ㅂ니다/EF', './SF'], ['스타워즈/NNP', '는/JX', '어떻/VA', '어/EF', '?/SF'], ['데이터/NNG', '코디네이터/NNG', '나/JC', '데이터/NNG', '매니저/NNP', '가/JKS', '어떻/VA', 'ㄹ까요/EF', '?/SF'], ['화성/NNP', '에서/JKB', '오/VV', 'ㄴ/ETM', '로봇/NNP', '이/VCP', '요/EF', '!/SF', '좋/VA', '아요/EF', '!/SF', '특수 효과/NNP', '가/JKS', '대단/XR', '하/XSA', '대요/EF', './SF'], ['팩스/NNG', '를/JKO', '보내/VV', '어/EC', '주/VX', '어서/EC', '감사/NNG', '하/XSV', 'ㅂ니다/EF', './SF'], ['11/SN', '월/NNB', '30/SN', '일/NNB', '날짜/NNP', '로/JKB', '팩스/NNG', '를/JKO', '보내/VV', '어/EC', '주/VX', '어서/EC', '감사/NNG', '하/XSV', 'ㅂ니다/EF', './SF'], ['자격/NNG', '을/JKO', '취득/NNG', '하/XSV', '기/ETN', '위하/VV', '아/EC', '공부/NNG', '중/NNB', '이/VCP', '에요/EF', './SF'], ['간호사/NNP', '자격/NNG', '을/JKO', '취득/NNG', '하/XSV', '기/ETN', '위하/VV', '아/EC', '공부/NNG', '중/NNB', '이/VCP', '에요/EF', './SF'], ['국가시험/NNG', '을/JKO', '향하/VV', '아/EC', '공부/NNG', '중/NNB', '이/VCP', '에요/EF', './SF'], ['공무원/NNG', '에/JKB', '되/VV', '기/ETN', '위하/VV', 'ㄴ/ETM', '국가시험/NNG', '을/JKO', '향하/VV', '아/EC', '공부/NNG', '중/NNB', '이/VCP', '에요/EF', './SF'], ['잘/MAG', '되/VV', '었/EP', '어요/EF', './SF', '그럼/MAJ', '이제/MAG', '집/NNG', '에/JKB', '가도/NNP', '되/VV', '나요/EF', '?/SF'], ['죄송/XR', '하/XSA', 'ㅂ니다/EF', './SF', '그녀/NP', '는/JX', '안/NNG', '에/JKB', '없/VA', '네요/EF', './SF', '메모/NNG', '남기/VV', '어/EC', '드리/VX', 'ㄹ까요/EF', '?/SF'], ['내리/VV', '어/EC', '주/VX', 'ㄹ래요/EF', './SF'], ['올리/VV', '어/EC', '주/VX', 'ㄹ래요/EF', './SF']]\n"
     ]
    }
   ],
   "source": [
    "result = []\n",
    "result = toMorphology(corpus0)\n",
    "print(result)"
   ]
  },
  {
   "cell_type": "code",
   "execution_count": null,
   "id": "71a1a013",
   "metadata": {},
   "outputs": [],
   "source": []
  }
 ],
 "metadata": {
  "kernelspec": {
   "display_name": "Python 3",
   "language": "python",
   "name": "python3"
  },
  "language_info": {
   "codemirror_mode": {
    "name": "ipython",
    "version": 3
   },
   "file_extension": ".py",
   "mimetype": "text/x-python",
   "name": "python",
   "nbconvert_exporter": "python",
   "pygments_lexer": "ipython3",
   "version": "3.9.2"
  }
 },
 "nbformat": 4,
 "nbformat_minor": 5
}
