{
 "cells": [
  {
   "cell_type": "code",
   "execution_count": 1,
   "id": "87ff065b",
   "metadata": {},
   "outputs": [],
   "source": [
    "from konlpy.tag import Kkma, Komoran, Okt, Mecab, Hannanum\n",
    "from konlpy.utils import pprint"
   ]
  },
  {
   "cell_type": "code",
   "execution_count": 2,
   "id": "dabb519e",
   "metadata": {},
   "outputs": [],
   "source": [
    "mec = Mecab()\n",
    "okt = Okt()\n",
    "kkm = Kkma()\n",
    "kom = Komoran()\n",
    "han = Hannanum()"
   ]
  },
  {
   "cell_type": "code",
   "execution_count": 4,
   "id": "95bb8eb6",
   "metadata": {},
   "outputs": [
    {
     "data": {
      "text/plain": [
       "[['안녕/NNG', '하/XSV', '세요/EP+EF'],\n",
       " ['오늘/MAG', '의/NNG'],\n",
       " ['날씨/NNG', '는/JX'],\n",
       " ['참/NNG'],\n",
       " ['습하/VA', '고/EC'],\n",
       " ['덥/VA', '네요/EF', './SF'],\n",
       " ['웃/VV', '으면/EC'],\n",
       " ['더/MAG'],\n",
       " ['행복/NNG', '합니다/XSA+EF', './SF']]"
      ]
     },
     "execution_count": 4,
     "metadata": {},
     "output_type": "execute_result"
    }
   ],
   "source": [
    "txt = '안녕하세요 오늘의 날씨는 참 습하고 덥네요. 웃으면 더 행복합니다.'\n",
    "mec.pos(txt, flatten=False, join=True) #mecab"
   ]
  },
  {
   "cell_type": "code",
   "execution_count": 11,
   "id": "b54bfe51",
   "metadata": {},
   "outputs": [
    {
     "data": {
      "text/plain": [
       "[('안녕', 'NC'),\n",
       " ('하', 'XS'),\n",
       " ('세', 'EF'),\n",
       " ('요', 'JX'),\n",
       " ('오늘', 'NC'),\n",
       " ('의', 'JC'),\n",
       " ('날씨', 'NC'),\n",
       " ('는', 'JX'),\n",
       " ('참', 'MA'),\n",
       " ('습하', 'PA'),\n",
       " ('어', 'EF'),\n",
       " ('고', 'JC'),\n",
       " ('덥', 'PA'),\n",
       " ('네', 'EF'),\n",
       " ('요', 'JX'),\n",
       " ('.', 'SF'),\n",
       " ('웃', 'PV'),\n",
       " ('으면', 'EC'),\n",
       " ('더', 'MA'),\n",
       " ('행복', 'NC'),\n",
       " ('하', 'XS'),\n",
       " ('ㅂ니다', 'EF'),\n",
       " ('.', 'SF')]"
      ]
     },
     "execution_count": 11,
     "metadata": {},
     "output_type": "execute_result"
    }
   ],
   "source": [
    "han.pos(txt,ntags=22,flatten=True, join=False) #komoran"
   ]
  },
  {
   "cell_type": "code",
   "execution_count": 5,
   "id": "b49c79d5",
   "metadata": {},
   "outputs": [
    {
     "data": {
      "text/plain": [
       "[['안녕/NNG'],\n",
       " ['하세/NNG', '요/JX'],\n",
       " ['오늘/NNG', '의/JKG'],\n",
       " ['날씨/NNG', '는/JX'],\n",
       " ['참/MAG'],\n",
       " ['습/NNG', '하/XSV', '고/ECE'],\n",
       " ['덥/VA', '네요/EFN', './SF'],\n",
       " ['웃/VV', '으면/ECD'],\n",
       " ['더/MAG'],\n",
       " ['행복/NNG', '하/XSV', 'ㅂ니다/EFN', './SF']]"
      ]
     },
     "execution_count": 5,
     "metadata": {},
     "output_type": "execute_result"
    }
   ],
   "source": [
    "kkm.pos(txt,flatten=False, join=True) #kkma"
   ]
  },
  {
   "cell_type": "code",
   "execution_count": 6,
   "id": "5df792d4",
   "metadata": {},
   "outputs": [
    {
     "data": {
      "text/plain": [
       "['안녕하다/Adjective',\n",
       " '오늘/Noun',\n",
       " '의/Josa',\n",
       " '날씨/Noun',\n",
       " '는/Josa',\n",
       " '차다/Verb',\n",
       " '습하다/Adjective',\n",
       " '덥다/Adjective',\n",
       " './Punctuation',\n",
       " '웃다/Verb',\n",
       " '더/Noun',\n",
       " '행복하다/Adjective',\n",
       " './Punctuation']"
      ]
     },
     "execution_count": 6,
     "metadata": {},
     "output_type": "execute_result"
    }
   ],
   "source": [
    "okt.pos(txt,norm=True, stem=True, join=True) #okt"
   ]
  },
  {
   "cell_type": "code",
   "execution_count": null,
   "id": "60f882a3",
   "metadata": {},
   "outputs": [],
   "source": []
  }
 ],
 "metadata": {
  "kernelspec": {
   "display_name": "Python 3",
   "language": "python",
   "name": "python3"
  },
  "language_info": {
   "codemirror_mode": {
    "name": "ipython",
    "version": 3
   },
   "file_extension": ".py",
   "mimetype": "text/x-python",
   "name": "python",
   "nbconvert_exporter": "python",
   "pygments_lexer": "ipython3",
   "version": "3.9.2"
  }
 },
 "nbformat": 4,
 "nbformat_minor": 5
}
