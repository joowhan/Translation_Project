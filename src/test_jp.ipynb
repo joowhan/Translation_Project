{
 "cells": [
  {
   "cell_type": "code",
   "execution_count": 4,
   "id": "b4fc97a8",
   "metadata": {},
   "outputs": [
    {
     "data": {
      "text/plain": [
       "'그게 맞는다.'"
      ]
     },
     "execution_count": 4,
     "metadata": {},
     "output_type": "execute_result"
    }
   ],
   "source": [
    "from low_mec_changer import Changer as ch\n",
    "changer = ch()\n",
    "changer.processText('그게 맞습니다.')"
   ]
  },
  {
   "cell_type": "code",
   "execution_count": null,
   "id": "5a6d07ff",
   "metadata": {},
   "outputs": [],
   "source": []
  }
 ],
 "metadata": {
  "kernelspec": {
   "display_name": "Python 3",
   "language": "python",
   "name": "python3"
  },
  "language_info": {
   "codemirror_mode": {
    "name": "ipython",
    "version": 3
   },
   "file_extension": ".py",
   "mimetype": "text/x-python",
   "name": "python",
   "nbconvert_exporter": "python",
   "pygments_lexer": "ipython3",
   "version": "3.9.2"
  }
 },
 "nbformat": 4,
 "nbformat_minor": 5
}
