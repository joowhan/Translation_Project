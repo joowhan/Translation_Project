{
 "cells": [
  {
   "cell_type": "code",
   "execution_count": 2,
   "id": "a90ec640",
   "metadata": {},
   "outputs": [],
   "source": [
    "import re\n",
    "import hgtk\n",
    "from tqdm.auto import tqdm\n",
    "from kiwipiepy import Kiwi\n",
    "\n",
    "lis = [\n",
    "    \n",
    "    \n",
    "    [['ㅇ','ㅓ','_','ㅇ','ㅛ','_'],['ㄷ','ㅏ','_']]\n",
    "\n",
    "\n",
    "\n",
    "]\n",
    "\n",
    "# 초성 리스트. 00 ~ 18\n",
    "CHOSUNG_LIST = ['ㄱ', 'ㄲ', 'ㄴ', 'ㄷ', 'ㄸ', 'ㄹ', 'ㅁ', 'ㅂ', 'ㅃ', 'ㅅ', 'ㅆ', 'ㅇ', 'ㅈ', 'ㅉ', 'ㅊ', 'ㅋ', 'ㅌ', 'ㅍ', 'ㅎ']\n",
    "# 중성 리스트. 00 ~ 20\n",
    "JUNGSUNG_LIST = ['ㅏ', 'ㅐ', 'ㅑ', 'ㅒ', 'ㅓ', 'ㅔ', 'ㅕ', 'ㅖ', 'ㅗ', 'ㅘ', 'ㅙ', 'ㅚ', 'ㅛ', 'ㅜ', 'ㅝ', 'ㅞ', 'ㅟ', 'ㅠ', 'ㅡ', 'ㅢ', 'ㅣ']\n",
    "# 종성 리스트. 00 ~ 27 + 1(1개 없음)\n",
    "JONGSUNG_LIST = ['_', 'ㄱ', 'ㄲ', 'ㄳ', 'ㄴ', 'ㄵ', 'ㄶ', 'ㄷ', 'ㄹ', 'ㄺ', 'ㄻ', 'ㄼ', 'ㄽ', 'ㄾ', 'ㄿ', 'ㅀ', 'ㅁ', 'ㅂ', 'ㅄ', 'ㅅ', 'ㅆ', 'ㅇ', 'ㅈ', 'ㅊ', 'ㅋ', 'ㅌ', 'ㅍ', 'ㅎ']\n",
    "\n",
    "def tojamo(korean_word):\n",
    "    r_lst = []\n",
    "    for w in list(korean_word.strip()):\n",
    "        ## 영어인 경우 구분해서 작성함. \n",
    "        if '가'<=w<='힣':\n",
    "            ## 588개 마다 초성이 바뀜. \n",
    "            ch1 = (ord(w) - ord('가'))//588\n",
    "            ## 중성은 총 28가지 종류\n",
    "            ch2 = ((ord(w) - ord('가')) - (588*ch1)) // 28\n",
    "            ch3 = (ord(w) - ord('가')) - (588*ch1) - 28*ch2\n",
    "            r_lst.append([CHOSUNG_LIST[ch1], JUNGSUNG_LIST[ch2], JONGSUNG_LIST[ch3]])\n",
    "        else:\n",
    "            r_lst.append([w])\n",
    "    return r_lst\n",
    "\n",
    "def toword(arr):\n",
    "    print('wow')\n",
    "    \n",
    "\n",
    "def to1dim(input):\n",
    "    result=[]\n",
    "    for i in input:\n",
    "        for j in i:\n",
    "            result.append(j)\n",
    "    return result\n",
    "\n",
    "def to2dim(input):\n",
    "    result = []\n",
    "    li = []\n",
    "    for i in input:\n",
    "        if i == ' ':\n",
    "            result.append([' '])\n",
    "        else:\n",
    "            li.append(i)\n",
    "        if len(li)==3:\n",
    "            result.append(li)\n",
    "            li = []\n",
    "    return result\n",
    "\n",
    "def makeone(input):\n",
    "    result = ''\n",
    "    li = ''\n",
    "    for i in input:\n",
    "        if i[0]==' ':\n",
    "            result = result+' '\n",
    "        else:\n",
    "            ind = ord('가')\n",
    "            ind +=CHOSUNG_LIST.index(i[0])*588\n",
    "            ind +=JUNGSUNG_LIST.index(i[1])*28\n",
    "            ind +=JONGSUNG_LIST.index(i[2])\n",
    "            result = result+chr(ind)\n",
    "    return result\n",
    "        \n",
    "\n",
    "class Changer(object):\n",
    "    def __init__(self):\n",
    "        print('the changer starts!')\n",
    "        \n",
    "    def high_low(self, stc):\n",
    "        result = stc\n",
    "        result = tojamo(result)\n",
    "        result = to1dim(result)\n",
    "        for i in range(len(lis)):\n",
    "            result = re.sub(lis[i][0],lis[i][1],result)\n",
    "        result = to2dim(result)\n",
    "        result = makeone(result)\n",
    "        return result\n",
    "    \n",
    "    def processText(self, stc):\n",
    "        \n",
    "        result = stc\n",
    "        res = self.high_low(result)\n",
    "        return res\n",
    "    \n",
    "    \n"
   ]
  },
  {
   "cell_type": "code",
   "execution_count": 3,
   "id": "08591e7f",
   "metadata": {},
   "outputs": [
    {
     "name": "stdout",
     "output_type": "stream",
     "text": [
      "[['ㅎ', 'ㅏ', '_'], ['ㅁ', 'ㅕ', 'ㄴ'], [' '], ['ㄷ', 'ㅚ', '_'], ['ㅈ', 'ㅏ', 'ㄶ'], ['ㅇ', 'ㅏ', '_']]\n",
      "['ㅎ', 'ㅏ', '_', 'ㅁ', 'ㅕ', 'ㄴ', ' ', 'ㄷ', 'ㅚ', '_', 'ㅈ', 'ㅏ', 'ㄶ', 'ㅇ', 'ㅏ', '_']\n",
      "[['ㅎ', 'ㅏ', '_'], ['ㅁ', 'ㅕ', 'ㄴ'], [' '], ['ㄷ', 'ㅚ', '_'], ['ㅈ', 'ㅏ', 'ㄶ'], ['ㅇ', 'ㅏ', '_']]\n",
      "하면 되잖아\n",
      "['ㅇ', 'ㅓ', '_', 'ㅇ', 'ㅛ', '_']\n",
      "ㅇㅓ_ㅇㅛ_\n"
     ]
    }
   ],
   "source": [
    "#txt = '잘 알겠어요'\n",
    "#ch = Changer()\n",
    "#res = ch.processText(txt)\n",
    "#print(res)\n",
    "\n",
    "example = tojamo('하면 되잖아')\n",
    "after = to1dim(example)\n",
    "before = to2dim(after)\n",
    "word = makeone(before)\n",
    "print(example)\n",
    "print(after)\n",
    "print(before)\n",
    "print(word)\n",
    "print(lis[0][0])\n",
    "lili = ''\n",
    "for i in lis[0][0]:\n",
    "    lili = lili+i\n",
    "    \n",
    "print(lili)\n"
   ]
  },
  {
   "cell_type": "code",
   "execution_count": 3,
   "id": "2c37e414",
   "metadata": {},
   "outputs": [
    {
     "data": {
      "text/plain": [
       "['']"
      ]
     },
     "execution_count": 3,
     "metadata": {},
     "output_type": "execute_result"
    }
   ],
   "source": [
    "['']"
   ]
  },
  {
   "cell_type": "code",
   "execution_count": null,
   "id": "e581401b",
   "metadata": {},
   "outputs": [],
   "source": []
  }
 ],
 "metadata": {
  "kernelspec": {
   "display_name": "Python 3",
   "language": "python",
   "name": "python3"
  },
  "language_info": {
   "codemirror_mode": {
    "name": "ipython",
    "version": 3
   },
   "file_extension": ".py",
   "mimetype": "text/x-python",
   "name": "python",
   "nbconvert_exporter": "python",
   "pygments_lexer": "ipython3",
   "version": "3.9.2"
  }
 },
 "nbformat": 4,
 "nbformat_minor": 5
}
