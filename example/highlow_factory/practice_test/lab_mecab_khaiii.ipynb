{
 "cells": [
  {
   "cell_type": "code",
   "execution_count": 3,
   "id": "8e353aa7",
   "metadata": {},
   "outputs": [],
   "source": [
    "from konlpy.tag import Hannanum, Kkma, Komoran, Okt, Mecab, Twitter\n",
    "import pandas as pd\n",
    "from khaiii import KhaiiiApi\n",
    "khai = KhaiiiApi()\n",
    "mec = Mecab()"
   ]
  },
  {
   "cell_type": "code",
   "execution_count": 68,
   "id": "51a25d28",
   "metadata": {},
   "outputs": [],
   "source": [
    "txt = '하시나요? 먹으시나요? 힘드십니다. 먹으십니다. 참으십니다. 가십니다. 오십니다. 예쁘십니다. 먹으신다. 넌 정말로 누구야. 알겠습니다.\\\n",
    "선생님 오십니다. 먹으셨습니다. 선생님께서 밥을 먹으셨습니다. 여러분 반갑습니다. 아는 분이 결혼하셨는데 신부가 예쁘십니다.'"
   ]
  },
  {
   "cell_type": "code",
   "execution_count": 69,
   "id": "84128062",
   "metadata": {},
   "outputs": [
    {
     "name": "stdout",
     "output_type": "stream",
     "text": [
      "['하/VV', '시/EP', '나요/EF', '?/SF', '먹/VV', '으시/EP', '나요/EF', '?/SF', '힘드/VA', '십니다/EP+EF', './SF', '먹/VV', '으십니다/EP+EP+EF', './SF', '참으/VV', '십니다/EP+EF', './SF', '가/VV', '십니다/EP+EF', './SF', '오/VV', '십니다/EP+EF', './SF', '예쁘/VA', '십니다/EP+EF', './SF', '먹/VV', '으신다/EP+EP+EF', './SF', '넌/NP+JX', '정말로/MAG', '누구/NP', '야/VCP+EF', './SF', '알/VV', '겠/EP', '습니다/EF', './SF', '선생/NNG', '님/XSN', '오/VV', '십니다/EP+EF', './SF', '먹/VV', '으셨/EP+EP', '습니다/EF', './SF', '선생/NNG', '님/XSN', '께서/JKS', '밥/NNG', '을/JKO', '먹/VV', '으셨/EP+EP', '습니다/EF', './SF', '여러분/NP', '반갑/VA', '습니다/EF', './SF', '아/VV', '는/ETM', '분/NNB', '이/JKS', '결혼/NNG', '하/XSV', '셨/EP+EP', '는데/EC', '신부/NNG', '가/JKS', '예쁘/VA', '십니다/EP+EF', './SF']\n"
     ]
    }
   ],
   "source": [
    "mecab = mec.pos(txt, flatten=True, join=True)\n",
    "print(mecab)"
   ]
  },
  {
   "cell_type": "code",
   "execution_count": 70,
   "id": "a60264be",
   "metadata": {},
   "outputs": [
    {
     "name": "stdout",
     "output_type": "stream",
     "text": [
      "하시나요?\t하/VV + 시/EP + 나요/EF + ?/SF\n",
      "먹으시나요?\t먹/VV + 으시/EP + 나요/EF + ?/SF\n",
      "힘드십니다.\t힘/NNG + 들/VA + 시/EP + ㅂ니다/EF + ./SF\n",
      "먹으십니다.\t먹/VV + 으시/EP + ㅂ니다/EF + ./SF\n",
      "참으십니다.\t참/VV + 으시/EP + ㅂ니다/EF + ./SF\n",
      "가십니다.\t가/VV + 시/EP + ㅂ니다/EF + ./SF\n",
      "오십니다.\t오/NNG + 시/EP + ㅂ니다/EF + ./SF\n",
      "예쁘십니다.\t예/NNP + 쁘/VA + 시/EP + ㅂ니다/EF + ./SF\n",
      "먹으신다.\t먹/VV + 으시/EP + ㄴ다/EF + ./SF\n",
      "넌\t너/NP + ㄴ/JX\n",
      "정말로\t정말로/MAG\n",
      "누구야.\t누구/NP + 이/VCP + 야/EF + ./SF\n",
      "알겠습니다.선생님\t알/VV + 겠/EP + 습니다/EF + ./SF + 선생/NNG + 님/XSN\n",
      "오십니다.\t오/VV + 시/EP + ㅂ니다/EF + ./SF\n",
      "먹으셨습니다.\t먹/VV + 으시/EP + 었/EP + 습니다/EF + ./SF\n",
      "선생님께서\t선생/NNG + 님/XSN + 께서/JKS\n",
      "밥을\t밥/NNG + 을/JKO\n",
      "먹으셨습니다.\t먹/VV + 으시/EP + 었/EP + 습니다/EF + ./SF\n",
      "여러분\t여러분/NP\n",
      "반갑습니다.\t반갑/VA + 습니다/EF + ./SF\n",
      "아는\t알/VV + 는/ETM\n",
      "분이\t분/NNB + 이/JKS\n",
      "결혼하셨는데\t결혼/NNG + 하/XSV + 시/EP + 었/EP + 는데/EC\n",
      "신부가\t신부/NNG + 가/JKS\n",
      "예쁘십니다.\t예쁘/VA + 시/EP + ㅂ니다/EF + ./SF\n"
     ]
    }
   ],
   "source": [
    "for word in khai.analyze(txt):\n",
    "    print(word)"
   ]
  },
  {
   "cell_type": "code",
   "execution_count": null,
   "id": "5c452134",
   "metadata": {},
   "outputs": [],
   "source": []
  },
  {
   "cell_type": "code",
   "execution_count": null,
   "id": "f4da1a43",
   "metadata": {},
   "outputs": [],
   "source": []
  }
 ],
 "metadata": {
  "kernelspec": {
   "display_name": "Python 3",
   "language": "python",
   "name": "python3"
  },
  "language_info": {
   "codemirror_mode": {
    "name": "ipython",
    "version": 3
   },
   "file_extension": ".py",
   "mimetype": "text/x-python",
   "name": "python",
   "nbconvert_exporter": "python",
   "pygments_lexer": "ipython3",
   "version": "3.9.2"
  }
 },
 "nbformat": 4,
 "nbformat_minor": 5
}
