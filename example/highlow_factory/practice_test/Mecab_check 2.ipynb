{
 "cells": [
  {
   "cell_type": "code",
   "execution_count": 1,
   "id": "c9f9cd02",
   "metadata": {},
   "outputs": [],
   "source": [
    "from konlpy.tag import Hannanum, Kkma, Komoran, Okt, Mecab, Twitter\n",
    "import pandas as pd"
   ]
  },
  {
   "cell_type": "code",
   "execution_count": 2,
   "id": "c1aa1746",
   "metadata": {},
   "outputs": [],
   "source": [
    "path = '../data/hgu_clean.kr'\n",
    "mec = Mecab()\n",
    "okt = Okt()"
   ]
  },
  {
   "cell_type": "code",
   "execution_count": 3,
   "id": "9a3ae15f",
   "metadata": {},
   "outputs": [
    {
     "name": "stdout",
     "output_type": "stream",
     "text": [
      "['감사/NNG', '해요/XSV+EF', './SF', '은비/NNG', '는/JX', '오늘/MAG', '집/NNG', '에/JKB', '가/VV', '면/EC', '내일/MAG', '여행/NNG', '갈/VV+ETM', '준비/NNG', '를/JKO', '해야/VV+EC', '합니다/VX+EF', './SF', '바쁘/VA', '고/EC', '힘들/VA', '겠/EP', '지만/EC', '즐거운/VA+ETM', '마음/NNG', '으로/JKB', '돌아왔/VV+EP', '습니다/EF', './SF', '26/SN', '일/NNBC', '이요/JX', '?/SF', '좀/MAG', '있/VA', '다/EC', '전화/NNG', '걸/VV', '어/EC', '주/VX', '세요/EP+EF', './SF', '정말/MAG', '죄송/XR', '해요/XSA+EF', './SF', '같이/MAG', '해요/VV+EF', './SF', '전화/NNG', '걸/VV', '어/EC', '주/VX', '시/EP', '나요/EF', '?/SF', '전화/NNG', '걸/VV', '어/EC', '주/VX', '십시오/EP+EF', './SF', '읽/VV', '으세요/EF', './SF', '어서/MAG', '오/VV', '세요/EP+EF', './SF', '말씀/NNG', '좀/MAG', '여쭤/VV+EC', '볼게요/VX+EF', './SF', '여쭙/VV', '다/EF', './SF', '여쭈/VV', '어/EC', '보/VX', '다/EF', './SF', '저쪽/NP', '으로/JKB', '가/VV', '세요/EP+EF', './SF', '누구/NP', '십니까/VCP+EP+EF', '?/SF', '남겨/VV+EC', '드릴까요/VX+EF', '?/SF', '먹/VV', '으세요/EF', './SF', '와/VV+EC', '주/VX', '실래요/EP+EF', '?/SF', '어서/MAG', '먹/VV', '어/EF', './SF', '빨리/MAG', '먹/VV', '는다더라/EF', './SF', '싫/VA', '은데/EF', './SF', '빨리/MAG', '먹/VV', '어라/EF', './SF', '사전/NNG', '추가/NNG', '하/XSV', '는/ETM', '건/NNB+JX', '어때/VA+EF', '?/SF', '밥/NNG', '먹/VV', '는/ETM', '건/NNB+JX', '싫/VA', '은데/EC', './SY', '생각/NNG', '이/JKS', '안/MAG', '나/VV', '는/ETM', '걸/NNB+JKO', './SF', '하/VV', '면/EC', '되/VV', '잖아/EF', './SF', '해야/VV+EC+VX', '겠/EP', '는데/EF', './SF', '응/IC', './SF', '아니요/IC', './SF', '아니/IC', './SF', '그래/IC', './SF', '그래요/VV+EF', './SF', '있/VA', '어/EF', '?/SF', '뭐/IC', '하/VV', '고/EC', '있/VX', '어/EF', '?/SF', '먹/VV', '고/EC', '있/VX', '어/EF', './SF', '할까/VV+EF', '?/SF', '먹/VV', '을까/EF', '?/SF', '다/MAG', '들/XSN', '하/VV', '는데/EC', './SF', '알/VV', '겠/EP', '는데/EF', './SF', '바보/NNG', '이/VCP', '다/EF', './SF', '오/VV', '는/ETM', '중/NNB', '이/VCP', '다/EF', './SF', '왔/VV+EP', '는걸/EF', './SF', '갈걸/VV+EF', './SF', '주/VV', '면/EC', '싫/VA', '을걸/EF', './SF', '밥/NNG', '먹/VV', '던데/EF', './SF', '올걸/VV+EF', './SF', '불미/XR', '스러운/XSA+ETM', '일/NNG', '이/JKS', '생겼/VV+EP', '다/EF', './SF', '화/NNG', '가/JKS', '난다/VV+EF', './SF', '오징어/NNG', '이/VCP', '다/EF', './SF', '바보/NNG', '이/VCP', '다/EF', './SF', '밥/NNG', '먹/VV', '는/ETM', '게/NNB+JKS', '어때/VA+EF', '?/SF', '어때/VA+EF', '?/SF', '아픈/VA+ETM', '건/NNB+JX', '어때/VA+EF', '?/SF', '힘든/VA+ETM', '것/NNB', '은/JX', '어때/VA+EF', '?/SF', '청화/NNG', '대/XPN', '집/NNG', '에/JKB', '간다/VV+EF', './SF', '밥/NNG', '먹/VV', '잖아/EF', './SF', '관심/NNG', '이/JKS', '없/VA', '는걸/EF', './SF', '화났/VV+EP', '는걸/EF', '?/SF', '왔/VV+EP', '는걸/EF', '?/SF', '저/NP', '는/JX', '왔/VV+EP', '어요/EF', './SF', '정희/NNP', '는/JX', '울산/NNP', '에/JKB', '있/VV', '다/EF', './SF', '생각/NNG', '이/JKS', '안/MAG', '나/VV', '는/ETM', '걸/NNB+JKO', './SF', '알/VV', '겠/EP', '다고/EC', '해/VX+EF', './SF', '우회전/NNG', '해/XSV+EF', './SF', '밥/NNG', '먹/VV', '고/EC', '해/VX+EF', './SF', '싫/VA', '다고/EC', '말/NNG', '해/XSV+EF', './SF', '먹/VV', '으라고/EC', '해/VX+EF', './SF', '빨리/MAG', '하/VV', '라고/EF', './SF', '했/VV+EP', '다고/EF', './SF', '어쩌/VV', '라고/EC', './SY', '빨래/NNG', '했/VV+EP', '음/ETN', './SF', '싫/VA', '음/ETN', './SF', '바보/NNG', '야/VCP+EF', './SF', '너/NP', '는/JX', '오징어/NNG', '야/JKV', './SY', '3/SN', '년/NNBC', '전이/NNG', '야/VCP+EF', './SF', '몇/MM', '호실/NNG', '이/VCP', '오/EF', '?/SF', '먹/VV', '으라/EC', '하/VX', '오/EF', './SF', '밥/NNG', '이/VCP', '오/EF', '?/SF', '밥/NNG', '먹/VV', '는/ETM', '거/NNB', '야/VCP+EF', '?/SF', '빨리/MAG', '해라/VV+EF', './SF', '어서/EC', '가/VX', '라/EF', './SF', '이용/NNG', '하/XSV', '십시오/EP+EF', './SF', '어서/MAG', '하/VV', '자/EF', './SF', '빨리/MAG', '가/VV', '자/EF', './SF', '이리로/MAG', '오/VV', '자/EF', './SF', '할게/VV+EF', './SF', '이제/MAG', '잘/MAG', '게/IC', './SF', '자/VV', '러/EC', '갈게/VV+EF', './SF', '다/MAG', '했/VV+EP', '는데/EF', './SF', '수치/NNG', '다/VCP+EF', './SF', '공시/NNG', '한다/XSV+EC', './SY', '3/SN', '일/NNBC', '전이/NNG', '야/VCP+EF', './SF', '주리/VV', '라/EF', './SF', '먹/VV', '으시/EP', '나요/EF', '?/SF']\n"
     ]
    }
   ],
   "source": [
    "txt = '감사해요. 은비는 오늘 집에 가면 내일 여행갈 준비를 해야 합니다. 바쁘고 힘들겠지만 즐거운 마음으로 돌아왔습니다. 26일이요? 좀있다 전화 걸어주세요.\\\n",
    "    정말 죄송해요. 같이 해요. 전화 걸어 주시나요? 전화 걸어 주십시오. 읽으세요. 어서오세요. 말씀 좀 여쭤볼게요. 여쭙다. 여쭈어보다. 저쪽으로 가세요. 누구십니까? 남겨드릴까요? \\\n",
    "    먹으세요. 와주실래요? 어서 먹어. 빨리 먹는다더라. 싫은데. 빨리 먹어라. 사전 추가하는 건 어때? 밥 먹는 건 싫은데. 생각이 안나는걸. 하면 되잖아. 해야겠는데. 응. 아니요. 아니. 그래.\\\n",
    "    그래요. 있어? 뭐하고 있어? 먹고 있어. 할까? 먹을까? 다들 하는데. 알겠는데. 바보이다. 오는 중이다. 왔는걸. 갈걸. 주면 싫을걸. 밥 먹던데. 올걸. 불미스러운 일이 생겼다. 화가 난다.\\\n",
    "    오징어이다. 바보이다. 밥 먹는 게 어때? 어때? 아픈 건 어때? 힘든 것은 어때? 청화대 집에 간다. 밥 먹잖아. 관심이 없는걸. 화났는걸? 왔는걸? 저는 왔어요. 정희는 울산에 있다. 생각이 안 나는걸.\\\n",
    "    알겠다고 해. 우회전해. 밥 먹고 해. 싫다고 말해. 먹으라고 해. 빨리 하라고. 했다고. 어쩌라고. 빨래 했음. 싫음. 바보야. 너는 오징어야. 3년 전이야.\\\n",
    "    몇 호실이오? 먹으라 하오. 밥이오? 밥 먹는거야? 빨리 해라.어서 가라. 이용하십시오. 어서 하자. 빨리 가자. 이리로 오자. 할게. 이제 잘게. 자러 갈게. 다 했는데. 수치다.공시한다. 3일 전이야.\\\n",
    "    주리라.먹으시나요?'\n",
    "x = mec.pos(txt, flatten=True, join=True) \n",
    "print(x)"
   ]
  },
  {
   "cell_type": "code",
   "execution_count": 4,
   "id": "8f20f5ed",
   "metadata": {},
   "outputs": [
    {
     "name": "stdout",
     "output_type": "stream",
     "text": [
      "['그거/NP', '했/VV+EP', '어/EF', '?/SF', '싫/VA', '다고/EF', './SF', '위대/XR', '합니다/XSA+EF', '!/SF', '문득/MAG', '생각/NNG', '이/JKS', '듭니다/UNKNOWN', './SF', '물건/NNG', '을/JKO', '듭니다/UNKNOWN', './SY', '1/SN', '킬로미터/NNBC', '정도/NNG', '되돌아가/VV+EC', '봐/VX+EF', './SF', '저것/NP', '좀/MAG', '봐/VV+EF', './SF', '잘/MAG', '좀/MAG', '해/VV+EC', '봐/VX+EF', './SF', '이것/NP', '좀/MAG', '봐라/VV+EF', './SF', '봤/VV+EP', '으면/EC', '하/VV', '는데/EC', './SF', '잘/MAG', '했/VV+EP', '는데/EF', './SF', '좋/VA', '겠/EP', '는데/EF', './SF', '여기/NP', '먹/VV', '을래/EF', './SF', '이미/MAG', '하/VV', '고/EC', '있/VX', '는데/EF', './SF', '했/VV+EP', '기/ETN', '를/JKO', '바라/VV', '는데/EC', './SF', '이것/NP', '좀/MAG', '봤/VV+EP', '으면/EC', '하/VV', '는데/EC', './SF', '할래/VV+EF', '?/SF', '뭐/IC', '먹/VV', '을래/EF', '?/SF', '뭐/NP', '래/VCP+EF', '?/SF', '저기/NP', '로/JKB', '오래/MAG', './SF', '빨리/MAG', '오래/MAG', './SF', '오래/MAG', '살아라/NNP', './SY', '600/SN', '달러/NNBC', '만/JX', '좀/MAG', '빌려/VV+EC', '줄래/VX+EF', '?/SF', '봤/VV+EP', '으면/EC', '좀/MAG', '해줄래/VV+EC+VX+EF', './SF', '이리로/MAG', '줄래/VV+EF', '?/SF', '넘겨/VV+EC', '줄래/VX+EF', '?/SF', '해도/VV+EC', '돼/VV+EF', '?/SF', '해도/VV+EC', '되/VV', '?/SF', '해줄래/VV+EC+VX+EF', '?/SF', '했/VV+EP', '니/EF', '?/SF', '돈/NNG', '있/VA', '니/EF', '?/SF', '알/VV', '겠/EP', '니/EF', '?/SF', '주/VX', '니/EF', '?/SF', '오징어/NNG', '니/VCP+EF', '?/SF', '화장실/NNG', '이/VCP', '니/EF', '?/SF', '가/VV', '니/EF', '?/SF', '되/VV', '?/SF', '너/NP', '바보니/NNP', '?/SY', '책/NNG', '이/VCP', '니/EF', '?/SF', '이제/MAG', '주/VV', '니/EF', '?/SF', '늦/VA', '으면/EC', '안/MAG', '되/VV', '거든/EF', './SF', '했/VV+EP', '거든/EF', '?/SF', '이미/MAG', '있/VV', '거든/EF', './SF', 'TV/SL', '소리/NNG', '가/JKS', '잘/MAG', '안/MAG', '들려/VV+EF', './SF', 'LA/SL', '에/JKB', '가/VV', '서/EC', '뭘/NP+JKO', '하/VV', '게/EC', '?/SY', 'LA/SL', '에/JKB', '간다면서/VV+EC', '늦/VA', '었/EP', '다면서/EF', '?/SF', '잘/MAG', '껐/VV+EP', '지/EF', '?/SF', 'TV/SL', '가이드/NNG', '는/JX', '어디/NP', '있/VA', '어/EF', '?/SF', '지진/NNG', '이/JKS', '일어났/VV+EP', '어/EF', './SF', '갈래/VV+EF', '?/SF', '올래/VV+EF', '?/SF', '티비/NNG', '를/JKO', '켜/VV+EF', './SF', '이/MM', '계약/NNG', '이/JKS', '얼마나/MAG', '중요/NNG', '한데/XSA+EF', '?/SF', '뭐/IC', '하/VV', '는/ETM', '건데/NNB+VCP+EF', './SF', '멈춰/VV+EF', './SF', '하/VV', '지/EC', '마/VX+EF', './SF', '천잰데/NNG+VCP+EC', '?/SF', '넘/VV', '어/EC', '가지/VX', '마/EF', './SF', '하/VV', '고/EC', '싶/VX', '어/EF', './SF', '결혼/NNG', '할까/XSV+EF', '?/SF', '하/VV', '지/EC', '말/VX', '아/EF', './SF', '그냥/MAG', '2/SN', '시/NNBC', '로/JKB', '적/VV', '어/EC', '둬/VX+EF', './SF', '오늘/MAG', '퇴근/NNG', '시간/NNG', '전/NNG', '까지/JX', '알려/VV+EC', '줄게/VX+EF', './SF', '어떻게/MAG', '알/VV', '았/EP', '지/EF', '?/SF', '그/MM', '사람/NNG', '은/JX', '언제/MAG', '졸업/NNG', '했/XSV+EP', '는데/EF', '?/SF', '할/VV+ETM', '만/NNB', '해/XSA+EF', './SF', '오늘/NNG', '까지/JX', '하/VV', '도록/EF', './SF', '어디/NP', '있/VA', '는지/EC', '몰라/VV+EF', '?/SF', '내/NP', '가/JKS', '비디오/NNG', '녹화/NNG', '해/XSV+EC', '놨으니까/VX+EP+EC', './SF', '영/MAG', '흰/VA+ETM', '바쁘/VA', '다/EF', './SF', '하/VV', '겠/EP', '는가/EF', '?/SF', '사/VV', '는가/EF', '?/SF', '죽/VV', '는가/EF', '?/SF', '그것/NP', '이/JKS', '문제/NNG', '로다/VCP+EF', './SF', '기분/NNG', '을/JKO', '좋/VA', '게/EC', '만든/VV', '다/EF', './SF', '뛰어나/VA', '다/EF', './SF', '해야겠네/VV+EC+VX+EP+EF', './SF', '끝내/VV', '겠/EP', '네/EF', './SF', '하/VV', '는/ETM', '거/NNB', '같/VA', '아/EF', './SF', '이/MM', '설명/NNG', '이/VCP', '면/EC', '족하/VA', '다/EF', './SF', '않/VX', '을까/EF', '?/SF', '펼친다/VV+EF', './SF', '한다/VV+EF', './SF', '바랄게/VV+EF', './SF', '도움/NNG', '받/VV', '았/EP', '다는/ETM', '걸/NNB+JKO', '아/VV', '나/EF', '?/SF', '준비/NNG', '해라/XSV+EF', './SF', '해라/VV+EF', './SF', '먹/VV', '어라/EF', './SF', '돌아와/VV+EF', './SF', '우려/NNG', '스럽/XSA', '다/EF', './SF', '지표/NNG', '를/JKO', '끌어올린/VV+ETM', '주인공/NNG', '들/XSN', '이/JKS', '되/VV', '레/EC', '위험/NNG', '요소/NNG', '가/JKS', '되/VV', '고/EC', '있/VX', '어서다/EF', './SF', '졸업/NNG', '선물/NNG', '이/VCP', '야/EF', './SF', '가능/NNG', '해진다/XSA+EC+VX+EF', './SF', '기대/NNG', '해본다/XSV+EC+VX+EF', './SF', '괜찮/VA', '은/ETM', '걸까/NNB+VCP+EF', '?/SF', '알/VV', '겠/EP', '다는/ETM', '뜻/NNG', '이/VCP', '네/EF', './SF', '9/SN', '년/NNBC', '이/JKS', '지났/VV+EP', '다는/ETM', '뜻/NNG', '이/VCP', '네/EF', './SF', '주차/NNG', '하/XSV', '지/EC', '않/VX', '았/EP', '던가/EF', '?/SF']\n"
     ]
    }
   ],
   "source": [
    "txt = '그거 했어? 싫다고. 위대합니다! 문득 생각이 듭니다. 물건을 듭니다. 1킬로미터정도 되돌아가봐. 저것좀 봐. 잘좀해봐. 이것 좀 봐라. 봤으면 하는데.\\\n",
    "잘했는데. 좋겠는데. 여기 먹을래. 이미 하고 있는데. 했기를 바라는데. 이것좀 봤으면 하는데. 할래? 뭐 먹을래? 뭐래? 저기로 오래. 빨리 오래. 오래 살아라.\\\n",
    "600달러만 좀 빌려줄래? 봤으면 좀 해줄래. 이리로 줄래? 넘겨줄래? 해도 돼? 해도 되? 해줄래? 했니? 돈 있니? 알겠니? 주니? 오징어니? 화장실이니? 가니?\\\n",
    "되? 너 바보니? 책이니? 이제 주니? 늦으면 안되거든. 했거든? 이미 있거든. TV 소리가 잘 안 들려. LA에 가서 뭘 하게? LA에 간다면서 늦었다면서? 잘 껐지?\\\n",
    "TV가이드는 어디 있어? 지진이 일어났어. 갈래? 올래? 티비를 켜. 이 계약이 얼마나 중요한데? 뭐하는 건데. 멈춰. 하지마. 천잰데? 넘어가지마. 하고 싶어.\\\n",
    "결혼할까? 하지말아. 그냥 2시로 적어둬. 오늘 퇴근시간 전까지 알려 줄게. 어떻게 알았지?그 사람은 언제 졸업했는데? 할만해. 오늘까지 하도록. 어디 있는지 몰라?\\\n",
    "내가 비디오 녹화해 놨으니까. 영흰 바쁘다. 하겠는가? 사는가? 죽는가? 그것이 문제로다. 기분을 좋게 만든다. 뛰어나다. 해야겠네. 끝내겠네. 하는 거 같아.\\\n",
    "이 설명이면 족하다. 않을까? 펼친다. 한다. 바랄게. 도움 받았다는 걸 아나? 준비해라. 해라. 먹어라. 돌아와. 우려스럽다. 지표를 끌어올린 주인공들이 되레 위험 요소가 되고 있어서다.\\\n",
    "졸업선물이야. 가능해진다. 기대해본다. 괜찮은 걸까? 알겠다는 뜻이네. 9년이 지났다는 뜻이네. 주차하지 않았던가?'\n",
    "x = mec.pos(txt, flatten=True, join=True) \n",
    "print(x)"
   ]
  },
  {
   "cell_type": "code",
   "execution_count": 5,
   "id": "c7dca403",
   "metadata": {},
   "outputs": [
    {
     "name": "stdout",
     "output_type": "stream",
     "text": [
      "['해야겠네/VV+EC+VX+EP+EF', '?/SF', '문제/NNG', '있/VA', '습니까/EF', '?/SF', '저기/NP', '에/JKB', '있/VV', '는/ETM', '걸까/NNB+VCP+EF', '?/SF', '너/NP', '에게/JKB', '주리/VV', '라/EF', './SF', '도저히/MAG', '생각/NNG', '이/JKS', '안/MAG', '나/VV', '는/ETM', '걸/NNB+JKO', './SF', '언제/MAG', '자니/NNG', '?/SF', '저희/NP', '는/JX', '밥/NNG', '을/JKO', '먹/VV', '습니다/EF', './SF', '저흰/NP+JX', '늘/MAG', '좋/VA', '아요/EF', './SF', '홍길동전/NNG', '에서/JKB', '밥/NNG', '을/JKO', '먹/VV', '자/EF', '!/SF', '전/NNG', '을/JKO', '부쳐/VV+EC', '먹/VV', '자/EF', './SF', '전/NP+JX', '이제/MAG', '한계/NNG', '입니다/VCP+EF', './SF', '저/NP', '는/JX', '이제/MAG', '한계/NNG', '입니다/VCP+EF', './SF', '문무/NNG', '제/NP', '가/JKS', '다가옵니다/VV+EF', './SF', '제/NP', '가/JKS', '할/VV+ETM', '수/NNB', '있/VV', '을까요/EF', '?/SF', '보내/VV+EC', '드리/VX', '겠/EP', '습니다/EF', './SF', '엄만/NNG+JX', '늘/MAG', '바빠/VA+EF', '?/SF', '선물/NNG', '을/JKO', '드립니다/VV+EF', './SF', '선물/NNG', '을/JKO', '드려라/VV+EF', './SF', '제/NP', '가/JKS', '요/JX', '?/SF', '던/VV+ETM', '저/NP', '버린다/VV+EF', './SF', '당신/NP', '께/JKB', '가/VV', '오리다/EF', './SF', '시작/NNG', '하/XSV', '는가/EF', '?/SF', '버립니다/VV+EF', './SF']\n"
     ]
    }
   ],
   "source": [
    "txt = '해야겠네? 문제 있습니까? 저기에 있는 걸까? 너에게 주리라. 도저히 생각이 안 나는걸. 언제 자니? 저희는 밥을 먹습니다. 저흰 늘 좋아요.\\\n",
    "홍길동전에서 밥을 먹자! 전을 부쳐먹자. 전 이제 한계입니다. 저는 이제 한계입니다. 문무제가 다가옵니다. 제가 할 수 있을까요? 보내드리겠습니다.\\\n",
    "엄만 늘 바빠? 선물을 드립니다. 선물을 드려라. 제가요? 던저버린다. 당신께 가오리다. 시작하는가? 버립니다.'\n",
    "x = mec.pos(txt, flatten=True, join=True) \n",
    "print(x)"
   ]
  },
  {
   "cell_type": "code",
   "execution_count": 6,
   "id": "191f9b91",
   "metadata": {
    "scrolled": true
   },
   "outputs": [
    {
     "name": "stdout",
     "output_type": "stream",
     "text": [
      "0                              27일은 괜찮나요?\n",
      "1                             중단시켜서 죄송해요.\n",
      "2                             중단시켜서 죄송해요.\n",
      "3                   아, 이런! 도저히 생각이 안 나는걸.\n",
      "4     Joe's Café 라는 레스토랑에 가고 싶은데, 알고 계세요?\n",
      "                     ...                 \n",
      "95                              2시15분이에요.\n",
      "96                              2시30분이에요.\n",
      "97                                2시간이에요.\n",
      "98                               2시간정도예요.\n",
      "99                               2천달러입니다.\n",
      "Name: 26일이요?, Length: 100, dtype: object\n"
     ]
    }
   ],
   "source": [
    "number = 200\n",
    "texts = pd.read_table('../data/hgu_clean.kr', sep ='\\n')[:number]\n",
    "texts = texts['26일이요?']\n",
    "print(texts.head(100))"
   ]
  },
  {
   "cell_type": "code",
   "execution_count": 7,
   "id": "40b6ae7a",
   "metadata": {},
   "outputs": [
    {
     "name": "stdout",
     "output_type": "stream",
     "text": [
      "['27/SN', '일/NNBC', '은/JX', '괜찮/VA', '나요/EF', '?/SF']\n",
      "['중단/NNG', '시켜서/XSV+EC', '죄송/XR', '해요/XSA+EF', './SF']\n",
      "['중단/NNG', '시켜서/XSV+EC', '죄송/XR', '해요/XSA+EF', './SF']\n",
      "['아/IC', ',/SC', '이런/MM', '!/SF', '도저히/MAG', '생각/NNG', '이/JKS', '안/MAG', '나/VV', '는/ETM', '걸/NNB+JKO', './SF']\n",
      "['Joe/SL', \"'/SY\", 's/SL', 'Café/SL', '라는/VCP+ETM', '레스토랑/NNG', '에/JKB', '가/VV', '고/EC', '싶/VX', '은데/EC', ',/SC', '알/VV', '고/EC', '계세요/VX+EF', '?/SF']\n",
      "['보다/MAG', '나/VA', '은/ETM', '건강/NNG', '과/JC', '생활/NNG', '회사/NNG', '의/JKG', '글렌/NNP', '토마스/NNP', '입니다/VCP+EF', './SF']\n",
      "['스타워즈/NNP', '는/JX', '어때/VA+EF', '?/SF']\n",
      "['데이터/NNG', '코디네이터/NNG', '나/JC', '데이터/NNG', '매니저/NNG', '가/JKS', '어떨까/VA+EC', '요/JX', '?/SF']\n",
      "['화성/NNG', '에서/JKB', '온/VV+ETM', '로봇/NNG', '이/VCP', '요/EF', '!/SF', '좋/VA', '아요/EF', '!/SF', '특수/NNG', '효과/NNG', '가/JKS', '대단/XR', '하/XSA', '대요/EF', './SF']\n",
      "['팩스/NNG', '를/JKO', '보내/VV+EC', '줘서/VX+EC', '감사/NNG', '합니다/XSV+EF', './SF']\n",
      "['11/SN', '월/NNBC', '30/SN', '일/NNBC', '날짜/NNG', '로/JKB', '팩스/NNG', '를/JKO', '보내/VV+EC', '줘서/VX+EC', '감사/NNG', '합니다/XSV+EF', './SF']\n",
      "['자격/NNG', '을/JKO', '취득/NNG', '하/XSV', '기/ETN', '위해/VV+EC', '공부/NNG', '중/NNB', '이/VCP', '에요/EF', './SF']\n",
      "['간호사/NNG', '자격/NNG', '을/JKO', '취득/NNG', '하/XSV', '기/ETN', '위해/VV+EC', '공부/NNG', '중/NNB', '이/VCP', '에요/EF', './SF']\n",
      "['국가/NNG', '시험/NNG', '을/JKO', '향해/VV+EC', '공부/NNG', '중/NNB', '이/VCP', '에요/EF', './SF']\n",
      "['공무원/NNG', '에/JKB', '되/VV', '기/ETN', '위한/VV+ETM', '국가/NNG', '시험/NNG', '을/JKO', '향해/VV+EC', '공부/NNG', '중/NNB', '이/VCP', '에요/EF', './SF']\n",
      "['잘/MAG', '됐/VV+EP', '어요/EF', './SF', '그럼/MAJ', '이제/MAG', '집/NNG', '에/JKB', '가/VV', '도/EC', '되/VV', '나요/EF', '?/SF']\n",
      "['죄송/XR', '합니다/XSA+EF', './SF', '그녀/NP', '는/JX', '안/NNG', '에/JKB', '없/VA', '네요/EF', './SF', '메모/NNG', '남겨/VV+EC', '드릴까요/VX+EF', '?/SF']\n",
      "['내려/VV+EC', '줄래요/VX+EF', './SF']\n",
      "['올려/VV+EC', '줄래요/VX+EF', './SF']\n",
      "['작/VA', '은/ETM', '목소리/NNG']\n",
      "['스미스/NNP', '선생/NNG', '님/XSN', './SF', '저/MM', '화장실/NNG', '에/JKB', '가/VV', '야/EC+VX', '겠/EP', '는데요/EF', './SF']\n",
      "['화장실/NNG', '이/JKS', '정말/MAG', '급해요/VA+EF', '!/SF']\n",
      "['그럼/MAJ', '총수입/NNG', '의/JKG', '얼마나/MAG', '되/VV', '는/ETM', '거/NNB', '죠/VCP+EF', '?/SF']\n",
      "['0136521798/SN', '이/VCP', '에요/EF', './SF']\n",
      "['1/SN', ',/SC', '199/SN', '달러/NNBC', '예요/VCP+EF', '?/SF']\n",
      "['100/SN', '그램/NNBC', '에/JKB', '비타민/NNG', 'C/SL', '의/JKG', '함유량/NNG', '은/JX', '레몬/NNG', '보다/JKB', '높/VA', '습니다/EF', './SF']\n",
      "['100/SN', '미터/NNBC', '더/MAG', '가/VV', '서/EC', '좌회전/NNG', '해/XSV+EF', './SF']\n",
      "['105/SN', '번/NNBC', '이/JKS', '그/MM', '근처/NNG', '에/JKB', '서/VV', '는/ETM', '것/NNB', '같/VA', '은데/EC', ',/SC', '확실/XR', '하/XSA', '진/EC+JX', '않/VX', '아요/EF', './SF']\n",
      "['낸시/NNP', '에게/JKB', '물/VV', '어/EC', '보/VX', '세요/EP+EF', './SF', '낸시/NNP', '는/JX', '나/NP', '보다/JKB', '더/MAG', '자주/MAG', '그/MM', '버스/NNG', '를/JKO', '이용/NNG', '하/XSV', '거든요/EF', './SF']\n",
      "['105/SN', '편/NNBC', '의/JKG', '탑승/NNG', '게이트/NNG', '는/JX', '변경/NNG', '되/XSV', '었/EP', '습니까/EF', '?/SF']\n",
      "['10/SN', '분/NNBC', '정도/NNG', '후/NNG', '에/JKB', '다시/MAG', '걸/VV', '어/EC', '주/VX', '세요/EP+EF', './SF']\n",
      "['10/SN', '분/NNBC', '후/NNG', '에/JKB', '다시/MAG', '걸/VV', '죠/EF', './SF']\n",
      "['10/SN', '분/NNBC', '후/NNG', '에/JKB', '와요/VV+EF', './SF']\n",
      "['10/SN', '분/NNBC', '정도/NNG', '기다리/VV', '실/EP+ETM', '수/NNB', '있/VV', '습니까/EF', '?/SF']\n",
      "['10/SN', '세/NNBC', '여자/NNG', '아이/NNG', '의/JKG', '선물/NNG', '로/JKB', '는/JX', '무엇/NP', '이/JKS', '좋/VA', '을/ETM', '것/NNB', '같/VA', '습니까/EF', '?/SF']\n",
      "['10/SN', '시/NNBC', '정각/NNG', '이/VCP', '에요/EF', './SF']\n",
      "['10/SN', '시/NNBC', '정각/NNG', '이/VCP', '에요/EF', './SF']\n",
      "['10/SN', '시/NNBC', '쯤/XSN', '에/JKB', '목욕/NNG', '해요/XSV+EF', './SF']\n",
      "['10/SN', '일/NNBC', '에/JKB', '는/JX', '바쁘/VA', '십니까/EP+EF', '?/SF']\n",
      "['11/SN', '번가/NNG', '와/JC', '브로드웨이/NNP', '가/JKS', '만나/VV', '는/ETM', '모퉁이/NNG', '로/JKB', '가/VV', '는/ETM', '버스/NNG', '가/JKS', '있/VA', '나요/EF', '?/SF']\n",
      "['123/SN', '호실/NNG', '좀/MAG', '대/VV+EC', '주/VX', '세요/EP+EF', '?/SF']\n",
      "['123/SN', '호실/NNG', '이/VCP', '오/EF', './SF']\n",
      "['125/SN', '쪽/NNBC', '입니다/VCP+EF', './SF']\n",
      "['12/SN', '시/NNBC', '부터/JX', '1/SN', '시/NNBC', '까지/JX', '예요/VCP+EF', './SF']\n",
      "['12/SN', '시/NNBC', '쯤/XSN', '에/JKB', '자요/NNG', './SF']\n",
      "['12/SN', '일/NNBC', '월요일/NNG', '에/JKB', '뉴욕/NNP', '에서/JKB', '필라델피아/NNP', '로/JKB', '가/VV', '는/ETM', '표/NNG', '를/JKO', '구하/VV', '려고/EC', '하/VX', '는데요/EF', './SF']\n",
      "['12/SN', '페이지/NNG', '밖/NNG', '에/JKB', '안/MAG', '돼요/VV+EF', './SF', '인쇄/NNG', '하/XSA', '는데/EC', '오래/MAG', '걸리/VV', '지/EC', '않/VX', '을/ETM', '거/NNB', '예요/VCP+EF', './SF']\n",
      "['14/SN', '달러/NNBC', '47/SN', '센트/NNBC', '입니다/VCP+EF', './SF', '정말/MAG', '죄송/XR', '합니다/XSA+EF', './SF']\n",
      "['15/SN', '분/NNBC', '쯤/NNG', '뒤/NNG', '에/JKB', '내/NP+JKG', '방/NNG', '으로/JKB', '와/VV+EC', '주/VX', '실래요/EP+EF', '?/SF']\n",
      "['15/SN', '세/NNBC', '이/VCP', '기/ETN', '때문/NNB', '에/JKB', '술/NNG', '은/JX', '마실/VV+ETM', '수/NNB', '없/VA', '습니다/EF', './SF']\n",
      "['15/SN', '일/NNBC', '이/VCP', '에요/EF', './SF']\n",
      "['17/SN', '일/NNBC', '은/JX', '몇/MM', '요일/NNG', '이/VCP', '에요/EF', '?/SF']\n",
      "['1981/SN', '년/NNBC', '에/JKB', '태어났/VV+EP', '어요/EF', './SF']\n",
      "['1990/SN', '년/NNBC', '에/JKB', '동화/NNG', '대학/NNG', '에/JKB', '입학/NNG', '을/JKO', '했/VV+EP', '어요/EF', './SF']\n",
      "['1995/SN', '년/NNBC', '에/JKB', '고등학교/NNG', '를/JKO', '졸업/NNG', '했/XSV+EP', '어요/EF', './SF']\n",
      "['1/SN', '개월/NNBC', '있/VV', '을/ETM', '예정/NNG', '입니다/VCP+EF', './SF']\n",
      "['1/SN', '달러/NNBC', '50/SN', '센트/NNBC', '에요/VCP+EF', './SF']\n",
      "['1/SN', '달러/NNBC', '25/SN', '센트/NNBC', '예요/VCP+EF', './SF']\n",
      "['1/SN', '박/NNBC', '에/JKB', '12/SN', '달러/NNBC', '밖에/JX', '안/MAG', '돼요/VV+EF', './SF']\n",
      "['1/SN', '번/NNBC', '전철/NNG', '을/JKO', '타/VV', '요/EF', './SF']\n",
      "['1/SN', '시간/NNBC', '반/NNG', '정도/NNG', '걸립니까/VV+EF', './SF']\n",
      "['1/SN', '시간/NNBC', '예요/VCP+EF', './SF']\n",
      "['1/SN', '시/NNBC', '반/NNG', '부터/JX', '3/SN', '시/NNBC', '까지/JX', '예요/VCP+EF', './SF']\n",
      "['1/SN', '주일/NNBC', '정도/NNG', '전/NNG', '부터/JX', '입니다/VCP+EF', './SF']\n",
      "['1/SN', '킬로미터/NNBC', '정도/NNG', '되돌아가/VV+EC', '봐/VX+EF', './SF']\n",
      "['2/SN', ',/SC', '3/SN', '시간/NNBC', '이/VCP', '면/EC', '돌아올/VV+ETM', '것/NNB', '이/VCP', '라/EC', '생각/NNG', '이/JKS', '되/VV', '요/EF', './SF']\n",
      "['2/SN', ',/SC', '3/SN', '개월/NNBC', '전이/NNG', '야/VCP+EF', './SF']\n",
      "['2/SN', ',/SC', '3/SN', '년/NNBC', '전이/NNG', '야/VCP+EF', './SF']\n",
      "['2/SN', ',/SC', '3/SN', '일/NNBC', '전/NNG', '부터/JX', '귀/NNG', '울림/NNG', '이/JKS', '있/VV', '었/EP', '습니다/EF', './SF']\n",
      "['2/SN', ',/SC', '3/SN', '일/NNBC', '전/NNG', '부터/JX', '눈/NNG', '이/JKS', '굉장히/MAG', '가렵/VA', '습니다/EF', './SF']\n",
      "['2/SN', ',/SC', '3/SN', '일/NNBC', '전이/NNG', '야/VCP+EF', './SF']\n",
      "['2/SN', ',/SC', '3/SN', '주일/NNBC', '전이/NNG', '야/VCP+EF', './SF']\n",
      "['2007/SN', '년/NNBC', '6/SN', '월/NNBC', '이/VCP', '에요/EF', './SF']\n",
      "['20/SN', '달러/NNBC', './SF']\n",
      "['20/SN', '달러/NNBC', '짜리/XSN', '지폐/NNG', '좀/MAG', '잔돈/NNG', '으로/JKB', '바꿔/VV+EC', '주/VX', '시/EP', '겠/EP', '어요/EF', '?/SF']\n",
      "['20/SN', '분/NNBC', '정도/NNG', '입니다/VCP+EF', './SF']\n",
      "['20/SN', '분/NNBC', '후/NNG', '에/JKB', '문/NNG', '닫/VV', '습니다/EF', './SF']\n",
      "['20/SN', '센트/NNBC', '자리/NNG', '우표/NNG', '3/SN', '장/NNBC', '이랑/JC', '50/SN', '센트/NNBC', '짜리/XSN', '우표/NNG', '2/SN', '장/NNBC', '주/VV', '세요/EP+EF', './SF']\n",
      "['20/SN', '센트/NNBC', '짜리/XSN', '우표/NNG', '5/SN', '장/NNBC', '주/VV', '세요/EP+EF', './SF']\n",
      "['20/SN', '일/NNBC', '의/JKG', '오전/NNG', '중/NNB', '이/VCP', '에요/EF', './SF']\n",
      "['20/SN', '일/NNBC', '의/JKG', '오후/NNG', '예요/VCP+EF', './SF']\n",
      "['20/SN', '일/NNBC', '이/VCP', '에요/EF', './SF']\n",
      "['21/SN', '퍼센트/NNBC', '가/JKS', '약간/MAG', '안/MAG', '되/VV', '죠/EF', './SF']\n",
      "['23/SN', '달러/NNBC', '92/SN', '센트/NNBC', '되/VV', '겠/EP', '습니다/EF', './SF']\n",
      "['23/SN', '달러/NNBC', '92/SN', '센트/NNBC', '라/VCP+EF', './SF', '그/MM', '금액/NNG', '이/JKS', '확실/XR', '한가요/XSA+EF', '?/SF']\n",
      "['2/SN', '개/NNBC', '살/VV+ETM', '테/NNB+VCP', '니까/EC', '조금/MAG', '깎/VV', '아/EC', '주/VX', '세요/EP+EF', './SF']\n",
      "['2/SN', '달러/NNBC', '20/SN', '센트/NNBC', '요/JX', ',/SC', '허클베리/NNG', '핀/NNG', '과/JC', '미국/NNP', '단편/NNG', '소설/NNG', '을/JKO', '대출/NNG', '했/XSV+EP', '군요/EF', './SF']\n",
      "['2/SN', '달러/NNBC', '90/SN', '센트/NNBC', '입니다/VCP+EF', './SF']\n",
      "['2/SN', '번/NNBC', '전철/NNG', '에/JKB', '타/VV', '요/EF', './SF']\n",
      "['2/SN', '번/NNBC', '이나/JX', '3/SN', '번/NNBC', '계산대/NNG', '를/JKO', '이용/NNG', '하/XSV', '십시오/EP+EF', './SF']\n",
      "['2/SN', '블/NNG', '럭/NNG', '을/JKO', '걸어가/VV', '요/EF', './SF']\n",
      "['2/SN', '시/NNBC', '10/SN', '분/NNBC', '입니다/VCP+EF', './SF']\n",
      "['2/SN', '시/NNBC', '조금/MAG', '넘/VV', '었/EP', '어요/EF', './SF']\n",
      "['2/SN', '시/NNBC', '10/SN', '분/NNBC', '조금/MAG', '넘/VV', '었/EP', '어요/EF', './SF']\n",
      "['2/SN', '시/NNBC', '10/SN', '분/NNBC', '이/VCP', '에요/EF', './SF']\n",
      "['2/SN', '시/NNBC', '15/SN', '분/NNBC', '이/VCP', '에요/EF', './SF']\n",
      "['2/SN', '시/NNBC', '30/SN', '분/NNBC', '이/VCP', '에요/EF', './SF']\n",
      "['2/SN', '시간/NNBC', '이/VCP', '에요/EF', './SF']\n",
      "['2/SN', '시간/NNBC', '정도/NNG', '예요/VCP+EF', './SF']\n",
      "['2/SN', '천/NR', '달러/NNBC', '입니다/VCP+EF', './SF']\n",
      "['2/SN', '층/NNG', '이/VCP', '니까/EC', '에스컬레이터/NNG', '로/JKB', '가/VV', '도/EC', '되/VV', '잖아/EF', './SF']\n",
      "['30/SN', '분/NNBC', '내/NNB', '로/JKB', '될/VV+ETM', '거/NNB', '요/VCP+EF', './SF', '식탁/NNG', '이나/JX', '차리/VV', '지/EC', '그래요/VV+EF', '?/SF']\n",
      "['30/SN', '분/NNBC', '정도/NNG', '예요/VCP+EF', './SF']\n",
      "['30/SN', '분/NNBC', '정도/NNG', '입니다/VCP+EF', './SF']\n",
      "['30/SN', '분/NNBC', '쯤/NNB', '이/VCP', '요/EF', './SF', '출발/NNG', '합니다/XSV+EF', './SF', '안전벨트/NNG', '매/VV', '세요/EP+EF', './SF']\n",
      "['30/SN', '세/NNBC', '의/JKG', '생일/NNG', '축하/NNG', '해/XSV+EF', '!/SF']\n",
      "['30/SN', '일/NNBC', '은/JX', '괜찮/VA', '아요/EF', './SF']\n",
      "['32/SN', '달러/NNBC', '78/SN', '센트/NNBC', '입니다/VCP+EF', './SF']\n",
      "['38/SN', '도/NNBC', '정도/NNG', '의/JKG', '열/NNG', '이/JKS', '있/VA', '어요/EF', './SF']\n",
      "['3/SN', '교대/NNG', '로/JKB', '운영/NNG', '하/XSV', '는/ETM', '건/NNB+JX', '어떨까/VA+EC', '요/JX', '?/SF']\n",
      "['3/SN', '년/NNBC', '전/NNG', '에/JKB', '재혼/NNG', '했/XSV+EP', '어요/EF', './SF']\n",
      "['3/SN', '년/NNBC', '전이/NNG', '야/VCP+EF', './SF']\n",
      "['3/SN', '년/NNBC', '만/NNB', '인가요/VCP+EF', '?/SF']\n",
      "['3/SN', '년/NNBC', '전/NNG', '에/JKB', '위궤양/NNG', '으로/JKB', '입원/NNG', '했/XSV+EP', '습니다/EF', './SF']\n",
      "['3/SN', '시/NNBC', '몇/MM', '분/NNBC', '전/NNG', '이/VCP', '에요/EF', './SF']\n",
      "['3/SN', '시/NNBC', '5/SN', '분/NNBC', '전/NNG', '이/VCP', '에요/EF', './SF']\n",
      "['3/SN', '시/NNBC', '가/JKS', '어때요/VA+EF', '?/SF']\n",
      "['3/SN', '시/NNBC', '에서/JKB', '5/SN', '시/NNBC', '까지/JX', '시간/NNG', '이/JKS', '있/VA', '어요/EF', './SF']\n",
      "['3/SN', '시/NNBC', '쯤/XSN', '에/JKB', '오/VV', '세요/EP+EF', './SF', '아무것/NP', '도/JX', '안/MAG', '가져와도/VV+EC', '되/VV', '요/EF', './SF', '구워/VV+EC', '먹/VV', '을/ETM', '음식/NNG', '이/JKS', '많이/MAG', '있/VA', '거든요/EF', './SF']\n",
      "['3/SN', '일/NNBC', '빌리/VV', '고/EC', '싶/VX', '은데요/EF', './SF']\n",
      "['3/SN', '일/NNBC', '전이/NNG', '야/VCP+EF', './SF']\n",
      "['3/SN', '일/NNBC', '간/NNG', '금연/NNG', '했/XSV+EP', '지만/EC', ',/SC', '담배/NNG', '를/JKO', '피우/VV', '지/EC', '못하/VX', '니/EC', '죽/VV', '을/ETM', '것/NNB', '같/VA', '았/EP', '어요/EF', './SF']\n",
      "['3/SN', '일/NNBC', '날/NNG', '셀러스/NNP', '박사/NNG', '님/XSN', '진료/NNG', '예약/NNG', '을/JKO', '할/VV+ETM', '수/NNB', '있/VV', '을까요/EF', '?/SF']\n",
      "['3/SN', '일/NNBC', '에/JKB', '한/MM', '번/NNBC', '데이트/NNG', '를/JKO', '해요/VV+EF', './SF']\n",
      "['3/SN', '일/NNBC', '정도/NNG', '머무를/VV+ETM', '겁니다/NNB+VCP+EF', './SF']\n",
      "['3/SN', '주/NNBC', '연휴/NNG', '는/JX', '어떻게/MAG', '지냈/VV+EP', '어요/EF', '?/SF']\n",
      "['3/SN', '주일/NNBC', '전이/NNG', '야/VCP+EF', './SF']\n",
      "['3/SN', '주/NNBC', '정도/NNG', '됩니다/VV+EF', './SF']\n",
      "['3/SN', '층/NNG', '까지/JX', '는/JX', '에스컬레이터/NNG', '로/JKB', '가/VV', '자/EF', './SF']\n",
      "['4/SN', '년/NNBC', '쯤/NNB', '됐/VV+EP', '어요/EF', './SF', '처음/NNG', '에/JKB', '는/JX', '텔레마/NNP', '케/NNP', '터로/NNP', '시작/NNG', '했/XSV+EP', '는데/EC', ',/SC', '지금/MAG', '은/JX', '뉴잉글랜드/NNP', '지역/NNG', '담당/NNG', '영업/NNG', '대리/NNG', '예요/VCP+EF', './SF']\n",
      "['4/SN', '명/NNBC', '이/VCP', '에요/EF', './SF']\n",
      "['4/SN', '번/NNBC', '에서/JKB', '8/SN', '시/NNBC', '부터/JX', '하/VV', '는/ETM', '이/MM', '프로그램/NNG', '은/JX', '어때/VA+EF', '?/SF']\n",
      "['4/SN', '월/NNBC', '25/SN', '일/NNBC', '이/VCP', '에요/EF', './SF']\n",
      "['500/SN', '달러/NNBC', '요/JX', './SF']\n",
      "['500/SN', '달러/NNBC', '짜리/XSN', '여행자/NNG', '수표/NNG', '를/JKO', '사용/NNG', '할/XSV+ETM', '수/NNB', '있/VV', '습니까/EF', '?/SF']\n",
      "['50/SN', '달러/NNBC', '짜리/XSN', '10/SN', '장/NNBC', ',/SC', '10/SN', '달러/NNBC', '짜리/XSN', '50/SN', '장/NNG', '부탁/NNG', '합니다/XSV+EF', './SF']\n",
      "['50/SN', '세/NNBC', '여성/NNG', '에게/JKB', '는/JX', '어떤/MM', '것/NNB', '이/JKS', '좋/VA', '습니까/EF', '?/SF']\n",
      "['555/SN', '-/SY', '3401/SN', '입니다/VCP+EF', './SF']\n",
      "['555/SN', '-/SY', '8765/SN', '입니다/VCP+EF', './SF']\n",
      "['55/SN', '달러/NNBC', '입니다/VCP+EF', './SF']\n",
      "['5/SN', '갤런/NNBC', '부탁/NNG', '합니다/XSV+EF', './SF']\n",
      "['5/SN', '년/NNBC', '전/NNG', '에/JKB', '결혼/NNG', '했/XSV+EP', '어요/EF', './SF']\n",
      "['5/SN', '년/NNBC', '전/NNG', '에/JKB', '김/NNP', '전기/NNG', '에/JKB', '입사/NNG', '했/XSV+EP', '어요/EF', './SF']\n",
      "['5/SN', '달러/NNBC', '75/SN', '센트/NNBC', '가/JKS', '되/VV', '겠/EP', '습니다/EF', './SF']\n",
      "['5/SN', '달러/NNBC', '의/JKG', '수수료/NNG', '가/JKS', '듭니다/UNKNOWN', './SF']\n",
      "['5/SN', '달러/NNBC', '짜리/XSN', '두/MM', '개/NNBC', '랑/JKB', '나머지/NNG', '는/JX', '전부/MAG', '1/SN', '달러/NNBC', '짜리/XSN', '로/JKB', '주/VX', '세요/EP+EF', '?/SF']\n",
      "['5/SN', '대/NNBC', '4/SN', '라고요/VCP+EC', '?/SY', '5/SN', '대/NNBC', '5/SN', '인줄/NNG', '알/VV', '았/EP', '는데/EF', './SF']\n",
      "['5/SN', '박/NNBC', '을/JKO', '했/VV+EP', '으면/EC', '하/VV', '는데/EC', './SF']\n",
      "['5/SN', '번/NNBC', '전철/NNG', '에/JKB', '타/VV', '요/EF', './SF']\n",
      "['5/SN', '분/NNBC', '간격/NNG', '으로/JKB', '와요/VV+EF', './SF']\n",
      "['5/SN', '분/NNBC', '만/JX', '더/MAG', '잘/VA', '게/EC', './SF']\n",
      "['5/SN', '분/NNBC', '후면/NNG', '8/SN', '시/NNBC', '야/VCP+EF', './SF']\n",
      "['5/SN', '시/NNBC', '20/SN', '분/NNBC', '에/JKB', '와요/VV+EF', './SF']\n",
      "['5/SN', '시/NNBC', '까지/JX', '도착/NNG', '해야/XSV+EC', '돼요/VV+EF', './SF']\n",
      "['5/SN', '시/NNBC', '반/NNG', '쯤/XSN', '에/JKB', '만나/VV', '요/EF', './SF']\n",
      "['5/SN', '월/NNBC', '초/NNB', '에/JKB', '필기/NNG', '시험/NNG', '을/JKO', '봅니다/VV+EF', './SF']\n",
      "['5/SN', '일/NNBC', '간/NNG', '정도/NNG', '예요/VCP+EF', './SF']\n",
      "['5/SN', '일/NNBC', '은/JX', '몇/MM', '요일/NNG', '이/VCP', '었/EP', '어요/EF', '?/SF']\n",
      "['600/SN', '달러/NNBC', '는/JX', '너무/MAG', '싸/VA', '요/EC', '!/SY', '800/SN', '달러/NNBC', '가/JKS', '어때요/VA+EF', '?/SF']\n",
      "['600/SN', '달러/NNBC', '만/JX', '좀/MAG', '빌려/VV+EC', '줄래/VX+EF', '?/SF']\n",
      "['6/SN', '살/NNBC', '짜리/XSN', '딸/NNG', '이/JKS', '천식/NNG', '이/VCP', '어서/EC', ',/SC', '금연/NNG', '하/XSV', '기/ETN', '로/JKB', '했/VV+EP', '습니다/EF', './SF']\n",
      "['6/SN', '시/NNBC', '30/SN', '분/NNBC', '에/JKB', '사무실/NNG', '앞/NNG', '에서/JKB', '만나/VV', '요/EF', './SF', '화랑/NNG', '은/JX', '여기/NP', '서/JKB', '조금/MAG', '만/JX', '걸어가/VV', '면/EC', '돼요/VV+EF', './SF']\n",
      "['6/SN', '시/NNBC', '까지/JX', '이/VCP', '구요/EF', './SF', '내일/MAG', '아침/NNG', '8/SN', '시/NNBC', '에/JKB', '다시/MAG', '문/NNG', '을/JKO', '열/VV', '어요/EF', './SF']\n",
      "['6/SN', '시/NNBC', '반/NNG', '에/JKB', '일어나/VV', '요/EF', './SF']\n",
      "['6/SN', '시/NNBC', '에/JKB', '끝/NNG', '나요/VCP+EF', './SF']\n",
      "['6/SN', '시/NNBC', '요/JX', './SF', '잘/MAG', '됐/VV+EP', '네요/EF', './SF', '그럼/MAJ', '5/SN', '시/NNBC', '30/SN', '분/NNBC', '쯤/XSN', '에/JKB', '들를/VV+ETM', '게/NNB+JKS', '요/JX', './SF', '감사/NNG', '합니다/XSV+EF', './SF']\n",
      "['6/SN', '시/NNBC', '인데/VCP+EC', ',/SC', '저녁/NNG', '먹/VV', '으러/EC', '갑시다/VX+EF', './SF']\n",
      "['6/SN', '시/NNBC', '쯤/XSN', '약간/NNG', '의/JKG', '지진/NNG', '이/JKS', '일어났/VV+EP', '어/EF', './SF']\n",
      "['6/SN', '시/NNBC', '쯤/XSN', '에/JKB', '끝/NNG', '나요/VCP+EF', './SF']\n",
      "['6/SN', '월/NNBC', '21/SN', '일/NNBC', '샌디/NNP', '이/VCP', '고/EC', '공항/NNG', '에서/JKB', '요/JX', './SF']\n",
      "['6/SN', '일/NNBC', '간/NNG', '이/VCP', '에요/EF', './SF']\n",
      "['76/SN', '에/JKB', '128/SN', '이/VCP', '로군요/EF', './SF', '그것/NP', '도/JX', '좋/VA', '습니다/EF', './SF']\n",
      "['798/SN', '-/SY', '092/SN', '입니다/VCP+EF', './SF']\n",
      "['7/SN', '과/NNG', '1/SN', '//SC', '2/SN', '사이즈/NNG', '정도/NNG', '신/VV', '을/ETM', '거/NNB', '예요/VCP+EF', './SF']\n",
      "['7/SN', '번/NNBC', '버스/NNG', '에/JKB', '타/VV', '요/EF', './SF']\n",
      "['7/SN', '시/NNBC', '15/SN', '분/NNBC', '에/JKB', '극장/NNG', '앞/NNG', '에서/JKB', '봐요/VV+EF', './SF']\n"
     ]
    },
    {
     "name": "stdout",
     "output_type": "stream",
     "text": [
      "['7/SN', '시/NNBC', '이후/NNG', '엔/JKB+JX', '시간/NNG', '이/JKS', '있/VA', '어요/EF', './SF']\n",
      "['7/SN', '시/NNBC', '반/NNG', '에/JKB', '집/NNG', '에서/JKB', '나와요/VV+EF', './SF']\n",
      "['7/SN', '시/NNBC', '부터/JX', '8/SN', '시/NNBC', '까지/JX', '1/SN', '시간/NNBC', '입니다/VCP+EF', './SF']\n",
      "['7/SN', '시/NNBC', '에/JKB', '아침밥/NNG', '을/JKO', '먹/VV', '어요/EF', './SF']\n",
      "['7/SN', '시/NNBC', '예요/VCP+EF', './SF']\n",
      "['8/SN', '사이즈/NNG', '도/JX', '한/MM', '번/NNBC', '입/VV', '어/EC', '봐야/VX+EC', '될/VV+ETM', '것/NNB', '같/VA', '아요/EF', './SF']\n",
      "['8/SN', '시/NNBC', '전/NNG', '에/JKB', '집/NNG', '에/JKB', '도착/NNG', '해요/XSV+EF', './SF']\n",
      "['8/SN', '월/NNBC', '3/SN', '일/NNBC', '부터/JX', '10/SN', '일/NNBC', '까지/JX', '사용/NNG', '할/XSV+ETM', '방/NNG', '있/VA', '어요/EF', '?/SF']\n",
      "['90026/SN', '이/VCP', '에요/EF', './SF']\n",
      "['911/SN', '에/JKB', '전화/NNG', '해/VV+EC', '주/VX', '세요/EP+EF', './SF']\n",
      "['9/SN', '년/NNBC', '이요/JX', './SF', '처음/NNG', '에/JKB', '는/JX', '아동/NNG', '도서/NNG', '를/JKO', '편집/NNG', '하/XSV', '는/ETM', '준/XPN', '편집/NNG', '직원/NNG', '으로/JKB', '시작/NNG', '해서/XSV+EC', '결국/MAG', '젊/VA', '은/ETM', '독자/NNG', '부/NNG', '편집장/NNG', '이/JKS', '됐/VV+EP', '어요/EF', './SF']\n",
      "['9/SN', '달러/NNBC', '95/SN', '센트/NNBC', '입니다/VCP+EF', './SF']\n",
      "['9/SN', '시/NNBC', '25/SN', '분/NNBC', '라/VCP+EC', '과르디/NNP', '아/JKV', '공항/NNG', '을/JKO', '출발/NNG', '하/XSV', '는/ETM', '항공편/NNG', '이/JKS', '있/VV', '는데/EC', ',/SC', '코네티컷/NNP', '주/NNG', '의/JKG', '하트/NNG', '포드/NNP', '에/JKB', '잠시/MAG', '들렀/VV+EP', '다가/EC', '나/VX', '서/EC', '11/SN', '시/NNBC', '15/SN', '분/NNBC', '에/JKB', '보스턴/NNG', '의/JKG', '로건/NNP', '공항/NNG', '에/JKB', '도착/NNG', '합니다/XSV+EF', './SF']\n",
      "['9/SN', '시/NNBC', '?/SY', '9/SN', '시/NNBC', '15/SN', '분/NNBC', '에/JKB', '병원/NNG', '예약/NNG', '이/JKS', '있/VA', '는데/EF', './SF', '좀/MAG', '태워다/VV+EC', '줄/VX+ETM', '수/NNB', '있/VV', '니/EF', '?/SF']\n",
      "['9/SN', '시/NNBC', '반/NNG', '부터/JX', '6/SN', '시/NNBC', '까지/JX', '예요/VCP+EF', './SF']\n",
      "['9/SN', '시/NNBC', '반/NNG', '부터/JX', '예요/VCP+EF', './SF']\n",
      "['9/SN', '시/NNBC', '부터/JX', '드라마/NNG', '를/JKO', '봐도/VV+EC', '되/VV', '?/SF']\n",
      "['9/SN', '시/NNBC', '부터/JX', '입니다/VCP+EF', './SF']\n",
      "['9/SN', '시/NNBC', '에/JKB', '약속/NNG', '이/JKS', '있/VV', '는데/EC', '늦/VA', '으면/EC', '안/MAG', '되/VV', '거든/EF', './SF']\n",
      "['9/SN', '월/NNBC', '20/SN', '일/NNBC', '7872/SN', '편/NNBC', ',/SC', '인/NNG', '천행/NNG', '을/JKO', '예약/NNG', '했/XSV+EP', '습니다/EF', './SF']\n",
      "['이코노미/NNP', '트리뷴/NNP', '지/NNP', '에서/JKB', 'ABC/SL', '기업/NNG', '이/JKS', '곧/MAG', '생산/NNG', '을/JKO', '증가/NNG', '시킬/XSV+ETM', '거/NNB', '라던데요/VCP+EF', './SF']\n",
      "['ABC/SL', '사/VV', '는/ETM', '힘든/VA+ETM', '상대/NNG', '라고/VCP+EC', '들/VX', '었/EP', '어요/EF', './SF']\n",
      "['A/SL', '열/NR', '10/SN', '번/NNBC', '자리/NNG', '를/JKO', '찾/VV', '고/EC', '있/VX', '는데요/EF', './SF']\n",
      "['B/SL', '애/NNG', '비뉴/NNG', '에/JKB', '있/VV', '는/ETM', '그/MM', '스테이크/NNG', '식당/NNG', '어때요/VA+EF', '?/SF', '전/NNG', '부터/JX', '거기/NP', '에/JKB', '가/VV+EC', '보/VX', '고/EC', '싶/VX', '었/EP', '거든요/EF', './SF']\n"
     ]
    }
   ],
   "source": [
    "for i in range(0, number):\n",
    "    tt = mec.pos(texts[i], flatten=True, join=True) \n",
    "    print(tt)"
   ]
  },
  {
   "cell_type": "code",
   "execution_count": 8,
   "id": "d56b32ff",
   "metadata": {},
   "outputs": [
    {
     "name": "stdout",
     "output_type": "stream",
     "text": [
      "['높/VA', '다/EF', './SF', '않/VX', '다/EF', './SF', '긁/VV', '다/EF', './SF', '그것/NP', '은/JX', '근거/NNG', '다/VCP+EF', './SF', '예상/NNG', '한/XSV+ETM', '결과/NNG', '다/VCP+EF', './SF', '맛있/VA', '는/ETM', '맥주/NNG', '다/VCP+EF', './SF', '지금/MAG', '자니/NNG', '?/SF', '먹/VV', '니/EF', '?/SF', '죽/VV', '었/EP', '니/EF', '?/SF', '했/VV+EP', '니/EF', '?/SF', '당신/NP', '의/JKG', '의견/NNG', '을/JKO', '말/NNG', '해/XSV+EC', '주/VX', '세요/EP+EF', './SF', '아빤/NNG+JX', '뭐/IC', '해/VV+EF', '?/SF', '당신/NP', '은/JX', '바쁘/VA', '네요/EF', './SF', '문무/NNG', '제/XSN', '는/JX', '큰/VA+ETM', '축제/NNG', '가/JKC', '아니/VCN', '다/EF', './SF', '제/NP+JKG', '의견/NNG', '입니다/VCP+EF', './SF', '제/NP+JKG', '생각/NNG', '은/JX', '다음/NNG', '과/JKB', '같/VA', '아요/EF', './SF', '제/NP+JKG', '말/NNG', '을/JKO', '끝/NNG', '까지/JX', '들/VV', '어/EC', '주/VX', '세요/EP+EF', './SF', '축제/NNG', '가/JKS', '언제/NP', '인가요/VCP+EF', '?/SF', '제습/NNG', '은/JX', '틀/VV', '었/EP', '어요/EF', '?/SF', '언제/MAG', '시작/NNG', '하/XSV', '는가/EF', '?/SF', '오/VV', '시/EP', '나요/EC', '오/VX', '셨/EP+EP', '습니다/EF', './SF', '밥/NNG', '을/JKO', '드셨/VV+EP', '다/EF', './SF', '그거/NP', '하/VV', '신대요/EP+EF', '?/SF', '벌써/MAG', '주무셨/VV+EP', '어요/EF', '?/SF', '즐겨/VV+EC', '먹/VV', '곤/EC', '하/VX', '신답니다/EP+EF', './SF', '완성/NNG', '되/XSV', '었/EP', '다/EF', './SF', '먹/VV', '으신다/EP+EP+EF', './SF', '정말/MAG', '힘드/VA', '셨/EP+EP', '겠/EP', '어요/EF', './SF', '밥/NNG', '은/JX', '요/JX', '?/SF', '밥/NNG', '은/JX', '없/VA', '어요/EF', '?/SF', '밥/NNG', '은/JX', '먹/VV', '었/EP', '죠/EF', '?/SF', '그랬/VV+EP', '죠/EF', './SF', '이건/NP+JX', '물/NNG', '이/VCP', '고/EC', '저건/NP+JX', '밥/NNG', '입니다/VCP+EF', './SF', '가/VV', '세요/EP+EF', './SF', '하/VV', '세요/EP+EF', './SF', '알/VV', '겠/EP', '습니다/EF', './SF', '45/SN', '분/NNBC', '이/NR', '예요/VCP+EF', './SF', '증가/NNG', '시킬/XSV+ETM', '거/NNB', '라던데요/VCP+EF', './SF', '하/VV', '세요/EP+EF', './SF', '밥/NNG', '이/VCP', '에요/EF', './SF', '알/VV', '겠/EP', '지요/EF', '?/SF']\n"
     ]
    }
   ],
   "source": [
    "#from eunjeon import Mecab\n",
    "mec = Mecab()\n",
    "txt = '높다. 않다. 긁다. 그것은 근거다. 예상한 결과다. 맛있는 맥주다. 지금 자니? 먹니? 죽었니? 했니? 당신의 의견을 말해주세요. 아빤 뭐해? 당신은 바쁘네요.\\\n",
    "문무제는 큰 축제가 아니다. 제 의견입니다. 제 생각은 다음과 같아요. 제 말을 끝까지 들어주세요. 축제가 언제인가요? 제습은 틀었어요?언제 시작하는가?\\n 오시나요\\\n",
    "오셨습니다. 밥을 드셨다. 그거 하신대요? 벌써 주무셨어요? 즐겨 먹곤 하신답니다. 완성되었다. 먹으신다. 정말 힘드셨겠어요. 밥은요? 밥은 없어요?\\\n",
    "밥은 먹었죠? 그랬죠. 이건 물이고 저건 밥입니다. 가세요. 하세요. 알겠습니다. 45분 이예요. 증가시킬 거라던데요. 하세요. 밥이에요. 알겠지요?'\n",
    "x = mec.pos(txt, flatten=True, join=True) \n",
    "print(x)"
   ]
  },
  {
   "cell_type": "code",
   "execution_count": 9,
   "id": "7e7b45c7",
   "metadata": {},
   "outputs": [
    {
     "name": "stdout",
     "output_type": "stream",
     "text": [
      "['높히/VV', '세요/EP+EF', './SF', '기/VV', '세요/EP+EF', './SF', '오르/VV', '세요/EP+EF', './SF', '지/VX', '세요/EP+EF', './SF', '기/VV', '어요/EF', './SF', '얼굴/NNG', '이/JKS', '기/VV', '세요/EP+EF', './SF', '바닥/NNG', '을/JKO', '기/VV', '세요/EP+EF', './SF', '당구/NNG', '를/JKO', '쳐요/VV+EF', './SF', '바닥/NNG', '을/JKO', '기/VV', '어/EF', './SF', '게임/NNG', '을/JKO', '지/VV', '어/EF', './SF', '우세요/VV+EP+EF', './SF', '우세/NNG', '하/XSA', '다/EF', './SF', '줄이/VV', '다/EF', './SF', '배고프/VA', '다/EF', './SF', '알/VV', '겠/EP', '습니다/EF', './SF', '알/VV', '겠/EP', '습니까/EF', '?/SF', '오/VV', '십니까/EP+EF', '?/SF', '먹/VV', '으세요/EF', '?/SF', '어서/MAG', '양파/NNG', '를/JKO', '가/VV', '세요/EP+EF', './SF', '정류장/NNG', '으로/JKB', '가/VV', '세요/EP+EF', './SF', '바닥/NNG', '을/JKO', '쓰/VV', '세요/EP+EF', './SF', '글/NNG', '을/JKO', '쓰/VV', '세요/EP+EF', './SF', '주환/NNP', '이/XSN', '가/JKS', '가/VV', '세요/EP+EF', './SF', '당신/NP', '은/JX', '서울/NNP', '에/JKB', '사세요/VV+EP+EF', './SF', '양파/NNG', '를/JKO', '사세요/VV+EP+EF', './SF', '그/NP', '는/JX', '온다더라/VV+EF', './SF', '싫/VA', '다네/EF', '?/SF', '모르/VV', '겠/EP', '다는데/EF', './SF', '부르/VV', '시/EP', '던데/EF', './SF', '어서/MAG', '믿/VV', '자/EF', './SF']\n"
     ]
    }
   ],
   "source": [
    "test = '높히세요. 기세요. 오르세요. 지세요. 기어요. 얼굴이 기세요. 바닥을 기세요. 당구를 쳐요. 바닥을 기어. 게임을 지어. 우세요. 우세하다. 줄이다.\\\n",
    "배고프다. 알겠습니다. 알겠습니까? 오십니까? 먹으세요? 어서 양파를 가세요. 정류장으로 가세요. 바닥을 쓰세요. 글을 쓰세요. 주환이가 가세요. \\\n",
    "당신은 서울에 사세요. 양파를 사세요. 그는 온다더라. 싫다네? 모르겠다는데. 부르시던데. 어서 믿자.'\n",
    "#x = mec.pos(test, flatten=True, join=True)\n",
    "x = mec.pos(test,flatten=True, join=True)\n",
    "print(x)"
   ]
  },
  {
   "cell_type": "code",
   "execution_count": 10,
   "id": "9ea5bec4",
   "metadata": {},
   "outputs": [
    {
     "name": "stdout",
     "output_type": "stream",
     "text": [
      "['아파트/Noun', '에/Josa', '사다/Verb', './Punctuation']\n"
     ]
    }
   ],
   "source": [
    "txt = '아파트에 사세요.'\n",
    "x = okt.pos(txt,norm=True, stem=True, join=True)\n",
    "# kom = Komoran()\n",
    "# x = kom.pos(txt,flatten=False, join=True)\n",
    "print(x)"
   ]
  },
  {
   "cell_type": "code",
   "execution_count": 11,
   "id": "852aadf5",
   "metadata": {},
   "outputs": [
    {
     "name": "stdout",
     "output_type": "stream",
     "text": [
      "['어서/MAG', '가/VV+EF', './SF', '그것/NP', '을/JKO', '했/VV+EP', '다더라/EF', './SF', '그걸/NP+JKO', '먹/VV', '더라/EF', './SF', '뭐/IC', '해/VV+EF', './SF', '자니/NNG', './SY', '밖/NNG', '이/VCP', '야/EF', './SF', '지금/MAG', '먹/VV', '으십니까/EP+EP+EF', './SF', '도저히/MAG', '생각/NNG', '이/JKS', '안/MAG', '나/VV', '는/ETM', '걸/NNB+JKO', './SF', '모르/VV', '겠/EP', '는걸/EF', './SF', '안/MAG', '되/VV', '는/ETM', '걸/NNB+JKO', './SF', '그건/NP+JX', '맞/VV', '는데/EC', '?/SF', '저건/NP+JX', '아닌데/VCN+EF', '?/SF', '오늘/MAG', '은/JX', '학생/NNG', '이/VCP', '다/EF', './SF', '밥/NNG', '먹/VV', '고/EC', '자/VV', '는/ETM', '중/NNB', '입니다/VCP+EF', './SF', '그/NP', '는/JX', '도서관/NNG', '에/JKB', '갔/VV+EP', '고/EC', '책/NNG', '을/JKO', '읽/VV', '었/EP', '다/EF', './SF', '나중/NNG', '에/JKB', '올/VV+ETM', '걸/NNB+JKO', './SF', '나/NP', '는/JX', '나비/NNG', '를/JKO', '보/VV', '니/EC', '참/MAG', '예쁘/VA', '다고/EC', '생각/NNG', '해/XSA+EF', './SF', '나/NP', '는/JX', '천재/NNG', '입니다/VCP+EF', './SF', '응/IC', './SF', '아니/IC', './SF', '실내/NNG', '가/JKS', '좋/VA', '아/EF', './SF', '아니요/IC', './SF', '행동/NNG', '을/JKO', '삼가/VV', '도록/EF', './SF', '하/VV', '시/EP', '옵/EP', '소서/EF', './SF', '신청/NNG', '을/JKO', '하/VV', '였으나/EP+EC', './SY', '악화/NNG', '되/XSV', '고/EC', '있/VX', '습니다만/EF', './SF', '고생/NNG', '하/XSA', '는구만/EF', './SF', '잘/MAG', '했/VV+EP', '구만/EF', './SF', '나/NP', '는/JX', '잘/MAG', '몰라/VV+EF', './SF', '어서/MAG', '와/VV+EF', './SF', '그러/VV', '다/EC', '체할라/VV+EC', './SF', '저기/NP', '서/JKB', '걸/VV', '어라/EF', './SF', '빨래/NNG', '한다며/VV+EF', './SF', '그날/NNG', '을/JKO', '고대/NNG', '하/XSV', '며/EC', './SY', '퇴진/NNG', '하/XSV', '라/EF', './SF', '만들/VV', '었/EP', '길/ETN+JKO', '바라/VV+EC', './SF', '깃들/VV', '어/EC', '보/VX', '라/EF', './SF', '찾/VV', '아/EC', '달/VX', '라/EF', './SF', '저/MM', '언덕/NNG', '을/JKO', '보/VV', '라/EF', './SF', '기뻐하/VV', '길/ETN+JKO', '바라/VV+EC', './SY', '사랑/NNG', '하/XSV', '게/EC', '될/VV+ETM', '테/NNB+VCP', '니/EF', './SF', '랩/NNG', '실/NNG', '을/JKO', '돌려/VV+EC', '달/VX', '라/EC', './SY', '1/SN', '학년/NNG', '에게/JKB', '밀리/VV', '다니/EF', './SF', '좋/VA', '게/EC', '말/NNG', '할/XSV+ETM', '때/NNG', '내놔/VV+EF', './SF', '한다면서/VV+EF', './SF', '싫/VA', '으니/EF', '?/SF', '어른/NNG', '이/JKS', '되/VV', '라/EF', './SF', '몰라/VV+EF', './SF', '저/MM', '물건/NNG', '주우/VV', '시/EP', '오/EF', './SF', '봤/VV+EP', '습니다/EF', './SF', '가/VV', '시/EP', '나요/EF', '?/SF', '먹/VV', '는다/EF', './SF', '누구/NP', '세요/VCP+EP+EF']\n"
     ]
    }
   ],
   "source": [
    "txt = '어서 가. 그것을 했다더라. 그걸 먹더라. 뭐해. 자니. 밖이야. 지금 먹으십니까. 도저히 생각이 안나는걸. 모르겠는걸. 안되는걸. 그건 맞는데? 저건 아닌데?\\\n",
    "오늘은 학생이다. 밥 먹고 자는 중입니다. 그는 도서관에 갔고 책을 읽었다. 나중에 올 걸. 나는 나비를 보니 참 예쁘다고 생각해. 나는 천재입니다. 응. 아니.\\\n",
    "실내가 좋아. 아니요. 행동을 삼가도록. 하시옵소서. 신청을 하였으나. 악화되고 있습니다만. 고생하는구만. 잘했구만. 나는 잘 몰라. 어서와. 그러다 체할라. 저기서 걸어라.\\\n",
    "빨래 한다며. 그날을 고대하며. 퇴진하라. 만들었길바라. 깃들어 보라. 찾아달라. 저 언덕을 보라. 기뻐하길 바라. 사랑하게 될테니. 랩실을 돌려달라.\\\n",
    "1학년에게 밀리다니.좋게 말할 때 내놔. 한다면서. 싫으니? 어른이 되라. 몰라. 저 물건 주우시오. 봤습니다. 가시나요? 먹는다. 누구세요'\n",
    "# kkm = Kkma() \n",
    "# kkm.pos(txt,flatten=False, join=True)\n",
    "x = mec.pos(txt,flatten=True, join=True)\n",
    "print(x)"
   ]
  },
  {
   "cell_type": "code",
   "execution_count": 44,
   "id": "46d2ae4e",
   "metadata": {},
   "outputs": [],
   "source": [
    "tt = '괜찮습니다. 예뻤습니다. 약속이 있습니다. 걸으신답니다. 먹으십시오. 걸으십시오. 쉽게 속습니다. 그의 말이 맞았습니다. 모르나요. 먹으십니까?\\\n",
    "알았습니까? 움직이세요. 그를 아십니까? 먹고 있습니다. 돌아다닙니까? 잔뜩 웅크린다. 깎인다. 죽은 거야. 지낼거예요. 토폴라지. 선수들이야. \\\n",
    "많은 이야기들이 나돈다. 알았을 거다. 그는 혼자다.'"
   ]
  },
  {
   "cell_type": "code",
   "execution_count": 45,
   "id": "d0a99d24",
   "metadata": {},
   "outputs": [
    {
     "name": "stdout",
     "output_type": "stream",
     "text": [
      "['괜찮/VA', '습니다/EF', './SF', '예뻤/VA+EP', '습니다/EF', './SF', '약속/NNG', '이/JKS', '있/VA', '습니다/EF', './SF', '걸으/VV+EP', '신답니다/EP+EF', './SF', '먹/VV', '으십시오/EP+EP+EF', './SF', '걸/VV', '으십시오/EP+EP+EF', './SF', '쉽/VA', '게/EC', '속/VV', '습니다/EF', './SF', '그/NP', '의/JKG', '말/NNG', '이/JKS', '맞/VV', '았/EP', '습니다/EF', './SF', '모르/VV', '나요/EF', './SF', '먹/VV', '으십니까/EP+EP+EF', '?/SF', '알/VV', '았/EP', '습니까/EF', '?/SF', '움직이/VV', '세요/EP+EF', './SF', '그/NP', '를/JKO', '아십니까/VV+EP+EF', '?/SF', '먹/VV', '고/EC', '있/VX', '습니다/EF', './SF', '돌아/VV', '다/EF', '닙니까/UNKNOWN', '?/SF', '잔뜩/MAG', '웅크린/VV+ETM', '다/EF', './SF', '깎인/VV+ETM', '다/EF', './SF', '죽/VV', '은/ETM', '거/NNB', '야/VCP+EF', './SF', '지낼/VV+ETM', '거/NNB', '예요/VCP+EF', './SF', '토폴라/NNP', '지/VCP+EF', './SF', '선수/NNG', '들/XSN', '이/VCP', '야/EF', './SF', '많/VA', '은/ETM', '이야기/NNG', '들/XSN', '이/JKS', '나돈/VV+ETM', '다/EF', './SF', '알/VV', '았/EP', '을/ETM', '거/NNB', '다/VCP+EF', './SF', '그/NP', '는/JX', '혼자/NNG', '다/VCP+EF', './SF']\n"
     ]
    }
   ],
   "source": [
    "x = mec.pos(tt,flatten=True, join=True)\n",
    "print(x)"
   ]
  },
  {
   "cell_type": "code",
   "execution_count": null,
   "id": "ac59b00d",
   "metadata": {},
   "outputs": [],
   "source": []
  },
  {
   "cell_type": "code",
   "execution_count": 14,
   "id": "51f86d90",
   "metadata": {},
   "outputs": [
    {
     "data": {
      "text/plain": [
       "'!a!a!aa'"
      ]
     },
     "execution_count": 14,
     "metadata": {},
     "output_type": "execute_result"
    }
   ],
   "source": [
    "s = 'sasasaa'\n",
    "s.replace('s','!')"
   ]
  },
  {
   "cell_type": "code",
   "execution_count": null,
   "id": "5810b39d",
   "metadata": {},
   "outputs": [],
   "source": []
  }
 ],
 "metadata": {
  "kernelspec": {
   "display_name": "Python 3",
   "language": "python",
   "name": "python3"
  },
  "language_info": {
   "codemirror_mode": {
    "name": "ipython",
    "version": 3
   },
   "file_extension": ".py",
   "mimetype": "text/x-python",
   "name": "python",
   "nbconvert_exporter": "python",
   "pygments_lexer": "ipython3",
   "version": "3.9.2"
  }
 },
 "nbformat": 4,
 "nbformat_minor": 5
}
