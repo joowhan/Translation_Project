{
 "cells": [
  {
   "cell_type": "code",
   "execution_count": 1,
   "id": "9e00f324",
   "metadata": {},
   "outputs": [],
   "source": [
    "import pandas as pd\n",
    "\n",
    "from konlpy.tag import Kkma, Komoran, Okt, Hannanum, Mecab\n",
    "from tqdm import tqdm\n",
    "\n",
    "han = Hannanum()\n",
    "mec = Mecab()\n",
    "okt = Okt()\n",
    "kkm = Kkma()\n",
    "kom = Komoran()\n",
    "\n",
    "number = 10\n",
    "\n",
    "texts = pd.read_table('./data/hgu_clean.kr', sep ='\\n')[:number]\n",
    "texts = texts['26일이요?']\n",
    "texts.shape\n",
    "tagger = [kkm, kom, okt, mec, han]\n",
    "tagger_a = ['Kkma', 'Komoran', 'Okt', 'Mecab', 'Hannanum']"
   ]
  },
  {
   "cell_type": "code",
   "execution_count": 2,
   "id": "068236b5",
   "metadata": {},
   "outputs": [],
   "source": [
    "def tagger_examples(tagger, texts):\n",
    "    el_list = []\n",
    "    for sentence in tqdm(texts):\n",
    "        try:\n",
    "            el_list.append(tagger.pos(sentence))\n",
    "        except:\n",
    "            pass\n",
    "    return el_list"
   ]
  },
  {
   "cell_type": "code",
   "execution_count": 3,
   "id": "987aa4f3",
   "metadata": {},
   "outputs": [
    {
     "name": "stderr",
     "output_type": "stream",
     "text": [
      "100%|██████████| 10/10 [00:16<00:00,  1.67s/it]\n",
      "100%|██████████| 10/10 [00:00<00:00, 431.50it/s]\n",
      "  0%|          | 0/10 [00:00<?, ?it/s]"
     ]
    },
    {
     "name": "stdout",
     "output_type": "stream",
     "text": [
      "Kkma: \n",
      "[('27', 'NR'), ('일', 'NNM'), ('은', 'JX'), ('괜찮', 'VA'), ('나요', 'EFQ'), ('?', 'SF')]\n",
      "[('중단', 'NNG'), ('시키', 'XSV'), ('어서', 'ECD'), ('죄송', 'XR'), ('하', 'XSA'), ('어요', 'EFN'), ('.', 'SF')]\n",
      "[('중단', 'NNG'), ('시키', 'XSV'), ('어서', 'ECD'), ('죄송', 'XR'), ('하', 'XSA'), ('어요', 'EFN'), ('.', 'SF')]\n",
      "[('아', 'VV'), ('아', 'ECS'), (',', 'SP'), ('이런', 'MDT'), ('!', 'SF'), ('도저히', 'MAG'), ('생각', 'NNG'), ('이', 'JKS'), ('안', 'MAG'), ('날', 'VV'), ('는걸', 'EFI'), ('.', 'SF')]\n",
      "[('Joe', 'OL'), (\"'\", 'SS'), ('s', 'OL'), ('Caf', 'OL'), ('é', 'SW'), ('이', 'VCP'), ('라는', 'ETD'), ('레스토랑', 'NNG'), ('에', 'JKM'), ('가', 'VV'), ('고', 'ECE'), ('싶', 'VXA'), ('은데', 'ECD'), (',', 'SP'), ('알', 'VV'), ('고', 'ECE'), ('계세', 'NNG'), ('이', 'VCP'), ('요', 'EFN'), ('?', 'SF')]\n",
      "[('보다', 'MAG'), ('낫', 'VA'), ('은', 'ETD'), ('건강', 'NNG'), ('과', 'JC'), ('생활', 'NNG'), ('회사', 'NNG'), ('의', 'JKG'), ('글', 'NNG'), ('렌', 'UN'), ('토마스', 'NNG'), ('이', 'VCP'), ('ㅂ니다', 'EFN'), ('.', 'SF')]\n",
      "[('스타워즈', 'NNG'), ('는', 'JX'), ('어', 'VV'), ('어', 'ECS'), ('때', 'NNG'), ('?', 'SF')]\n",
      "[('데이터', 'NNG'), ('코디네이터', 'NNG'), ('나', 'JC'), ('데이터', 'NNG'), ('매니저', 'NNG'), ('가', 'JKS'), ('어떠', 'VV'), ('ㄹ까요', 'EFQ'), ('?', 'SF')]\n",
      "[('화성', 'NNG'), ('에서', 'JKM'), ('오', 'VV'), ('ㄴ', 'ETD'), ('로봇', 'NNG'), ('이요', 'NNG'), ('!', 'SF'), ('좋', 'VA'), ('아요', 'EFN'), ('!', 'SF'), ('특수', 'NNG'), ('효과', 'NNG'), ('가', 'JKS'), ('대단', 'XR'), ('하', 'XSA'), ('대요', 'EFN'), ('.', 'SF')]\n",
      "[('팩스', 'NNG'), ('를', 'JKO'), ('보내주', 'VV'), ('어서', 'ECD'), ('감사', 'NNG'), ('하', 'XSV'), ('ㅂ니다', 'EFN'), ('.', 'SF')]\n",
      "Komoran: \n",
      "[('27', 'SN'), ('일', 'NNB'), ('은', 'JX'), ('괜찮', 'VA'), ('나요', 'EF'), ('?', 'SF')]\n",
      "[('중단', 'NNG'), ('시키', 'XSV'), ('어서', 'EC'), ('죄송', 'XR'), ('하', 'XSA'), ('어요', 'EF'), ('.', 'SF')]\n",
      "[('중단', 'NNG'), ('시키', 'XSV'), ('어서', 'EC'), ('죄송', 'XR'), ('하', 'XSA'), ('어요', 'EF'), ('.', 'SF')]\n",
      "[('아', 'IC'), (',', 'SP'), ('이런', 'IC'), ('!', 'SF'), ('도저히', 'MAG'), ('생각', 'NNG'), ('이', 'JKS'), ('안', 'MAG'), ('나', 'VV'), ('는걸', 'EF'), ('.', 'SF')]\n",
      "[('Joe', 'SL'), (\"'\", 'SS'), ('s', 'SL'), ('Caf', 'SL'), ('é', 'SW'), ('이', 'VCP'), ('라는', 'ETM'), ('레스토랑', 'NNP'), ('에', 'JKB'), ('가', 'VV'), ('고', 'EC'), ('싶', 'VX'), ('은데', 'EC'), (',', 'SP'), ('알', 'VV'), ('고', 'EC'), ('계세', 'NNG'), ('요', 'JX'), ('?', 'SF')]\n",
      "[('보다', 'MAG'), ('나', 'NP'), ('은', 'JX'), ('건강', 'NNG'), ('과', 'JC'), ('생활', 'NNG'), ('회사', 'NNG'), ('의', 'JKG'), ('글렌', 'NNP'), ('토마스', 'NNP'), ('이', 'VCP'), ('ㅂ니다', 'EF'), ('.', 'SF')]\n",
      "[('스타워즈', 'NNP'), ('는', 'JX'), ('어떻', 'VA'), ('어', 'EF'), ('?', 'SF')]\n",
      "[('데이터', 'NNG'), ('코디네이터', 'NNG'), ('나', 'JC'), ('데이터', 'NNG'), ('매니저', 'NNP'), ('가', 'JKS'), ('어떻', 'VA'), ('ㄹ까요', 'EF'), ('?', 'SF')]\n",
      "[('화성', 'NNP'), ('에서', 'JKB'), ('오', 'VV'), ('ㄴ', 'ETM'), ('로봇', 'NNP'), ('이', 'VCP'), ('요', 'EF'), ('!', 'SF'), ('좋', 'VA'), ('아요', 'EF'), ('!', 'SF'), ('특수 효과', 'NNP'), ('가', 'JKS'), ('대단', 'XR'), ('하', 'XSA'), ('대요', 'EF'), ('.', 'SF')]\n",
      "[('팩스', 'NNG'), ('를', 'JKO'), ('보내', 'VV'), ('어', 'EC'), ('주', 'VX'), ('어서', 'EC'), ('감사', 'NNG'), ('하', 'XSV'), ('ㅂ니다', 'EF'), ('.', 'SF')]\n"
     ]
    },
    {
     "name": "stderr",
     "output_type": "stream",
     "text": [
      "100%|██████████| 10/10 [00:07<00:00,  1.39it/s]\n",
      "100%|██████████| 10/10 [00:00<00:00, 3243.60it/s]\n",
      "  0%|          | 0/10 [00:00<?, ?it/s]"
     ]
    },
    {
     "name": "stdout",
     "output_type": "stream",
     "text": [
      "Okt: \n",
      "[('27일', 'Number'), ('은', 'Foreign'), ('괜찮나요', 'Adjective'), ('?', 'Punctuation')]\n",
      "[('중단', 'Noun'), ('시켜서', 'Verb'), ('죄송해요', 'Adjective'), ('.', 'Punctuation')]\n",
      "[('중단', 'Noun'), ('시켜서', 'Verb'), ('죄송해요', 'Adjective'), ('.', 'Punctuation')]\n",
      "[('아', 'Exclamation'), (',', 'Punctuation'), ('이런', 'Adjective'), ('!', 'Punctuation'), ('도저히', 'Noun'), ('생각', 'Noun'), ('이', 'Josa'), ('안', 'Noun'), ('나는걸', 'Verb'), ('.', 'Punctuation')]\n",
      "[('Joe', 'Alpha'), (\"'\", 'Punctuation'), ('s', 'Alpha'), ('Caf', 'Alpha'), ('é', 'Foreign'), ('라는', 'Josa'), ('레스토랑', 'Noun'), ('에', 'Josa'), ('가고', 'Verb'), ('싶은데', 'Verb'), (',', 'Punctuation'), ('알', 'Noun'), ('고', 'Josa'), ('계세', 'Noun'), ('요', 'Josa'), ('?', 'Punctuation')]\n",
      "[('보다', 'Verb'), ('나은', 'Noun'), ('건강', 'Noun'), ('과', 'Josa'), ('생활', 'Noun'), ('회사', 'Noun'), ('의', 'Josa'), ('글렌', 'Noun'), ('토마스', 'Noun'), ('입니다', 'Adjective'), ('.', 'Punctuation')]\n",
      "[('스타워즈', 'Noun'), ('는', 'Josa'), ('어때', 'Adjective'), ('?', 'Punctuation')]\n",
      "[('데이터', 'Noun'), ('코', 'Noun'), ('디네', 'Noun'), ('이', 'Determiner'), ('터', 'Noun'), ('나', 'Josa'), ('데이터', 'Noun'), ('매니저', 'Noun'), ('가', 'Josa'), ('어떨까', 'Adjective'), ('요', 'Noun'), ('?', 'Punctuation')]\n",
      "[('화성', 'Noun'), ('에서', 'Josa'), ('온', 'Noun'), ('로봇', 'Noun'), ('이', 'Suffix'), ('요', 'Josa'), ('!', 'Punctuation'), ('좋아요', 'Adjective'), ('!', 'Punctuation'), ('특수', 'Noun'), ('효과', 'Noun'), ('가', 'Josa'), ('대단하', 'Adjective'), ('대요', 'Noun'), ('.', 'Punctuation')]\n",
      "[('팩스', 'Noun'), ('를', 'Josa'), ('보내줘서', 'Verb'), ('감사합니다', 'Verb'), ('.', 'Punctuation')]\n",
      "Mecab: \n",
      "[('27', 'SN'), ('일', 'NNBC'), ('은', 'JX'), ('괜찮', 'VA'), ('나요', 'EF'), ('?', 'SF')]\n",
      "[('중단', 'NNG'), ('시켜서', 'XSV+EC'), ('죄송', 'XR'), ('해요', 'XSA+EF'), ('.', 'SF')]\n",
      "[('중단', 'NNG'), ('시켜서', 'XSV+EC'), ('죄송', 'XR'), ('해요', 'XSA+EF'), ('.', 'SF')]\n",
      "[('아', 'IC'), (',', 'SC'), ('이런', 'MM'), ('!', 'SF'), ('도저히', 'MAG'), ('생각', 'NNG'), ('이', 'JKS'), ('안', 'MAG'), ('나', 'VV'), ('는', 'ETM'), ('걸', 'NNB+JKO'), ('.', 'SF')]\n",
      "[('Joe', 'SL'), (\"'\", 'SY'), ('s', 'SL'), ('Café', 'SL'), ('라는', 'VCP+ETM'), ('레스토랑', 'NNG'), ('에', 'JKB'), ('가', 'VV'), ('고', 'EC'), ('싶', 'VX'), ('은데', 'EC'), (',', 'SC'), ('알', 'VV'), ('고', 'EC'), ('계세요', 'VX+EF'), ('?', 'SF')]\n",
      "[('보다', 'MAG'), ('나', 'VA'), ('은', 'ETM'), ('건강', 'NNG'), ('과', 'JC'), ('생활', 'NNG'), ('회사', 'NNG'), ('의', 'JKG'), ('글렌', 'NNP'), ('토마스', 'NNP'), ('입니다', 'VCP+EF'), ('.', 'SF')]\n",
      "[('스타워즈', 'NNP'), ('는', 'JX'), ('어때', 'VA+EF'), ('?', 'SF')]\n",
      "[('데이터', 'NNG'), ('코디네이터', 'NNG'), ('나', 'JC'), ('데이터', 'NNG'), ('매니저', 'NNG'), ('가', 'JKS'), ('어떨까', 'VA+EC'), ('요', 'JX'), ('?', 'SF')]\n",
      "[('화성', 'NNG'), ('에서', 'JKB'), ('온', 'VV+ETM'), ('로봇', 'NNG'), ('이', 'VCP'), ('요', 'EF'), ('!', 'SF'), ('좋', 'VA'), ('아요', 'EF'), ('!', 'SF'), ('특수', 'NNG'), ('효과', 'NNG'), ('가', 'JKS'), ('대단', 'XR'), ('하', 'XSA'), ('대요', 'EF'), ('.', 'SF')]\n",
      "[('팩스', 'NNG'), ('를', 'JKO'), ('보내', 'VV+EC'), ('줘서', 'VX+EC'), ('감사', 'NNG'), ('합니다', 'XSV+EF'), ('.', 'SF')]\n"
     ]
    },
    {
     "name": "stderr",
     "output_type": "stream",
     "text": [
      "100%|██████████| 10/10 [00:05<00:00,  1.72it/s]"
     ]
    },
    {
     "name": "stdout",
     "output_type": "stream",
     "text": [
      "Hannanum: \n",
      "[('27일', 'N'), ('은', 'J'), ('괜찮', 'P'), ('나', 'E'), ('요', 'J'), ('?', 'S')]\n",
      "[('중단', 'N'), ('시키', 'X'), ('어서', 'E'), ('죄송', 'N'), ('하', 'X'), ('어', 'E'), ('요', 'J'), ('.', 'S')]\n",
      "[('중단', 'N'), ('시키', 'X'), ('어서', 'E'), ('죄송', 'N'), ('하', 'X'), ('어', 'E'), ('요', 'J'), ('.', 'S')]\n",
      "[('아', 'I'), (',', 'S'), ('이런', 'M'), ('!', 'S'), ('도저히', 'M'), ('생각', 'N'), ('이', 'J'), ('알', 'P'), ('ㄴ', 'E'), ('나는걸', 'N'), ('.', 'S')]\n",
      "[('Joe', 'F'), (\"'\", 'S'), ('s', 'F'), ('Café', 'N'), ('라', 'N'), ('는', 'J'), ('레스토랑', 'N'), ('에', 'J'), ('가', 'P'), ('고', 'E'), ('싶', 'P'), ('은', 'E'), ('데', 'N'), (',', 'S'), ('알', 'P'), ('고', 'E'), ('계세요', 'I'), ('?', 'S')]\n",
      "[('보다', 'M'), ('나', 'N'), ('은', 'J'), ('건강', 'N'), ('과', 'J'), ('생활', 'N'), ('회사', 'N'), ('의', 'J'), ('글렌', 'N'), ('토마스입니', 'N'), ('이', 'J'), ('다', 'E'), ('.', 'S')]\n",
      "[('스타워즈', 'N'), ('는', 'J'), ('어때', 'I'), ('?', 'S')]\n",
      "[('데이터', 'N'), ('코디네이터', 'N'), ('나', 'J'), ('데이터', 'N'), ('매니저', 'N'), ('가', 'J'), ('어떨까요', 'N'), ('?', 'S')]\n",
      "[('화성', 'N'), ('에서', 'J'), ('오', 'P'), ('ㄴ', 'E'), ('로봇이요', 'N'), ('!', 'S'), ('좋', 'P'), ('아', 'E'), ('요', 'J'), ('!', 'S'), ('특수', 'N'), ('효과', 'N'), ('가', 'J'), ('대단', 'N'), ('하', 'X'), ('어', 'E'), ('대', 'P'), ('어', 'E'), ('요', 'J'), ('.', 'S')]\n",
      "[('팩스', 'N'), ('를', 'J'), ('보내', 'P'), ('어', 'E'), ('주', 'P'), ('어서', 'E'), ('감사', 'N'), ('하', 'X'), ('ㅂ니다', 'E'), ('.', 'S')]\n"
     ]
    },
    {
     "name": "stderr",
     "output_type": "stream",
     "text": [
      "\n"
     ]
    }
   ],
   "source": [
    "for i, tag in enumerate(tagger):\n",
    "    re = tagger_examples(tag, texts)\n",
    "    print(tagger_a[i]+': ')\n",
    "    for j in range(0, len(re)):\n",
    "        print(re[j])\n"
   ]
  },
  {
   "cell_type": "code",
   "execution_count": null,
   "id": "a28f75d4",
   "metadata": {},
   "outputs": [],
   "source": []
  }
 ],
 "metadata": {
  "kernelspec": {
   "display_name": "Python 3",
   "language": "python",
   "name": "python3"
  },
  "language_info": {
   "codemirror_mode": {
    "name": "ipython",
    "version": 3
   },
   "file_extension": ".py",
   "mimetype": "text/x-python",
   "name": "python",
   "nbconvert_exporter": "python",
   "pygments_lexer": "ipython3",
   "version": "3.9.2"
  }
 },
 "nbformat": 4,
 "nbformat_minor": 5
}
