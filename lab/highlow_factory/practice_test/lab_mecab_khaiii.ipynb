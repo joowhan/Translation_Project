{
 "cells": [
  {
   "cell_type": "code",
   "execution_count": 1,
   "id": "8e353aa7",
   "metadata": {},
   "outputs": [],
   "source": [
    "from konlpy.tag import Hannanum, Kkma, Komoran, Okt, Mecab, Twitter\n",
    "import pandas as pd\n",
    "from khaiii import KhaiiiApi\n",
    "khai = KhaiiiApi()\n",
    "mec = Mecab()"
   ]
  },
  {
   "cell_type": "code",
   "execution_count": 2,
   "id": "51a25d28",
   "metadata": {},
   "outputs": [],
   "source": [
    "txt = '나는 너를 사랑해. 저는 당신과 결혼하고 싶어요. 어머님, 아버님, 어머니, 아버지, 말씀이 왜 그러세요? 저기까지는 걸읍시다. 미쳤죠? 차질이 생겨서요. 물건을 드려요. 선생님께 드려요. 축하드려요. 올려드려요? 보내드려요. 부탁드려요. 하시나요? 먹으시나요? 힘드십니다. 먹으십니다. 참으십니다. 가십니다. 오십니다. 예쁘십니다. 먹으신다. 넌 정말로 누구야. 알겠습니다.\\\n",
    "선생님 오십니다. 먹으셨습니다. 선생님께서 밥을 먹으셨습니다. 여러분 반갑습니다. 아는 분이 결혼하셨는데 신부가 예쁘십니다. 누구에요? 갑시다. 만듭시다.\\\n",
    "노세요. 물건을 미세요. 저기 벽을 함께 밉시다. 선생님께서 누구보다 빠르게 오십니다. 근데 이제 와서 절반만 선적한 이유가 뭐예요. 먹읍시다. 빨리 놉시다.\\\n",
    "저기까지는 걸읍시다. 우리 이제 재미있게 놉시다. 빠르게 선을 그읍시다. 갑시다. 먹읍시다. 자릅시다. 데이터 코디네이터나 데이터 매니저가 어떨까요? \\\n",
    "언제해요? 로봇이요. 가셨습니다. 걸읍시다. '"
   ]
  },
  {
   "cell_type": "code",
   "execution_count": 3,
   "id": "84128062",
   "metadata": {},
   "outputs": [
    {
     "name": "stdout",
     "output_type": "stream",
     "text": [
      "['나/NP', '는/JX', '너/NP', '를/JKO', '사랑/NNG', '해/XSV+EF', './SF', '저/NP', '는/JX', '당신/NP', '과/JKB', '결혼/NNG', '하/XSV', '고/EC', '싶/VX', '어요/EF', './SF', '어머님/NNG', ',/SC', '아버님/NNG', ',/SC', '어머니/NNG', ',/SC', '아버지/NNG', ',/SC', '말씀/NNG', '이/JKS', '왜/MAG', '그러/VV', '세요/EP+EF', '?/SF', '저기/NP', '까지/JX', '는/JX', '걸/VV', '읍시다/EF', './SF', '미쳤/VV+EP', '죠/EF', '?/SF', '차질/NNG', '이/JKS', '생겨서/VV+EC', '요/JX', './SF', '물건/NNG', '을/JKO', '드려요/VV+EF', './SF', '선생/NNG', '님/XSN', '께/JKB', '드려요/VV+EF', './SF', '축하/NNG', '드려요/VV+EF', './SF', '올려/VV+EC', '드려요/VX+EF', '?/SF', '보내/VV+EC', '드려요/VX+EF', './SF', '부탁드려요/VV+EF', './SF', '하/VV', '시/EP', '나요/EF', '?/SF', '먹/VV', '으시/EP', '나요/EF', '?/SF', '힘드/VA', '십니다/EP+EF', './SF', '먹/VV', '으십니다/EP+EP+EF', './SF', '참으/VV', '십니다/EP+EF', './SF', '가/VV', '십니다/EP+EF', './SF', '오/VV', '십니다/EP+EF', './SF', '예쁘/VA', '십니다/EP+EF', './SF', '먹/VV', '으신다/EP+EP+EF', './SF', '넌/NP+JX', '정말로/MAG', '누구/NP', '야/VCP+EF', './SF', '알/VV', '겠/EP', '습니다/EF', './SF', '선생/NNG', '님/XSN', '오/VV', '십니다/EP+EF', './SF', '먹/VV', '으셨/EP+EP', '습니다/EF', './SF', '선생/NNG', '님/XSN', '께서/JKS', '밥/NNG', '을/JKO', '먹/VV', '으셨/EP+EP', '습니다/EF', './SF', '여러분/NP', '반갑/VA', '습니다/EF', './SF', '아/VV', '는/ETM', '분/NNB', '이/JKS', '결혼/NNG', '하/XSV', '셨/EP+EP', '는데/EC', '신부/NNG', '가/JKS', '예쁘/VA', '십니다/EP+EF', './SF', '누구/NP', '에/JKB', '요/JX', '?/SF', '갑시다/VV+EF', './SF', '만/NR', '듭/UNKNOWN', '시/EP', '다/EF', './SF', '노세요/VV+EP+EF', './SF', '물건/NNG', '을/JKO', '미/VV', '세요/EP+EF', './SF', '저기/NP', '벽/NNG', '을/JKO', '함께/MAG', '밉/VA', '시/EP', '다/EF', './SF', '선생/NNG', '님/XSN', '께서/JKS', '누구/NP', '보다/JKB', '빠르/VA', '게/EC', '오/VX', '십니다/EP+EF', './SF', '근데/MAJ', '이제/MAG', '와서/VV+EC', '절반/NNG', '만/JX', '선적/NNG', '한/XSA+ETM', '이유/NNG', '가/JKS', '뭐/NP', '예요/VCP+EF', './SF', '먹/VV', '읍시다/EF', './SF', '빨리/MAG', '놉/VA', '시/EP', '다/EF', './SF', '저기/NP', '까지/JX', '는/JX', '걸/VV', '읍시다/EF', './SF', '우리/NP', '이제/MAG', '재미있/VA', '게/EC', '놉/VA', '시/EP', '다/EF', './SF', '빠르/VA', '게/EC', '선/NNG', '을/JKO', '그/VV', '읍시다/EF', './SF', '갑시다/VV+EF', './SF', '먹/VV', '읍시다/EF', './SF', '자/IC', '릅/UNKNOWN', '시/EP', '다/EF', './SF', '데이터/NNG', '코디네이터/NNG', '나/JC', '데이터/NNG', '매니저/NNG', '가/JKS', '어떨까/VA+EC', '요/JX', '?/SF', '언제/MAG', '해요/VV+EF', '?/SF', '로봇/NNG', '이/VCP', '요/EF', './SF', '가/VV', '셨/EP+EP', '습니다/EF', './SF', '걸/VV', '읍시다/EF', './SF']\n"
     ]
    }
   ],
   "source": [
    "mecab = mec.pos(txt, flatten=True, join=True)\n",
    "print(mecab)"
   ]
  },
  {
   "cell_type": "code",
   "execution_count": 4,
   "id": "a60264be",
   "metadata": {},
   "outputs": [
    {
     "name": "stdout",
     "output_type": "stream",
     "text": [
      "나는\t나/NP + 는/JX\n",
      "너를\t너/NP + 를/JKO\n",
      "사랑해.\t사랑/NNG + 하/XSV + 아/EF + ./SF\n",
      "저는\t저/NP + 는/JX\n",
      "당신과\t당신/NP + 과/JKB\n",
      "결혼하고\t결혼/NNG + 하/XSV + 고/EC\n",
      "싶어요.\t싶/VX + 어요/EF + ./SF\n",
      "어머님,\t어머님/NNG + ,/SP\n",
      "아버님,\t아버님/NNG + ,/SP\n",
      "어머니,\t어머니/NNG + ,/SP\n",
      "아버지,\t아버지/NNG + ,/SP\n",
      "말씀이\t말씀/NNG + 이/JKS\n",
      "왜\t왜/MAG\n",
      "그러세요?\t그러/VV + 시/EP + 어요/EF + ?/SF\n",
      "저기까지는\t저기/NP + 까지/JX + 는/JX\n",
      "걸읍시다.\t것/NNB + ㄹ/JKO + 읍/VA + 시다/EF + ./SF\n",
      "미쳤죠?\t미치/VV + 었/EP + 죠/EF + ?/SF\n",
      "차질이\t차질/NNG + 이/JKS\n",
      "생겨서요.\t생기/VV + 어/EC + 서/VV + 요/EF + ./SF\n",
      "물건을\t물건/NNG + 을/JKO\n",
      "드려요.\t드리/VV + 어요/EF + ./SF\n",
      "선생님께\t선생/NNG + 님/XSN + 께/JKB\n",
      "드려요.\t드리/VV + 어요/EF + ./SF\n",
      "축하드려요.\t축하/NNG + 드/VV + 려/VCP + 요/EC + ./SF\n",
      "올려드려요?\t올려드/VV + 려요/EF + ?/SF\n",
      "보내드려요.\t보내드리/VV + 어요/EF + ./SF\n",
      "부탁드려요.\t부탁/NNG + 드/VV + 려요/EF + ./SF\n",
      "하시나요?\t하/VV + 시/EP + 나요/EF + ?/SF\n",
      "먹으시나요?\t먹/VV + 으시/EP + 나요/EF + ?/SF\n",
      "힘드십니다.\t힘/NNG + 들/VA + 시/EP + ㅂ니다/EF + ./SF\n",
      "먹으십니다.\t먹/VV + 으시/EP + ㅂ니다/EF + ./SF\n",
      "참으십니다.\t참/VV + 으시/EP + ㅂ니다/EF + ./SF\n",
      "가십니다.\t가/VV + 시/EP + ㅂ니다/EF + ./SF\n",
      "오십니다.\t오/NNG + 시/EP + ㅂ니다/EF + ./SF\n",
      "예쁘십니다.\t예/NNP + 쁘/VA + 시/EP + ㅂ니다/EF + ./SF\n",
      "먹으신다.\t먹/VV + 으시/EP + ㄴ다/EF + ./SF\n",
      "넌\t너/NP + ㄴ/JX\n",
      "정말로\t정말로/MAG\n",
      "누구야.\t누구/NP + 이/VCP + 야/EF + ./SF\n",
      "알겠습니다.선생님\t알/VV + 겠/EP + 습니다/EF + ./SF + 선생/NNG + 님/XSN\n",
      "오십니다.\t오/VV + 시/EP + ㅂ니다/EF + ./SF\n",
      "먹으셨습니다.\t먹/VV + 으시/EP + 었/EP + 습니다/EF + ./SF\n",
      "선생님께서\t선생/NNG + 님/XSN + 께서/JKS\n",
      "밥을\t밥/NNG + 을/JKO\n",
      "먹으셨습니다.\t먹/VV + 으시/EP + 었/EP + 습니다/EF + ./SF\n",
      "여러분\t여러분/NP\n",
      "반갑습니다.\t반갑/VA + 습니다/EF + ./SF\n",
      "아는\t알/VV + 는/ETM\n",
      "분이\t분/NNB + 이/JKS\n",
      "결혼하셨는데\t결혼/NNG + 하/XSV + 시/EP + 었/EP + 는데/EC\n",
      "신부가\t신부/NNG + 가/JKS\n",
      "예쁘십니다.\t예쁘/VA + 시/EP + ㅂ니다/EF + ./SF\n",
      "누구에요?\t누구/NP + 이/VCP + 에/EF + 요/JX + ?/SF\n",
      "갑시다.\t가/VV + ㅂ시다/EF + ./SF\n",
      "만듭시다.노세요.\t만/IC + 들/VV + ㅂ/EF + 시/EP + 다/EF + ./SF + 놀/VV + 시/EP + 어요/EF + ./SF\n",
      "물건을\t물건/NNG + 을/JKO\n",
      "미세요.\t미/VA + 시/EP + 어요/EF + ./SF\n",
      "저기\t저기/NP\n",
      "벽을\t벽/NNG + 을/JKO\n",
      "함께\t함께/MAG\n",
      "밉시다.\t밉/VA + 시/EP + 다/EF + ./SF\n",
      "선생님께서\t선생/NNG + 님/XSN + 께서/JKS\n",
      "누구보다\t누구/NP + 보다/JKB\n",
      "빠르게\t빠르/VA + 게/EC\n",
      "오십니다.\t오/VV + 시/EP + ㅂ니다/EF + ./SF\n",
      "근데\t근데/MAJ\n",
      "이제\t이제/MAG\n",
      "와서\t오/VV + 아서/EC\n",
      "절반만\t절반/NNG + 만/JX\n",
      "선적한\t선적/NNG + 하/XSV + ㄴ/ETM\n",
      "이유가\t이유/NNG + 가/JKS\n",
      "뭐예요.\t뭐/NP + 이/VCP + 에요/EF + ./SF\n",
      "먹읍시다.\t먹/VV + 읍시다/EF + ./SF\n",
      "빨리\t빨리/MAG\n",
      "놉시다.저기까지는\t놉시/VV + 다/EF + ./SF + 저기/NP + 까지/JX + 는/JX\n",
      "걸읍시다.\t것/NNB + ㄹ/JKO + 읍시다/EF + ./SF\n",
      "우리\t우리/NP\n",
      "이제\t이제/MAG\n",
      "재미있게\t재미있/VA + 게/EC\n",
      "놉시다.\t놀/VV + ㅂ/EF + 시/EP + 다/EF + ./SF\n",
      "빠르게\t빠르/VA + 게/EC\n",
      "선을\t선/NNG + 을/JKO\n",
      "그읍시다.\t그/MM + 읍/EF + 시/EP + 다/EF + ./SF\n",
      "갑시다.\t가/VV + ㅂ시다/EF + ./SF\n",
      "먹읍시다.\t먹/VV + 읍시다/EF + ./SF\n",
      "자릅시다.\t자르/VV + ㅂ시다/EF + ./SF\n",
      "데이터\t데이터/NNG\n",
      "코디네이터나\t코디네이터/NNG + 나/JC\n",
      "데이터\t데이터/NNG\n",
      "매니저가\t매니저/NNG + 가/JKS\n",
      "어떨까요?\t어떻/VA + ㄹ까요/EF + ?/SF\n",
      "언제해요?\t언제/NP + 하/XSA + 아/EF + 요/JX + ?/SF\n",
      "로봇이요.\t로봇/NNG + 이/VCP + 요/EF + ./SF\n",
      "가셨습니다.\t가/VV + 시/EP + 었/EP + 습니다/EF + ./SF\n",
      "걸읍시다.\t걸/NNG + 읍시다/EF + ./SF\n"
     ]
    }
   ],
   "source": [
    "for word in khai.analyze(txt):\n",
    "    print(word)"
   ]
  },
  {
   "cell_type": "code",
   "execution_count": 5,
   "id": "5c452134",
   "metadata": {},
   "outputs": [],
   "source": [
    "txt = '이 차는 이제 제겁니다. 괜찮으시나요? 먹으시나요? 먹으세요? 알고 주무세요? 죄송해요. 와! 정말 멋지네요! 대단하대요. 없네요. 메모 남겨 드릴까요? 알고 계세요?\\\n",
    "가야겠는데요. 이용하거든요. 죄송해요. 죄송합니다. 미안해요. 걸으세요. 바쁘십니까? 어디 계세요? 주시겠어요? 와 주실래요? 매세요. 끝나요? 어때요?\\\n",
    "도착 합니다. 끄덕입니다. 공부한다. 로건 공항에 도착합니다. 놉니다. 즐길 수 있습니다. 산을 먹읍시다. 우리 세게 밉시다. 방해받고 싶지 않습니다.\\\n",
    "행복해지자구요. 다들 재밌게 논단다. 구으세요. 주으세요.'"
   ]
  },
  {
   "cell_type": "code",
   "execution_count": 6,
   "id": "f4da1a43",
   "metadata": {},
   "outputs": [
    {
     "name": "stdout",
     "output_type": "stream",
     "text": [
      "['이/NR', '차/NNBC', '는/JX', '이제/MAG', '제/MM', '겁니다/NNB+VCP+EF', './SF', '괜찮/VA', '으시/EP', '나요/EF', '?/SF', '먹/VV', '으시/EP', '나요/EF', '?/SF', '먹/VV', '으세요/EF', '?/SF', '알/VV', '고/EC', '주무세요/VV+EF', '?/SF', '죄송/XR', '해요/XSA+EF', './SF', '와/VV+EF', '!/SF', '정말/MAG', '멋지/VA', '네요/EF', '!/SF', '대단/XR', '하/XSA', '대요/EF', './SF', '없/VA', '네요/EF', './SF', '메모/NNG', '남겨/VV+EC', '드릴까요/VX+EF', '?/SF', '알/VV', '고/EC', '계세요/VX+EF', '?/SF', '가/VV', '야/EC+VX', '겠/EP', '는데요/EF', './SF', '이용/NNG', '하/XSV', '거든요/EF', './SF', '죄송/XR', '해요/XSA+EF', './SF', '죄송/XR', '합니다/XSA+EF', './SF', '미안/NNG', '해요/XSV+EF', './SF', '걸으/VV+EP', '세요/EP+EF', './SF', '바쁘/VA', '십니까/EP+EF', '?/SF', '어디/NP', '계세요/VV+EF', '?/SF', '주/VX', '시/EP', '겠/EP', '어요/EF', '?/SF', '와/VV+EC', '주/VX', '실래요/EP+EF', '?/SF', '매/VV', '세요/EP+EF', './SF', '끝/NNG', '나요/VCP+EF', '?/SF', '어때요/VA+EF', '?/SF', '도착/NNG', '합니다/XSV+EF', './SF', '끄덕입니다/VV+EF', './SF', '공부/NNG', '한다/XSV+EF', './SF', '로건/NNP', '공항/NNG', '에/JKB', '도착/NNG', '합니다/XSV+EF', './SF', '놉/VA', '니다/EF', './SF', '즐길/VV+ETM', '수/NNB', '있/VV', '습니다/EF', './SF', '산/NNG', '을/JKO', '먹/VV', '읍시다/EF', './SF', '우리/NP', '세/VA', '게/EC', '밉/VA', '시/EP', '다/EF', './SF', '방해/NNG', '받/VV', '고/EC', '싶/VX', '지/EC', '않/VX', '습니다/EF', './SF', '행복/NNG', '해/XSV+EC', '지/VX', '자구요/EF', './SF', '다/MAG', '들/XSN', '재밌/VA', '게/EC', '논단/NNG', '다/VCP+EF', './SF', '구/VA', '으세요/EF', './SF', '주/VX', '으세요/EF', './SF']\n"
     ]
    }
   ],
   "source": [
    "mecab = mec.pos(txt, flatten=True, join=True)\n",
    "print(mecab)"
   ]
  },
  {
   "cell_type": "code",
   "execution_count": 7,
   "id": "de208dd7",
   "metadata": {},
   "outputs": [
    {
     "name": "stdout",
     "output_type": "stream",
     "text": [
      "이\t이/MM\n",
      "차는\t차/NNG + 는/JX\n",
      "이제\t이제/MAG\n",
      "제겁니다.\t제/NNG + 것/NNB + 이/VCP + ㅂ니다/EF + ./SF\n",
      "괜찮으시나요?\t괜찮/VA + 으시/EP + 나요/EF + ?/SF\n",
      "먹으시나요?\t먹/VV + 으시/EP + 나요/EF + ?/SF\n",
      "먹으세요?\t먹/VV + 으시/EP + 어요/EF + ?/SF\n",
      "알고\t알/VV + 고/EC\n",
      "주무세요?\t주무/NNG + 세요/EF + ?/SF\n",
      "죄송해요.\t죄송/XR + 하/XSA + 아요/EF + ./SF\n",
      "와!\t와/IC + !/SF\n",
      "정말\t정말/MAG\n",
      "멋지네요!\t멋지네/VA + 요/EF + !/SF\n",
      "대단하대요.\t대단/XR + 하/XSA + 대요/EF + ./SF\n",
      "없네요.\t없/VA + 네요/EF + ./SF\n",
      "메모\t메모/NNG\n",
      "남겨\t남기/VV + 어/EC\n",
      "드릴까요?\t드리/VX + ㄹ까요/EF + ?/SF\n",
      "알고\t알/VV + 고/EC\n",
      "계세요?가야겠는데요.\t계시/VX + 어요/EF + ?/SF + 가/VV + 야/EC + 겠/EP + 는데요/EF + ./SF\n",
      "이용하거든요.\t이용/NNG + 하/XSV + 거든요/EF + ./SF\n",
      "죄송해요.\t죄송/XR + 하/XSA + 아요/EF + ./SF\n",
      "죄송합니다.\t죄송/XR + 하/XSA + ㅂ니다/EF + ./SF\n",
      "미안해요.\t미안/NNG + 하/XSA + 아요/EF + ./SF\n",
      "걸으세요.\t걷/VV + 으시/EP + 어요/EF + ./SF\n",
      "바쁘십니까?\t바쁘/VA + 시/EP + ㅂ니까/EF + ?/SF\n",
      "어디\t어/NP + 디/IC\n",
      "계세요?\t계시/VV + 어요/EF + ?/SF\n",
      "주시겠어요?\t주/VV + 시/EP + 겠/EP + 어요/EF + ?/SF\n",
      "와\t오/VV + 아/EC\n",
      "주실래요?\t주/VV + 시/EP + ㄹ래요/EF + ?/SF\n",
      "매세요.\t매/VA + 시/EP + 어요/EF + ./SF\n",
      "끝나요?\t끝나/VV + 요/EF + ?/SF\n",
      "어때요?도착\t어떻/VA + 어요/EF + ?/SF + 도착/NNG\n",
      "합니다.\t하/VV + ㅂ니다/EF + ./SF\n",
      "끄덕입니다.\t끄덕/VV + 이/VCP + ㅂ니다/EF + ./SF\n",
      "공부한다.\t공부/NNG + 하/XSV + ㄴ다/EF + ./SF\n",
      "로건\t로건/NNG\n",
      "공항에\t공항/NNG + 에/JKB\n",
      "도착합니다.\t도착/NNG + 하/XSV + ㅂ니다/EF + ./SF\n",
      "놉니다.\t놀/VV + ㅂ니다/EF + ./SF\n",
      "즐길\t즐기/VV + ㄹ/ETM\n",
      "수\t수/NNB\n",
      "있습니다.\t있/VV + 습니다/EF + ./SF\n",
      "산을\t산/NNG + 을/JKO\n",
      "먹읍시다.\t먹/VV + 읍시다/EF + ./SF\n",
      "우리\t우리/NP\n",
      "세게\t세/VA + 게/EC\n",
      "밉시다.\t밉/VA + 시다/EF + ./SF\n",
      "방해받고\t방해/NNG + 받/VV + 고/EC\n",
      "싶지\t싶/VX + 지/EC\n",
      "않습니다.행복해지자구요.\t않/VX + 습니다/EF + ./SF + 행복/NNG + 하/XSA + 여/EC + 지/VX + 자/NNG + 구요/EF + ./SF\n",
      "다들\t다/MAG + 들/XSN\n",
      "재밌게\t재밌/VA + 게/EC\n",
      "논단다.\t논단/NNG + 다/EF + ./SF\n",
      "구으세요.\t굴/VV + 으/VA + 시/EP + 어요/EF + ./SF\n",
      "주으세요.\t줍/VV + 으시/EP + 어요/EF + ./SF\n"
     ]
    }
   ],
   "source": [
    "for word in khai.analyze(txt):\n",
    "    print(word)"
   ]
  },
  {
   "cell_type": "code",
   "execution_count": 8,
   "id": "8ce538ba",
   "metadata": {},
   "outputs": [],
   "source": [
    "txt = '로비에 한번 가보지 그러세요. 만듭니다. 다들 재밌게 논단다. 먹고 있잖니. 금방 온대. 봐요. 네, 알겠어요. 아니오. 어긋나요. 나타나요? 누구세요?\\\n",
    "누구십니까? 누굽니까? 문제래요? 천재에요.'"
   ]
  },
  {
   "cell_type": "code",
   "execution_count": 9,
   "id": "0d704ff2",
   "metadata": {},
   "outputs": [
    {
     "name": "stdout",
     "output_type": "stream",
     "text": [
      "['로비/NNG', '에/JKB', '한/MM', '번/NNBC', '가/VV+EC', '보/VX', '지/EC', '그러/VV', '세요/EP+EF', './SF', '만듭니다/VV+EC', './SF', '다/MAG', '들/XSN', '재밌/VA', '게/EC', '논단/NNG', '다/VCP+EF', './SF', '먹/VV', '고/EC', '있/VX', '잖니/EF', './SF', '금방/MAG', '온대/VV+EF', './SF', '봐요/VV+EF', './SF', '네/IC', ',/SC', '알/VV', '겠/EP', '어요/EF', './SF', '아니/VCN', '오/EF', './SF', '어/IC', '긋/VV', '나요/EF', './SF', '나타나/VV', '요/EF', '?/SF', '누구/NP', '세요/VCP+EP+EF', '?/SF', '누구/NP', '십니까/VCP+EP+EF', '?/SF', '누굽니까/NP+VCP+EF', '?/SF', '문제/NNG', '래요/VCP+EF', '?/SF', '천재/NNG', '에/JKB', '요/JX', './SF']\n",
      "로비에\t로비/NNG + 에/JKB\n",
      "한번\t한/MM + 번/NNB\n",
      "가보지\t가/VV + 아/EC + 보/VX + 지/EC\n",
      "그러세요.\t그러/VV + 시/EP + 어요/EF + ./SF\n",
      "만듭니다.\t만들/VV + ㅂ니다/EF + ./SF\n",
      "다들\t다/NNG + 들/XSN\n",
      "재밌게\t재밌/VA + 게/EC\n",
      "논단다.\t논단/NNG + 다/EF + ./SF\n",
      "먹고\t먹/VV + 고/EC\n",
      "있잖니.\t있/VX + 지/EC + 않/VX + 니/EF + ./SF\n",
      "금방\t금방/MAG\n",
      "온대.\t오/VV + ㄴ/EF + 대/NNG + ./SF\n",
      "봐요.\t보/VV + 아요/EF + ./SF\n",
      "네,\t네/IC + ,/SP\n",
      "알겠어요.\t알/VV + 겠/EP + 어요/EF + ./SF\n",
      "아니오.\t아니/VCN + 오/EF + ./SF\n",
      "어긋나요.\t어긋나/VV + 요/EF + ./SF\n",
      "나타나요?\t나타나/VV + 요/EF + ?/SF\n",
      "누구세요?누구십니까?\t누구/NP + 이/VCP + 시/EP + 어/EF + 요/IC + ?/SF + 누구/NP + 이/VCP + 시/EP + ㅂ니까/EF + ?/SF\n",
      "누굽니까?\t누구/NP + 굽/NNG + 니까/EF + ?/SF\n",
      "문제래요?\t문제/NNG + 이/VCP + 래/EF + 이/VCP + 요/EF + ?/SF\n",
      "천재에요.\t천재/NNG + 이/VCP + 에요/EF + ./SF\n"
     ]
    }
   ],
   "source": [
    "mecab = mec.pos(txt, flatten=True, join=True)\n",
    "print(mecab)\n",
    "for word in khai.analyze(txt):\n",
    "    print(word)"
   ]
  },
  {
   "cell_type": "code",
   "execution_count": 10,
   "id": "920c85cf",
   "metadata": {},
   "outputs": [
    {
     "name": "stdout",
     "output_type": "stream",
     "text": [
      "로비에\t로비/NNG + 에/JKB\n",
      "한번\t한/MM + 번/NNB\n",
      "가보지\t가/VV + 아/EC + 보/VX + 지/EC\n",
      "그러세요.\t그러/VV + 시/EP + 어요/EF + ./SF\n",
      "만듭니다.\t만들/VV + ㅂ니다/EF + ./SF\n",
      "다들\t다/NNG + 들/XSN\n",
      "재밌게\t재밌/VA + 게/EC\n",
      "논단다.\t논단/NNG + 다/EF + ./SF\n",
      "먹고\t먹/VV + 고/EC\n",
      "있잖니.\t있/VX + 지/EC + 않/VX + 니/EF + ./SF\n",
      "금방\t금방/MAG\n",
      "온대.\t오/VV + ㄴ/EF + 대/NNG + ./SF\n",
      "봐요.\t보/VV + 아요/EF + ./SF\n",
      "네,\t네/IC + ,/SP\n",
      "알겠어요.\t알/VV + 겠/EP + 어요/EF + ./SF\n",
      "아니오.\t아니/VCN + 오/EF + ./SF\n",
      "어긋나요.\t어긋나/VV + 요/EF + ./SF\n",
      "나타나요?\t나타나/VV + 요/EF + ?/SF\n",
      "누구세요?누구십니까?\t누구/NP + 이/VCP + 시/EP + 어/EF + 요/IC + ?/SF + 누구/NP + 이/VCP + 시/EP + ㅂ니까/EF + ?/SF\n",
      "누굽니까?\t누구/NP + 굽/NNG + 니까/EF + ?/SF\n",
      "문제래요?\t문제/NNG + 이/VCP + 래/EF + 이/VCP + 요/EF + ?/SF\n",
      "천재에요.\t천재/NNG + 이/VCP + 에요/EF + ./SF\n"
     ]
    }
   ],
   "source": [
    "yo = [\n",
    "    '을까', 'ㄹ까', '지', '으니까', '어', '아',\n",
    "    '는데', 'ㄴ가', 'ㄹ게', '래', '잖아', '네',\n",
    "    '여', 'ㄹ래', '게', '나', '군', '을게', '다고',\n",
    "    '지만', '은데', 'ㄴ지', '는지', '라고', 'ㄴ데',\n",
    "    '는걸', '아서', '거든', '더라고', '어서', '려고',\n",
    "    '을래', '대', 'ㄴ대', '던데', '더군', '여서', '건가',\n",
    "    '어야지', 'ㄹ걸', 'ㄹ께', '아야지', '다면서', '는군',\n",
    "    'ㄴ다고', '은가', '다니', '다면', '실까', '가', '신가',\n",
    "    '서', '까'\n",
    "]\n",
    "for word in khai.analyze(txt):\n",
    "    print(word)\n"
   ]
  },
  {
   "cell_type": "code",
   "execution_count": 11,
   "id": "e3da680a",
   "metadata": {},
   "outputs": [],
   "source": [
    "txt = '네 말이 맞는 것 같습니다. 네, 동의합니다. 아니요, 그 말이 맞아. 응, 네 말이 맞아. 안녕하세요. 하세요. 저는 잘하세요.. 저 하늘을 봐. 저 느낌으로 가자. 관저 있지. 문무제가 다가왔다. 저는 제가 제 말이 당신은'"
   ]
  },
  {
   "cell_type": "code",
   "execution_count": 12,
   "id": "a75aa809",
   "metadata": {},
   "outputs": [
    {
     "name": "stdout",
     "output_type": "stream",
     "text": [
      "['네/IC', '말/NNG', '이/JKS', '맞/VV', '는/ETM', '것/NNB', '같/VA', '습니다/EF', './SF', '네/IC', ',/SC', '동의/NNG', '합니다/XSV+EF', './SF', '아니요/IC', ',/SC', '그/MM', '말/NNG', '이/JKS', '맞/VV', '아/EF', './SF', '응/IC', ',/SC', '네/MM', '말/NNG', '이/JKS', '맞/VV', '아/EF', './SF', '안녕/IC', '하/VV', '세요/EP+EF', './SF', '하/VV', '세요/EP+EF', './SF', '저/NP', '는/JX', '잘/MAG', '하/VV', '세요/EP+EF', './SF', './SY', '저/MM', '하늘/NNG', '을/JKO', '봐/VV+EF', './SF', '저/MM', '느낌/NNG', '으로/JKB', '가/VV', '자/EF', './SF', '관저/NNP', '있/VA', '지/EF', './SF', '문무/NNG', '제/NP', '가/JKS', '다가왔/VV+EP', '다/EF', './SF', '저/NP', '는/JX', '제/NP', '가/JKS', '제/NP+JKG', '말/NNG', '이/JKS', '당신/NP', '은/JX']\n",
      "네\t너/NP + 의/JKG\n",
      "말이\t말/NNG + 이/JKS\n",
      "맞는\t맞/VV + 는/ETM\n",
      "것\t것/NNB\n",
      "같습니다.\t같/VA + 습니다/EF + ./SF\n",
      "네,\t네/IC + ,/SP\n",
      "동의합니다.\t동의/NNG + 하/XSV + ㅂ니다/EF + ./SF\n",
      "아니요,\t아/IC + 니/VCN + 요/EC + ,/SP\n",
      "그\t그/MM\n",
      "말이\t말/NNG + 이/JKS\n",
      "맞아.\t맞/VV + 아/EF + ./SF\n",
      "응,\t응/IC + ,/SP\n",
      "네\t너/NP + 의/JKG\n",
      "말이\t말/NNG + 이/JKS\n",
      "맞아.\t맞/VV + 아/EC + ./SF\n",
      "안녕하세요.\t안녕/NNG + 하/XSA + 세요/EF + ./SF\n",
      "하세요.\t하/VV + 시/EP + 어요/EF + ./SF\n",
      "저는\t저/NP + 는/JX\n",
      "잘하세요..\t잘/MAG + 하/XSV + 세요/EF + ../SE\n",
      "저\t저/MM\n",
      "하늘을\t하늘/NNG + 을/JKO\n",
      "봐.\t보/VV + 아/EF + ./SF\n",
      "저\t저/MM\n",
      "느낌으로\t느낌/NNG + 으로/JKB\n",
      "가자.\t가/VV + 자/EF + ./SF\n",
      "관저\t관저/NNG\n",
      "있지.\t있/VV + 지/EC + ./SF\n",
      "문무제가\t문무제/NNG + 가/JKS\n",
      "다가왔다.\t다가오/VV + 았/EP + 다/EF + ./SF\n",
      "저는\t저/NP + 는/JX\n",
      "제가\t제/NP + 가/JKS\n",
      "제\t저/NP + 의/JKG\n",
      "말이\t말/NNG + 이/JKS\n",
      "당신은\t당신/NP + 은/JX\n"
     ]
    }
   ],
   "source": [
    "mecab = mec.pos(txt, flatten=True, join=True)\n",
    "print(mecab)\n",
    "for word in khai.analyze(txt):\n",
    "    print(word)"
   ]
  },
  {
   "cell_type": "code",
   "execution_count": 13,
   "id": "6fa333e8-6aac-4937-85da-ecf78ba0ef78",
   "metadata": {},
   "outputs": [],
   "source": [
    "txt = '밉시다. 갑시다. 행복합시다. 놉시다. 걸읍시다. 해봅시다. 화가나요? 갔나요? 떠나요? 생각나요. 기억나요? 너가 죽여요? 그래? 난 컴퓨터를 재밌게 공부한다. 전 먹고 싶다. 저는 잘하세요. 저 하늘을 봐. 저 느낌으로 가자. 관저 있지. 문무제가 다가왔다. 저는 제가 제 말이 당신은 당신이 저가 미제. 단오제 황저제 마트제 키보드제'"
   ]
  },
  {
   "cell_type": "code",
   "execution_count": 14,
   "id": "7a620801-aa86-4007-a92c-6b0a5e69f2e6",
   "metadata": {},
   "outputs": [
    {
     "name": "stdout",
     "output_type": "stream",
     "text": [
      "['밉/VA', '시/EP', '다/EF', './SF', '갑시다/VV+EF', './SF', '행복/NNG', '합시다/XSV+EF', './SF', '놉/VA', '시/EP', '다/EF', './SF', '걸/VV', '읍시다/EF', './SF', '해/VV+EC', '봅시다/VX+EF', './SF', '화가/NNG', '나요/VCP+EF', '?/SF', '갔/VV+EP', '나요/EF', '?/SF', '떠나/VV', '요/EF', '?/SF', '생각/NNG', '나요/VCP+EF', './SF', '기억/NNG', '나요/VCP+EF', '?/SF', '너/NP', '가/JKS', '죽여요/VV+EF', '?/SF', '그래/IC', '?/SF', '난/NP+JX', '컴퓨터/NNG', '를/JKO', '재밌/VA', '게/EC', '공부/NNG', '한다/XSV+EF', './SF', '전/NP+JX', '먹/VV', '고/EC', '싶/VX', '다/EF', './SF', '저/NP', '는/JX', '잘/MAG', '하/VV', '세요/EP+EF', './SF', '저/MM', '하늘/NNG', '을/JKO', '봐/VV+EF', './SF', '저/MM', '느낌/NNG', '으로/JKB', '가/VV', '자/EF', './SF', '관저/NNP', '있/VA', '지/EF', './SF', '문무/NNG', '제/NP', '가/JKS', '다가왔/VV+EP', '다/EF', './SF', '저/NP', '는/JX', '제/NP', '가/JKS', '제/NP+JKG', '말/NNG', '이/JKS', '당신/NP', '은/JX', '당신/NP', '이/JKS', '저/NP', '가/JKS', '미제/NNG', './SY', '단오제/NNP', '황저/NNG', '제/XSN', '마트/NNG', '제/XSN', '키보드/NNG', '제/XSN']\n",
      "밉시다.\t밉/VA + 시다/EF + ./SF\n",
      "갑시다.\t가/VV + ㅂ시다/EF + ./SF\n",
      "행복합시다.\t행복/NNG + 하/XSV + ㅂ시다/EF + ./SF\n",
      "놉시다.\t놀/VV + ㅂ/EF + 시/EP + 다/EF + ./SF\n",
      "걸읍시다.\t걸/VV + 읍시/EF + 다/EC + ./SF\n",
      "해봅시다.\t하/VV + 여/EC + 보/VX + ㅂ시다/EF + ./SF\n",
      "화가나요?\t화가/NNG + 나/VV + 요/EF + ?/SF\n",
      "갔나요?\t가/VV + 았/EP + 나요/EF + ?/SF\n",
      "떠나요?\t떠나/VV + 요/EF + ?/SF\n",
      "생각나요.\t생/VV + 각/NNG + 나/VV + 요/EF + ./SF\n",
      "기억나요?\t기억/NNG + 나/VV + 요/EF + ?/SF\n",
      "너가\t너/NP + 가/JKS\n",
      "죽여요?\t죽이/VV + 어요/EF + ?/SF\n",
      "그래?\t그래/IC + ?/SF\n",
      "난\t나/NP + ㄴ/JX\n",
      "컴퓨터를\t컴퓨터/NNG + 를/JKO\n",
      "재밌게\t재밌/VA + 게/EC\n",
      "공부한다.\t공부/NNG + 하/XSV + ㄴ/EF + 다/EC + ./SF\n",
      "전\t저/NP + ㄴ/JX\n",
      "먹고\t먹/VV + 고/EC\n",
      "싶다.\t싶/VX + 다/EF + ./SF\n",
      "저는\t저/NP + 는/JX\n",
      "잘하세요.\t잘/MAG + 하/XSV + 세요/EF + ./SF\n",
      "저\t저/MM\n",
      "하늘을\t하늘/NNG + 을/JKO\n",
      "봐.\t보/VV + 아/EF + ./SF\n",
      "저\t저/MM\n",
      "느낌으로\t느낌/NNG + 으로/JKB\n",
      "가자.\t가/VV + 자/EF + ./SF\n",
      "관저\t관저/NNG\n",
      "있지.\t있/VV + 지/EC + ./SF\n",
      "문무제가\t문무제/NNG + 가/JKS\n",
      "다가왔다.\t다가오/VV + 았/EP + 다/EF + ./SF\n",
      "저는\t저/NP + 는/JX\n",
      "제가\t제/NP + 가/JKS\n",
      "제\t저/NP + 의/JKG\n",
      "말이\t말/NNG + 이/JKS\n",
      "당신은\t당신/NP + 은/JX\n",
      "당신이\t당신/NP + 이/JKS\n",
      "저가\t저/NP + 가/JKS\n",
      "미제.\t미제/NNG + ./SF\n",
      "단오제\t단/NNG + 오/NNP + 제/NNG\n",
      "황저제\t황저/NNG + 제/NNP\n",
      "마트제\t마트/NNG + 제/XSN\n",
      "키보드제\t키보드/NNG + 제/MAG\n"
     ]
    }
   ],
   "source": [
    "mecab = mec.pos(txt, flatten=True, join=True)\n",
    "print(mecab)\n",
    "for word in khai.analyze(txt):\n",
    "    print(word)"
   ]
  },
  {
   "cell_type": "code",
   "execution_count": 20,
   "id": "a6e28d8a-8d0c-49e7-b95a-da27b1df4646",
   "metadata": {},
   "outputs": [
    {
     "name": "stdout",
     "output_type": "stream",
     "text": [
      "Mecab 형태소 분석기 결과:  ['제/NP+JKG', '조카/NNG', '에/JKB', '요/JX', './SF', '섬/NNG', '에/JKB', '요/JX', '?/SF', '저녁/NNG', '에/JKB', '요/JX', '?/SF']\n",
      "Khaiii 형태소 분석기 결과 : \n",
      "제\t저/NP + 의/JKG\n",
      "조카에요.\t조카/NNG + 이/VCP + 에/EF + 요/JX + ./SF\n",
      "섬에요?\t섬/NNG + 이/VCP + 에/EF + 요/JX + ?/SF\n",
      "저녁에요?\t저녁/NNG + 에/JKB + 요/JX + ?/SF\n"
     ]
    }
   ],
   "source": [
    "txt = '제 조카에요. 섬에요? 저녁에요?'\n",
    "mecab = mec.pos(txt, flatten=True, join=True)\n",
    "print(\"Mecab 형태소 분석기 결과: \",mecab)\n",
    "print(\"Khaiii 형태소 분석기 결과 : \")\n",
    "for word in khai.analyze(txt):\n",
    "    print(word)"
   ]
  },
  {
   "cell_type": "code",
   "execution_count": 17,
   "id": "29f19c36-ccb3-4194-a6dd-fa6bd91d60b4",
   "metadata": {},
   "outputs": [
    {
     "name": "stdout",
     "output_type": "stream",
     "text": [
      "Mecab 형태소 분석기 결과:  ['누구/NP', '에/JKB', '요/JX', './SF']\n",
      "Khaiii 형태소 분석기 결과 : \n",
      "누구에요.\t누구/NP + 이/VCP + 에요/EF + ./SF\n"
     ]
    }
   ],
   "source": [
    "txt = '누구에요.'\n",
    "mecab = mec.pos(txt, flatten=True, join=True)\n",
    "print(\"Mecab 형태소 분석기 결과: \",mecab)\n",
    "print(\"Khaiii 형태소 분석기 결과 : \")\n",
    "for word in khai.analyze(txt):\n",
    "    print(word)"
   ]
  },
  {
   "cell_type": "code",
   "execution_count": null,
   "id": "562e4fcc-ffca-4839-baef-a8d9f3eaa208",
   "metadata": {},
   "outputs": [],
   "source": []
  }
 ],
 "metadata": {
  "kernelspec": {
   "display_name": "Python 3",
   "language": "python",
   "name": "python3"
  },
  "language_info": {
   "codemirror_mode": {
    "name": "ipython",
    "version": 3
   },
   "file_extension": ".py",
   "mimetype": "text/x-python",
   "name": "python",
   "nbconvert_exporter": "python",
   "pygments_lexer": "ipython3",
   "version": "3.9.2"
  }
 },
 "nbformat": 4,
 "nbformat_minor": 5
}
