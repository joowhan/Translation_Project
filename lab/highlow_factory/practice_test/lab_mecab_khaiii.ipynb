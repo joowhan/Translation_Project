{
 "cells": [
  {
   "cell_type": "code",
   "execution_count": 1,
   "id": "8e353aa7",
   "metadata": {},
   "outputs": [],
   "source": [
    "from konlpy.tag import Hannanum, Kkma, Komoran, Okt, Mecab, Twitter\n",
    "import pandas as pd\n",
    "from khaiii import KhaiiiApi\n",
    "khai = KhaiiiApi()\n",
    "mec = Mecab()"
   ]
  },
  {
   "cell_type": "code",
   "execution_count": 42,
   "id": "51a25d28",
   "metadata": {},
   "outputs": [],
   "source": [
    "txt = '하시나요? 먹으시나요? 힘드십니다. 먹으십니다. 참으십니다. 가십니다. 오십니다. 예쁘십니다. 먹으신다. 넌 정말로 누구야. 알겠습니다.\\\n",
    "선생님 오십니다. 먹으셨습니다. 선생님께서 밥을 먹으셨습니다. 여러분 반갑습니다. 아는 분이 결혼하셨는데 신부가 예쁘십니다. 누구에요? 갑시다. 만듭시다.\\\n",
    "노세요. 물건을 미세요. 저기 벽을 함께 밉시다. 선생님께서 누구보다 빠르게 오십니다. 근데 이제 와서 절반만 선적한 이유가 뭐예요. 먹읍시다. 빨리 놉시다.\\\n",
    "저기까지는 걸읍시다. 우리 이제 재미있게 놉시다. 빠르게 선을 그읍시다. 갑시다. 먹읍시다. 자릅시다.'"
   ]
  },
  {
   "cell_type": "code",
   "execution_count": 43,
   "id": "84128062",
   "metadata": {},
   "outputs": [
    {
     "name": "stdout",
     "output_type": "stream",
     "text": [
      "['하/VV', '시/EP', '나요/EF', '?/SF', '먹/VV', '으시/EP', '나요/EF', '?/SF', '힘드/VA', '십니다/EP+EF', './SF', '먹/VV', '으십니다/EP+EP+EF', './SF', '참으/VV', '십니다/EP+EF', './SF', '가/VV', '십니다/EP+EF', './SF', '오/VV', '십니다/EP+EF', './SF', '예쁘/VA', '십니다/EP+EF', './SF', '먹/VV', '으신다/EP+EP+EF', './SF', '넌/NP+JX', '정말로/MAG', '누구/NP', '야/VCP+EF', './SF', '알/VV', '겠/EP', '습니다/EF', './SF', '선생/NNG', '님/XSN', '오/VV', '십니다/EP+EF', './SF', '먹/VV', '으셨/EP+EP', '습니다/EF', './SF', '선생/NNG', '님/XSN', '께서/JKS', '밥/NNG', '을/JKO', '먹/VV', '으셨/EP+EP', '습니다/EF', './SF', '여러분/NP', '반갑/VA', '습니다/EF', './SF', '아/VV', '는/ETM', '분/NNB', '이/JKS', '결혼/NNG', '하/XSV', '셨/EP+EP', '는데/EC', '신부/NNG', '가/JKS', '예쁘/VA', '십니다/EP+EF', './SF', '누구/NP', '에/JKB', '요/JX', '?/SF', '갑시다/VV+EF', './SF', '만/NR', '듭/UNKNOWN', '시/EP', '다/EF', './SF', '노세요/VV+EP+EF', './SF', '물건/NNG', '을/JKO', '미/VV', '세요/EP+EF', './SF', '저기/NP', '벽/NNG', '을/JKO', '함께/MAG', '밉/VA', '시/EP', '다/EF', './SF', '선생/NNG', '님/XSN', '께서/JKS', '누구/NP', '보다/JKB', '빠르/VA', '게/EC', '오/VX', '십니다/EP+EF', './SF', '근데/MAJ', '이제/MAG', '와서/VV+EC', '절반/NNG', '만/JX', '선적/NNG', '한/XSA+ETM', '이유/NNG', '가/JKS', '뭐/NP', '예요/VCP+EF', './SF', '먹/VV', '읍시다/EF', './SF', '빨리/MAG', '놉/VA', '시/EP', '다/EF', './SF', '저기/NP', '까지/JX', '는/JX', '걸/VV', '읍시다/EF', './SF', '우리/NP', '이제/MAG', '재미있/VA', '게/EC', '놉/VA', '시/EP', '다/EF', './SF', '빠르/VA', '게/EC', '선/NNG', '을/JKO', '그/VV', '읍시다/EF', './SF', '갑시다/VV+EF', './SF', '먹/VV', '읍시다/EF', './SF', '자/IC', '릅/UNKNOWN', '시/EP', '다/EF', './SF']\n"
     ]
    }
   ],
   "source": [
    "mecab = mec.pos(txt, flatten=True, join=True)\n",
    "print(mecab)"
   ]
  },
  {
   "cell_type": "code",
   "execution_count": 44,
   "id": "a60264be",
   "metadata": {},
   "outputs": [
    {
     "name": "stdout",
     "output_type": "stream",
     "text": [
      "하시나요?\t하/VV + 시/EP + 나요/EF + ?/SF\n",
      "먹으시나요?\t먹/VV + 으시/EP + 나요/EF + ?/SF\n",
      "힘드십니다.\t힘/NNG + 들/VA + 시/EP + ㅂ니다/EF + ./SF\n",
      "먹으십니다.\t먹/VV + 으시/EP + ㅂ니다/EF + ./SF\n",
      "참으십니다.\t참/VV + 으시/EP + ㅂ니다/EF + ./SF\n",
      "가십니다.\t가/VV + 시/EP + ㅂ니다/EF + ./SF\n",
      "오십니다.\t오/NNG + 시/EP + ㅂ니다/EF + ./SF\n",
      "예쁘십니다.\t예/NNP + 쁘/VA + 시/EP + ㅂ니다/EF + ./SF\n",
      "먹으신다.\t먹/VV + 으시/EP + ㄴ다/EF + ./SF\n",
      "넌\t너/NP + ㄴ/JX\n",
      "정말로\t정말로/MAG\n",
      "누구야.\t누구/NP + 이/VCP + 야/EF + ./SF\n",
      "알겠습니다.선생님\t알/VV + 겠/EP + 습니다/EF + ./SF + 선생/NNG + 님/XSN\n",
      "오십니다.\t오/VV + 시/EP + ㅂ니다/EF + ./SF\n",
      "먹으셨습니다.\t먹/VV + 으시/EP + 었/EP + 습니다/EF + ./SF\n",
      "선생님께서\t선생/NNG + 님/XSN + 께서/JKS\n",
      "밥을\t밥/NNG + 을/JKO\n",
      "먹으셨습니다.\t먹/VV + 으시/EP + 었/EP + 습니다/EF + ./SF\n",
      "여러분\t여러분/NP\n",
      "반갑습니다.\t반갑/VA + 습니다/EF + ./SF\n",
      "아는\t알/VV + 는/ETM\n",
      "분이\t분/NNB + 이/JKS\n",
      "결혼하셨는데\t결혼/NNG + 하/XSV + 시/EP + 었/EP + 는데/EC\n",
      "신부가\t신부/NNG + 가/JKS\n",
      "예쁘십니다.\t예쁘/VA + 시/EP + ㅂ니다/EF + ./SF\n",
      "누구에요?\t누구/NP + 이/VCP + 에/EF + 요/JX + ?/SF\n",
      "갑시다.\t가/VV + ㅂ시다/EF + ./SF\n",
      "만듭시다.노세요.\t만/IC + 들/VV + ㅂ/EF + 시/EP + 다/EF + ./SF + 놀/VV + 시/EP + 어요/EF + ./SF\n",
      "물건을\t물건/NNG + 을/JKO\n",
      "미세요.\t미/VA + 시/EP + 어요/EF + ./SF\n",
      "저기\t저기/NP\n",
      "벽을\t벽/NNG + 을/JKO\n",
      "함께\t함께/MAG\n",
      "밉시다.\t밉/VA + 시/EP + 다/EF + ./SF\n",
      "선생님께서\t선생/NNG + 님/XSN + 께서/JKS\n",
      "누구보다\t누구/NP + 보다/JKB\n",
      "빠르게\t빠르/VA + 게/EC\n",
      "오십니다.\t오/VV + 시/EP + ㅂ니다/EF + ./SF\n",
      "근데\t근데/MAJ\n",
      "이제\t이제/MAG\n",
      "와서\t오/VV + 아서/EC\n",
      "절반만\t절반/NNG + 만/JX\n",
      "선적한\t선적/NNG + 하/XSV + ㄴ/ETM\n",
      "이유가\t이유/NNG + 가/JKS\n",
      "뭐예요.\t뭐/NP + 이/VCP + 에요/EF + ./SF\n",
      "먹읍시다.\t먹/VV + 읍시다/EF + ./SF\n",
      "빨리\t빨리/MAG\n",
      "놉시다.저기까지는\t놉시/VV + 다/EF + ./SF + 저기/NP + 까지/JX + 는/JX\n",
      "걸읍시다.\t것/NNB + ㄹ/JKO + 읍시다/EF + ./SF\n",
      "우리\t우리/NP\n",
      "이제\t이제/MAG\n",
      "재미있게\t재미있/VA + 게/EC\n",
      "놉시다.\t놀/VV + ㅂ/EF + 시/EP + 다/EF + ./SF\n",
      "빠르게\t빠르/VA + 게/EC\n",
      "선을\t선/NNG + 을/JKO\n",
      "그읍시다.\t그/MM + 읍/EF + 시/EP + 다/EF + ./SF\n",
      "갑시다.\t가/VV + ㅂ시다/EF + ./SF\n",
      "먹읍시다.\t먹/VV + 읍시다/EF + ./SF\n",
      "자릅시다.\t자르/VV + ㅂ시다/EF + ./SF\n"
     ]
    }
   ],
   "source": [
    "for word in khai.analyze(txt):\n",
    "    print(word)"
   ]
  },
  {
   "cell_type": "code",
   "execution_count": 67,
   "id": "5c452134",
   "metadata": {},
   "outputs": [],
   "source": [
    "txt = '괜찮으시나요? 먹으시나요? 먹으세요? 알고 주무세요? 죄송해요.'"
   ]
  },
  {
   "cell_type": "code",
   "execution_count": 68,
   "id": "f4da1a43",
   "metadata": {},
   "outputs": [
    {
     "name": "stdout",
     "output_type": "stream",
     "text": [
      "['괜찮/VA', '으시/EP', '나요/EF', '?/SF', '먹/VV', '으시/EP', '나요/EF', '?/SF', '먹/VV', '으세요/EF', '?/SF', '알/VV', '고/EC', '주무세요/VV+EF', '?/SF', '죄송/XR', '해요/XSA+EF', './SF']\n"
     ]
    }
   ],
   "source": [
    "mecab = mec.pos(txt, flatten=True, join=True)\n",
    "print(mecab)"
   ]
  },
  {
   "cell_type": "code",
   "execution_count": 69,
   "id": "de208dd7",
   "metadata": {},
   "outputs": [
    {
     "name": "stdout",
     "output_type": "stream",
     "text": [
      "괜찮으시나요?\t괜찮/VA + 으시/EP + 나요/EF + ?/SF\n",
      "먹으시나요?\t먹/VV + 으시/EP + 나요/EF + ?/SF\n",
      "먹으세요?\t먹/VV + 으시/EP + 어요/EF + ?/SF\n",
      "알고\t알/VV + 고/EC\n",
      "주무세요?\t주무/NNG + 세요/EF + ?/SF\n",
      "죄송해요.\t죄송/XR + 하/XSA + 아요/EF + ./SF\n"
     ]
    }
   ],
   "source": [
    "for word in khai.analyze(txt):\n",
    "    print(word)"
   ]
  },
  {
   "cell_type": "code",
   "execution_count": null,
   "id": "8ce538ba",
   "metadata": {},
   "outputs": [],
   "source": []
  }
 ],
 "metadata": {
  "kernelspec": {
   "display_name": "Python 3",
   "language": "python",
   "name": "python3"
  },
  "language_info": {
   "codemirror_mode": {
    "name": "ipython",
    "version": 3
   },
   "file_extension": ".py",
   "mimetype": "text/x-python",
   "name": "python",
   "nbconvert_exporter": "python",
   "pygments_lexer": "ipython3",
   "version": "3.9.2"
  }
 },
 "nbformat": 4,
 "nbformat_minor": 5
}
