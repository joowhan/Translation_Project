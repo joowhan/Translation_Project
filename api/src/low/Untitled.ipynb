{
 "cells": [
  {
   "cell_type": "code",
   "execution_count": 1,
   "id": "3846e041-75d3-40a8-a710-45bd9279f2c0",
   "metadata": {},
   "outputs": [],
   "source": [
    "import is_horl as is_horl"
   ]
  },
  {
   "cell_type": "code",
   "execution_count": 2,
   "id": "48ed3c96-355a-4120-a314-5d16016feba7",
   "metadata": {},
   "outputs": [
    {
     "name": "stdout",
     "output_type": "stream",
     "text": [
      "다음 문장은 반말입니다. 문장이 변경되지 않습니다.\n"
     ]
    }
   ],
   "source": [
    "txt = \"누구예요?\"\n",
    "hi = is_horl.isHigh()\n",
    "detect=hi.isThisHigh(txt)\n",
    "hi.getState(detect)   "
   ]
  },
  {
   "cell_type": "code",
   "execution_count": null,
   "id": "6fbe4c0f-06dd-4849-8899-e42a71c5b571",
   "metadata": {},
   "outputs": [],
   "source": []
  }
 ],
 "metadata": {
  "kernelspec": {
   "display_name": "Python 3",
   "language": "python",
   "name": "python3"
  },
  "language_info": {
   "codemirror_mode": {
    "name": "ipython",
    "version": 3
   },
   "file_extension": ".py",
   "mimetype": "text/x-python",
   "name": "python",
   "nbconvert_exporter": "python",
   "pygments_lexer": "ipython3",
   "version": "3.9.2"
  }
 },
 "nbformat": 4,
 "nbformat_minor": 5
}
