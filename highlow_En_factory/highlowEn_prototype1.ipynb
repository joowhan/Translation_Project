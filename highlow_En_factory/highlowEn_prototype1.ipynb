{
 "cells": [
  {
   "cell_type": "code",
   "execution_count": 4,
   "id": "603533c4",
   "metadata": {},
   "outputs": [],
   "source": [
    "import nltk\n",
    "#from eunjeon import Mecab\n",
    "from konlpy.tag import Mecab\n",
    "import re"
   ]
  },
  {
   "cell_type": "code",
   "execution_count": 5,
   "id": "4dae5484",
   "metadata": {},
   "outputs": [
    {
     "name": "stdout",
     "output_type": "stream",
     "text": [
      "['beautiful', 'Emma', 'refused', 'to', 'permit', 'us', 'to', 'obtain', 'the', 'refuse', 'permit']\n",
      "[('beautiful', 'JJ'), ('Emma', 'NNP'), ('refused', 'VBD'), ('to', 'TO'), ('permit', 'VB'), ('us', 'PRP'), ('to', 'TO'), ('obtain', 'VB'), ('the', 'DT'), ('refuse', 'NN'), ('permit', 'NN')]\n"
     ]
    },
    {
     "name": "stderr",
     "output_type": "stream",
     "text": [
      "[nltk_data] Downloading package punkt to\n",
      "[nltk_data]     /Users/kimjoowhan/nltk_data...\n",
      "[nltk_data]   Package punkt is already up-to-date!\n"
     ]
    }
   ],
   "source": [
    "text = \"beautiful Emma refused to permit us to obtain the refuse permit\"\n",
    "\n",
    "nltk.download('punkt')\n",
    "words = nltk.tokenize.word_tokenize(text)\n",
    "print(words)\n",
    "print(nltk.tag.pos_tag(words)) "
   ]
  },
  {
   "cell_type": "code",
   "execution_count": 6,
   "id": "e9567992",
   "metadata": {},
   "outputs": [],
   "source": [
    "lis_high = ['Mr.','Ms.','Mrs.']\n",
    "def rememberSpace(lis, input):\n",
    "    \n",
    "    rlis = []\n",
    "    \n",
    "    for i in range(len(lis)):\n",
    "        if lis[i]==input:\n",
    "            rlis.append(i)\n",
    "            \n",
    "    for i in range(len(rlis)):\n",
    "        rlis[i] = rlis[i]-i      \n",
    "    return rlis\n",
    "\n",
    "def convertSpace(lis_space,lis_lis):\n",
    "    \n",
    "    rlis = []\n",
    "    k=0\n",
    "    for i in range(len(lis_lis)):\n",
    "        \n",
    "        if k in lis_space:\n",
    "            rlis.append(i)\n",
    "            \n",
    "        k = k+len(lis_lis[i])\n",
    "        \n",
    "    #print(rlis)  \n",
    "    return rlis\n",
    "\n",
    "def union(lis, lis_lis):\n",
    "    \n",
    "    k = 0\n",
    "    for i in lis:\n",
    "        lis_lis.insert(i+k,' ')\n",
    "        k = k+1\n",
    "\n",
    "def convert_low_en(input):\n",
    "    lis_tag = []\n",
    "    lis_word = []\n",
    "    stc = input\n",
    "    space_list = rememberSpace(stc,' ')\n",
    "    words = nltk.tokenize.word_tokenize(input)\n",
    "    an = nltk.tag.pos_tag(words)\n",
    "    for i in an:\n",
    "        lis_word.append(i[0])\n",
    "        lis_tag.append(i[1])\n",
    "        \n",
    "    space_location = convertSpace(space_list, lis_word)\n",
    "        \n",
    "    \n",
    "        \n",
    "    for i in range(len(lis_word)):\n",
    "        for j in lis_high:\n",
    "            if i<len(lis_word)-1:            \n",
    "                if (j in lis_word[i]) and lis_tag[i]=='NNP' and lis_tag[i+1]=='NNP':\n",
    "                    lis_word[i] = re.sub(j,'',lis_word[i])\n",
    "                if(j in lis_word[i]) and lis_tag[i]=='NNP':\n",
    "                    lis_word[i] = re.sub(j,'',lis_word[i])\n",
    "            else:\n",
    "                if(j in lis_word[i]) and lis_tag[i]=='NNP':\n",
    "                    lis_word[i] = re.sub(j,'',lis_word[i])\n",
    "    union(space_location, lis_word)\n",
    "    result = ''\n",
    "    for i in lis_word:\n",
    "        result = result+i\n",
    "    return result"
   ]
  },
  {
   "cell_type": "code",
   "execution_count": 3,
   "id": "b73480ef",
   "metadata": {},
   "outputs": [
    {
     "data": {
      "text/plain": [
       "\" Kim invented gibbson's method\""
      ]
     },
     "execution_count": 3,
     "metadata": {},
     "output_type": "execute_result"
    }
   ],
   "source": [
    "convert_low_en('Mr. Kim invented gibbson\\'s method')"
   ]
  },
  {
   "cell_type": "code",
   "execution_count": null,
   "id": "7122b1cb",
   "metadata": {},
   "outputs": [],
   "source": []
  }
 ],
 "metadata": {
  "kernelspec": {
   "display_name": "Python 3",
   "language": "python",
   "name": "python3"
  },
  "language_info": {
   "codemirror_mode": {
    "name": "ipython",
    "version": 3
   },
   "file_extension": ".py",
   "mimetype": "text/x-python",
   "name": "python",
   "nbconvert_exporter": "python",
   "pygments_lexer": "ipython3",
   "version": "3.9.2"
  }
 },
 "nbformat": 4,
 "nbformat_minor": 5
}
