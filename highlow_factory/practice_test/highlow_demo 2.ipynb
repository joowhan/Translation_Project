{
 "cells": [
  {
   "cell_type": "code",
   "execution_count": 1,
   "id": "2e267f53",
   "metadata": {},
   "outputs": [],
   "source": [
    "from tqdm.auto import tqdm\n",
    "from kiwipiepy import Kiwi\n",
    "import re\n",
    "\n",
    "lis = [\n",
    "    [['ㅈ','ㅓ','_','ㄴ','ㅡ','ㄴ'],['ㄴ','ㅏ','_','ㄴ','ㅡ','ㄴ']],\n",
    "    [[' ','ㅈ','ㅓ','ㄴ',' '],['ㄴ','ㅏ','_','ㄴ','ㅡ','ㄴ']],\n",
    "    [['ㅇ','ㅓ','_','ㅇ','ㅛ','_'],['ㄷ','ㅏ','_']]\n",
    "\n",
    "]\n",
    "\n",
    "lili = [\n",
    "    [\"ㅂ니다\",\"ㄴ다\"],\n",
    "    [\"전 \",\"나는 \"],\n",
    "    [\"줘요\",\"줘\"],\n",
    "    [\" 합니다\",\" 한다\"],\n",
    "    [\"하세요\",\"해라\"],\n",
    "    [\"저는\",\"나는\"],\n",
    "    [\"제가\",\"내가\"],\n",
    "    [\"습니다\",\"다\"] \n",
    "]\n",
    "\n",
    "# 초성 리스트. 00 ~ 18\n",
    "CHOSUNG_LIST = ['ㄱ', 'ㄲ', 'ㄴ', 'ㄷ', 'ㄸ', 'ㄹ', 'ㅁ', 'ㅂ', 'ㅃ', 'ㅅ', 'ㅆ', 'ㅇ', 'ㅈ', 'ㅉ', 'ㅊ', 'ㅋ', 'ㅌ', 'ㅍ', 'ㅎ']\n",
    "# 중성 리스트. 00 ~ 20\n",
    "JUNGSUNG_LIST = ['ㅏ', 'ㅐ', 'ㅑ', 'ㅒ', 'ㅓ', 'ㅔ', 'ㅕ', 'ㅖ', 'ㅗ', 'ㅘ', 'ㅙ', 'ㅚ', 'ㅛ', 'ㅜ', 'ㅝ', 'ㅞ', 'ㅟ', 'ㅠ', 'ㅡ', 'ㅢ', 'ㅣ']\n",
    "# 종성 리스트. 00 ~ 27 + 1(1개 없음)\n",
    "JONGSUNG_LIST = ['_', 'ㄱ', 'ㄲ', 'ㄳ', 'ㄴ', 'ㄵ', 'ㄶ', 'ㄷ', 'ㄹ', 'ㄺ', 'ㄻ', 'ㄼ', 'ㄽ', 'ㄾ', 'ㄿ', 'ㅀ', 'ㅁ', 'ㅂ', 'ㅄ', 'ㅅ', 'ㅆ', 'ㅇ', 'ㅈ', 'ㅊ', 'ㅋ', 'ㅌ', 'ㅍ', 'ㅎ']\n",
    "\n",
    "def tojamo(korean_word):\n",
    "    r_lst = []\n",
    "    for w in list(korean_word.strip()):\n",
    "        ## 영어인 경우 구분해서 작성함. \n",
    "        if '가'<=w<='힣':\n",
    "            ## 588개 마다 초성이 바뀜. \n",
    "            ch1 = (ord(w) - ord('가'))//588\n",
    "            ## 중성은 총 28가지 종류\n",
    "            ch2 = ((ord(w) - ord('가')) - (588*ch1)) // 28\n",
    "            ch3 = (ord(w) - ord('가')) - (588*ch1) - 28*ch2\n",
    "            r_lst.append([CHOSUNG_LIST[ch1], JUNGSUNG_LIST[ch2], JONGSUNG_LIST[ch3]])\n",
    "        else:\n",
    "            r_lst.append([w])\n",
    "    return r_lst\n",
    "\n",
    "def to1dim(input):\n",
    "    result=[]\n",
    "    for i in input:\n",
    "        for j in i:\n",
    "            result.append(j)\n",
    "    return result\n",
    "\n",
    "def to2dim(input):\n",
    "    result = []\n",
    "    li = []\n",
    "    for i in input:\n",
    "        if i == ' ':\n",
    "            result.append([' '])\n",
    "        else:\n",
    "            li.append(i)\n",
    "        if len(li)==3:\n",
    "            result.append(li)\n",
    "            li = []\n",
    "    return result\n",
    "\n",
    "def makeone(input):\n",
    "    result = ''\n",
    "    li = ''\n",
    "    for i in input:\n",
    "        if i[0]==' ':\n",
    "            result = result+' '\n",
    "        else:\n",
    "            ind = ord('가')\n",
    "            ind +=CHOSUNG_LIST.index(i[0])*588\n",
    "            ind +=JUNGSUNG_LIST.index(i[1])*28\n",
    "            ind +=JONGSUNG_LIST.index(i[2])\n",
    "            result = result+chr(ind)\n",
    "    return result\n",
    "        \n",
    "def li2str(input):\n",
    "    st = \"\"\n",
    "    for i in input:\n",
    "        st = st+i\n",
    "    return st\n",
    "\n",
    "def str2li(input):\n",
    "    li = []\n",
    "    for i in range(len(input)):\n",
    "        li.append(input[i])\n",
    "    return li\n",
    "\n",
    "def makejamodict(input):\n",
    "    result = []\n",
    "    for i in input:\n",
    "        bullet = []\n",
    "        one = []\n",
    "        two = []\n",
    "        gre1 = tojamo(i[0])\n",
    "        for j in gre1:\n",
    "            for k in j:\n",
    "                one.append(k)\n",
    "        bullet.append(one)\n",
    "        gre2 = tojamo(i[1])\n",
    "        for j in gre2:\n",
    "            for k in j:\n",
    "                two.append(k)\n",
    "        bullet.append(two)\n",
    "        result.append(bullet)\n",
    "    return result\n",
    "\n",
    "def makestrdict(input):\n",
    "    result = []\n",
    "    for i in input:\n",
    "        bullet = []\n",
    "        gre1 = li2str(i[0])\n",
    "        gre2 = li2str(i[1])\n",
    "        bullet.append(gre1)\n",
    "        bullet.append(gre2)\n",
    "        result.append(bullet)\n",
    "    return result\n",
    "\n",
    "#strlis = makestrdict(lis)\n",
    "\n",
    "strlis = makejamodict(lili)\n",
    "strlis = makestrdict(strlis)\n",
    "\n",
    "class Changer(object):\n",
    "    def __init__(self):\n",
    "        print('the changer starts!')\n",
    "        \n",
    "    def high_low(self, stc):\n",
    "        result = stc\n",
    "        result = tojamo(result)\n",
    "        result = to1dim(result)\n",
    "        result = li2str(result)#string으로 변경해 준다\n",
    "        for i in range(len(strlis)):\n",
    "            result = re.sub(strlis[i][0],strlis[i][1],result)\n",
    "        result = str2li(result)\n",
    "        result = to2dim(result)\n",
    "        result = makeone(result)\n",
    "        return result\n",
    "    \n",
    "    def processText(self, stc):\n",
    "        \n",
    "        result = stc\n",
    "        res = self.high_low(result)\n",
    "        return res\n",
    "    \n",
    "\n"
   ]
  },
  {
   "cell_type": "code",
   "execution_count": 2,
   "id": "59c8bb3c",
   "metadata": {},
   "outputs": [
    {
     "name": "stdout",
     "output_type": "stream",
     "text": [
      "[[['ㅂ', 'ㄴ', 'ㅣ', '_', 'ㄷ', 'ㅏ', '_'], ['ㄴ', 'ㄷ', 'ㅏ', '_']], [['ㅈ', 'ㅓ', 'ㄴ'], ['ㄴ', 'ㅏ', '_', 'ㄴ', 'ㅡ', 'ㄴ']], [['ㅈ', 'ㅝ', '_', 'ㅇ', 'ㅛ', '_'], ['ㅈ', 'ㅝ', '_']], [['ㅎ', 'ㅏ', 'ㅂ', 'ㄴ', 'ㅣ', '_', 'ㄷ', 'ㅏ', '_'], ['ㅎ', 'ㅏ', 'ㄴ', 'ㄷ', 'ㅏ', '_']], [['ㅎ', 'ㅏ', '_', 'ㅅ', 'ㅔ', '_', 'ㅇ', 'ㅛ', '_'], ['ㅎ', 'ㅐ', '_', 'ㄹ', 'ㅏ', '_']], [['ㅈ', 'ㅓ', '_', 'ㄴ', 'ㅡ', 'ㄴ'], ['ㄴ', 'ㅏ', '_', 'ㄴ', 'ㅡ', 'ㄴ']], [['ㅈ', 'ㅔ', '_', 'ㄱ', 'ㅏ', '_'], ['ㄴ', 'ㅐ', '_', 'ㄱ', 'ㅏ', '_']], [['ㅅ', 'ㅡ', 'ㅂ', 'ㄴ', 'ㅣ', '_', 'ㄷ', 'ㅏ', '_'], ['ㄷ', 'ㅏ', '_']]]\n"
     ]
    }
   ],
   "source": [
    "la = makejamodict(lili)\n",
    "print(la)"
   ]
  },
  {
   "cell_type": "code",
   "execution_count": 3,
   "id": "36708e6e",
   "metadata": {},
   "outputs": [
    {
     "data": {
      "text/plain": [
       "[[['ㅂ', 'ㄴ', 'ㅣ', '_', 'ㄷ', 'ㅏ', '_'], ['ㄴ', 'ㄷ', 'ㅏ', '_']],\n",
       " [['ㅈ', 'ㅓ', 'ㄴ'], ['ㄴ', 'ㅏ', '_', 'ㄴ', 'ㅡ', 'ㄴ']],\n",
       " [['ㅈ', 'ㅝ', '_', 'ㅇ', 'ㅛ', '_'], ['ㅈ', 'ㅝ', '_']],\n",
       " [['ㅎ', 'ㅏ', 'ㅂ', 'ㄴ', 'ㅣ', '_', 'ㄷ', 'ㅏ', '_'],\n",
       "  ['ㅎ', 'ㅏ', 'ㄴ', 'ㄷ', 'ㅏ', '_']],\n",
       " [['ㅎ', 'ㅏ', '_', 'ㅅ', 'ㅔ', '_', 'ㅇ', 'ㅛ', '_'],\n",
       "  ['ㅎ', 'ㅐ', '_', 'ㄹ', 'ㅏ', '_']],\n",
       " [['ㅈ', 'ㅓ', '_', 'ㄴ', 'ㅡ', 'ㄴ'], ['ㄴ', 'ㅏ', '_', 'ㄴ', 'ㅡ', 'ㄴ']],\n",
       " [['ㅈ', 'ㅔ', '_', 'ㄱ', 'ㅏ', '_'], ['ㄴ', 'ㅐ', '_', 'ㄱ', 'ㅏ', '_']],\n",
       " [['ㅅ', 'ㅡ', 'ㅂ', 'ㄴ', 'ㅣ', '_', 'ㄷ', 'ㅏ', '_'], ['ㄷ', 'ㅏ', '_']]]"
      ]
     },
     "execution_count": 3,
     "metadata": {},
     "output_type": "execute_result"
    }
   ],
   "source": [
    "la"
   ]
  },
  {
   "cell_type": "code",
   "execution_count": 4,
   "id": "c3771f19",
   "metadata": {},
   "outputs": [
    {
     "data": {
      "text/plain": [
       "[['ㅂㄴㅣ_ㄷㅏ_', 'ㄴㄷㅏ_'],\n",
       " ['ㅈㅓㄴ', 'ㄴㅏ_ㄴㅡㄴ'],\n",
       " ['ㅈㅝ_ㅇㅛ_', 'ㅈㅝ_'],\n",
       " ['ㅎㅏㅂㄴㅣ_ㄷㅏ_', 'ㅎㅏㄴㄷㅏ_'],\n",
       " ['ㅎㅏ_ㅅㅔ_ㅇㅛ_', 'ㅎㅐ_ㄹㅏ_'],\n",
       " ['ㅈㅓ_ㄴㅡㄴ', 'ㄴㅏ_ㄴㅡㄴ'],\n",
       " ['ㅈㅔ_ㄱㅏ_', 'ㄴㅐ_ㄱㅏ_'],\n",
       " ['ㅅㅡㅂㄴㅣ_ㄷㅏ_', 'ㄷㅏ_']]"
      ]
     },
     "execution_count": 4,
     "metadata": {},
     "output_type": "execute_result"
    }
   ],
   "source": [
    "ro = makestrdict(la)\n",
    "ro"
   ]
  },
  {
   "cell_type": "code",
   "execution_count": 5,
   "id": "6991d03c",
   "metadata": {},
   "outputs": [
    {
     "name": "stdout",
     "output_type": "stream",
     "text": [
      "the changer starts!\n",
      "정말 잘 한다\n"
     ]
    }
   ],
   "source": [
    "txt = '정말 잘 합니다'\n",
    "ch = Changer()\n",
    "tt = ch.processText(txt)\n",
    "print(tt)"
   ]
  },
  {
   "cell_type": "code",
   "execution_count": null,
   "id": "60e29088",
   "metadata": {},
   "outputs": [],
   "source": []
  }
 ],
 "metadata": {
  "kernelspec": {
   "display_name": "Python 3",
   "language": "python",
   "name": "python3"
  },
  "language_info": {
   "codemirror_mode": {
    "name": "ipython",
    "version": 3
   },
   "file_extension": ".py",
   "mimetype": "text/x-python",
   "name": "python",
   "nbconvert_exporter": "python",
   "pygments_lexer": "ipython3",
   "version": "3.9.2"
  }
 },
 "nbformat": 4,
 "nbformat_minor": 5
}
