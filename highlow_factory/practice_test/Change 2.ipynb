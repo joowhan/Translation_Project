{
 "cells": [
  {
   "cell_type": "code",
   "execution_count": 1,
   "id": "ae2c0385",
   "metadata": {},
   "outputs": [],
   "source": [
    "import re\n",
    "import hgtk\n",
    "from tqdm.auto import tqdm\n",
    "from kiwipiepy import Kiwi\n",
    "\n",
    "lis = [\n",
    "    [\"저는\",\"나는\"],\n",
    "    [\"제가\",\"내가\"],\n",
    "    [\"습니다\",\"다\"],\n",
    "    [\"어요\", \"어\"],\n",
    "    [\"입니다.\", \"이다.\"],\n",
    "    [\"합니다.\", \"한다.\"],\n",
    "    [\" 저는\", \" 나는\"],\n",
    "    [\"했습니다.\", \"했다.\"],\n",
    "    [\"봤습니다.\", \"봤다.\"],\n",
    "    [\"쳤습니다.\",\"쳤다.\"],\n",
    "    [\"쌌습니다.\",\"쌌다.\"],\n",
    "    [\"해주세요.\", \"해요.\"],\n",
    "    [\"샀습니다.\",\"샀다.\"],\n",
    "    [\"었습니다.\",\"었다.\"],\n",
    "    [\"먹습니다.\",\"먹다.\"],\n",
    "    [\"있습니다.\", \"있다.\"],\n",
    "    [\"좋습니다.\", \"좋다.\"],\n",
    "    [\"많습니다.\", \"많다.\"],\n",
    "    [\"됩니다.\", \"된다.\"],\n",
    "    [\"없습니다.\", \"없다.\"],\n",
    "    [\"하겠습니다.\",\"하겠다.\"],\n",
    "    [\"다가옵니다.\",\"다가온다.\"],\n",
    "    [\"필수입니다.\",\"필수다.\"],\n",
    "    [\"생깁니다.\",\"생긴다.\"],\n",
    "    [\"않습니다.\",\"않는다.\"],\n",
    "    [\"보겠습니다.\",\"보겠다.\"],\n",
    "    [\"하십니다.\",\"하신다.\"],\n",
    "    [\"가능합니다.\",\"가능하다.\"],\n",
    "    [\"하였습니다.\", \"하였다.\"],\n",
    "    [\"중요합니다.\" , \"중요하다.\"],\n",
    "    [\"바랍니다.\",\"바란다.\"],\n",
    "    [\"나옵니다.\",\"나온다.\"],\n",
    "    [\"놓았습니다.\", \"놓았다.\"],\n",
    "    [\"어렵습니다.\", \"어렵다.\"]\n",
    "]\n",
    "\n",
    "class Changer(object):\n",
    "    def __init__(self):\n",
    "        print('the changer starts!')\n",
    "        \n",
    "    def high_low(self, stc):\n",
    "        result = stc\n",
    "        for i in range(len(lis)):\n",
    "            result = re.sub(lis[i][0],lis[i][1],result)\n",
    "        return result\n",
    "    \n",
    "    def processText(self, stc):\n",
    "        \n",
    "        result = stc\n",
    "        res = self.high_low(result)\n",
    "        return res\n"
   ]
  },
  {
   "cell_type": "code",
   "execution_count": null,
   "id": "83aa76f1",
   "metadata": {},
   "outputs": [],
   "source": []
  }
 ],
 "metadata": {
  "kernelspec": {
   "display_name": "Python 3",
   "language": "python",
   "name": "python3"
  },
  "language_info": {
   "codemirror_mode": {
    "name": "ipython",
    "version": 3
   },
   "file_extension": ".py",
   "mimetype": "text/x-python",
   "name": "python",
   "nbconvert_exporter": "python",
   "pygments_lexer": "ipython3",
   "version": "3.9.2"
  }
 },
 "nbformat": 4,
 "nbformat_minor": 5
}
